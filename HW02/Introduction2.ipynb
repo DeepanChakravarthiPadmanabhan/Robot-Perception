{
 "cells": [
  {
   "cell_type": "markdown",
   "metadata": {
    "deletable": false,
    "editable": false,
    "nbgrader": {
     "cell_type": "markdown",
     "checksum": "f4ab68d8aa88542b7c4bd8ef89666bf5",
     "grade": false,
     "grade_id": "cell-95ba40ad3c8cbe21",
     "locked": true,
     "schema_version": 3,
     "solution": false,
     "task": false
    }
   },
   "source": [
    "<div class=\"alert alert-block alert-danger\">\n",
    "\n",
    "# Robot Perception SS20\n",
    "<br>\n",
    "    \n",
    "# HW-02 Introduction 2\n",
    "\n",
    "\n",
    "</div>"
   ]
  },
  {
   "cell_type": "markdown",
   "metadata": {},
   "source": [
    "<div class=\"alert alert-block alert-danger\"/> \n",
    "\n",
    "#### Matriculation number\n",
    "    \n",
    "<em> Add your matriculation number here as well as your partners' if you work in a group.</em>\n",
    "    \n",
    "1. Deepan Chakravarthi Padmanabhan (9034816)\n",
    "\n",
    "2. Jaswanth Bandlamudi (9034908)\n",
    "\n",
    "3. Venkata Santosh Sai Ramireddy Muthireddy (9035746)"
   ]
  },
  {
   "cell_type": "markdown",
   "metadata": {
    "deletable": false,
    "editable": false,
    "nbgrader": {
     "cell_type": "markdown",
     "checksum": "f32e358a9dded7da20020f04b9643580",
     "grade": false,
     "grade_id": "task1_description",
     "locked": true,
     "schema_version": 3,
     "solution": false,
     "task": false
    }
   },
   "source": [
    "## 1. Pose 3 questions to lecture (including answers) "
   ]
  },
  {
   "cell_type": "markdown",
   "metadata": {},
   "source": [
    "1. What is the general difference between perspectivity and projectivity?\n",
    "\n",
    "\n",
    "* Homographies/Projectivity is a generalized case of central projections mapping one plane to another whereas, a special case of central projection is a perspectivity mapping between rectilinear (Euclidean) coordinate systems. \n",
    "* The distinctive property of a perspectivity is that lines joining corresponding points are concurrent.\n",
    "* The composition of two (or more) perspectivities is a projectivity, but not, in general, a perspectivity. \n",
    "* Perspectivity transformation matrix incorporates a 6 degrees of freedom (DOF). Projectivity transformation matrix incorporates a 8 DOF.\n",
    "\n",
    "\n",
    "2. What is the difference between projective transformation and affine transformation?\n",
    "\n",
    "\n",
    "* Affinities (6 dof) occupy the middle ground between similarities (4 dof) and projectivities (8 dof). They generalize similarities in that angles are not preserved, so that shapes are skewed under the transformation. On the other hand their action is homogeneous over the plane - scaling of area for object on a plane is invariant and orientation of transformed line depends on the initial orientation.\n",
    "* In projective transformation area scaling is dependent on the position in the plane and orientation of transformed object depends on the initial orientation and position.\n",
    "* The key difference between a projective and affine transformation is that the vector $\\mathbf{v}$ is not null for a projectivity. This is responsible for the non-linear effects of the projectivity. Compare the mapping of an ideal point $\\left(x_{1}, x_{2}, 0\\right)^{\\top}$ under an affinity and projectivity: \n",
    "\n",
    "Let us consider the affine transformation,\n",
    "\n",
    "$$\n",
    "\\left[\\begin{array}{ll}\n",
    "\\mathrm{A} & \\mathrm{t} \\\\\n",
    "0^{\\top} & 1\n",
    "\\end{array}\\right]\\left(\\begin{array}{l}\n",
    "x_{1} \\\\\n",
    "x_{2} \\\\\n",
    "0\n",
    "\\end{array}\\right)=\\left(\\begin{array}{c}\n",
    "\\mathrm{A}\\left(\\begin{array}{l}\n",
    "x_{1} \\\\\n",
    "x_{2}\n",
    "\\end{array}\\right) \\\\\n",
    "0\n",
    "\\end{array}\\right)\n",
    "$$\n",
    "\n",
    "Now consider the projective transformation,\n",
    "$$\n",
    "\\left[\\begin{array}{cc}\n",
    "\\mathrm{A} & \\mathrm{t} \\\\\n",
    "\\mathrm{v}^{\\top} & v\n",
    "\\end{array}\\right]\\left(\\begin{array}{c}\n",
    "x_{1} \\\\\n",
    "x_{2} \\\\\n",
    "0\n",
    "\\end{array}\\right)=\\left(\\begin{array}{c}\n",
    "\\mathrm{A}\\left(\\begin{array}{c}\n",
    "x_{1} \\\\\n",
    "x_{2}\n",
    "\\end{array}\\right) \\\\\n",
    "v_{1} x_{1}+v_{2} x_{2}\n",
    "\\end{array}\\right)\n",
    "$$\n",
    "\n",
    "In the first case the ideal point remains ideal (i.e. at infinity). In the second it is mapped\n",
    "to a finite point. It is this ability which allows a projective transformation to model vanishing points.\n",
    "\n",
    "\n",
    "\n",
    "3. Provide the decomposition of projective transformation and comment.\n",
    "\n",
    "A projective transformation can be decomposed into a chain of transformations as given below,\n",
    "\n",
    "$$\\mathrm{H}=\\mathrm{H}_{\\mathrm{s}} \\mathrm{H}_{\\mathrm{A}} \\mathrm{H}_{\\mathrm{E}}=\\left[\\begin{array}{cc}\n",
    "s \\mathrm{R} & \\mathrm{t} \\\\\n",
    "0^{\\top} & 1\n",
    "\\end{array}\\right]\\left[\\begin{array}{cc}\n",
    "\\mathrm{K} & 0 \\\\\n",
    "0^{\\top} & 1\n",
    "\\end{array}\\right]\\left[\\begin{array}{cc}\n",
    "\\mathrm{I} & 0 \\\\\n",
    "\\mathrm{v}^{\\top} & v\n",
    "\\end{array}\\right]=\\left[\\begin{array}{cc}\n",
    "\\mathrm{A} & \\mathrm{t} \\\\\n",
    "\\mathrm{v}^{\\top} & v\n",
    "\\end{array}\\right]$$\n",
    "\n",
    "where each matrix in the chain represents a transformation higher in the hierarchy than the previous one.\n",
    "\n",
    "with $A$ a non-singular matrix given by $A=s R K+t \\mathrm{v}^{T}$ , and $K$ an upper-triangular matrix\n",
    "normalized as $det K = 1$. This decomposition is valid provided $v \\neq$ 0, and is unique if\n",
    "$s$ is chosen positive.\n",
    "\n",
    "$\\mathrm{H}_{\\mathrm{E}}$  - 2 DOF - Elation - moves the line at infinity.\n",
    "\n",
    "$\\mathrm{H}_{\\mathrm{A}}$  - 2 DOF - Affects the affine properties.\n",
    "\n",
    "$\\mathrm{H}_{\\mathrm{s}}$  - 4 DOF - Similarity transform.\n",
    "\n",
    "\n"
   ]
  },
  {
   "cell_type": "markdown",
   "metadata": {
    "deletable": false,
    "editable": false,
    "nbgrader": {
     "cell_type": "markdown",
     "checksum": "9941d6cdf13735b1a87ee7908fc323b3",
     "grade": false,
     "grade_id": "task2_description",
     "locked": true,
     "schema_version": 3,
     "solution": false,
     "task": false
    }
   },
   "source": [
    "## 2. Read MVG / Hartley, Zisserman, 2.2, 2.3, 2.5., 2.7, 2.8, 2.9 "
   ]
  },
  {
   "cell_type": "markdown",
   "metadata": {},
   "source": [
    "<img src=\"data/Summary.jpg\"/>"
   ]
  },
  {
   "cell_type": "markdown",
   "metadata": {
    "deletable": false,
    "editable": false,
    "nbgrader": {
     "cell_type": "markdown",
     "checksum": "b57ce965c6bc984f458857cc714e6c34",
     "grade": false,
     "grade_id": "task3_description",
     "locked": true,
     "schema_version": 3,
     "solution": false,
     "task": false
    }
   },
   "source": [
    "## 3. Solve ANY two from 2.10.2"
   ]
  },
  {
   "cell_type": "markdown",
   "metadata": {
    "deletable": false,
    "editable": false,
    "nbgrader": {
     "cell_type": "markdown",
     "checksum": "bae0b82420f38ecf8d8beaf43dc68d10",
     "grade": false,
     "grade_id": "task3a_description",
     "locked": true,
     "schema_version": 3,
     "solution": false,
     "task": false
    }
   },
   "source": [
    "### a."
   ]
  },
  {
   "cell_type": "markdown",
   "metadata": {
    "deletable": false,
    "nbgrader": {
     "cell_type": "markdown",
     "checksum": "d2f2cb93d78b19a0d9ac67511c3fd2b8",
     "grade": true,
     "grade_id": "task3a",
     "locked": false,
     "points": 2,
     "schema_version": 3,
     "solution": true,
     "task": false
    }
   },
   "source": [
    "The questions solved for this section are: 2.10.2.1 [includes two subparts-> a and b]and 2.10.2.2.\n",
    "\n",
    "The answers involving markdown solution for **2.10.2.1, b** and **2.10.2.2** have been written in **this cell** and sympy programmed solution for **2.10.2.1, a** has been provided in the next section (considering autograder we wrote the solutions within the given cells). \n",
    "\n",
    "\n",
    "## 2.10.2.1 Affine transformations\n",
    "\n",
    "## b.  Prove that under an affine transformation the ratio of lengths on parallel line segments is an invariant, but that the ratio of two lengths that are not parallel is not.\n",
    "\n",
    "## Answer:\n",
    "\n",
    "Let $U:\\left(u_{1}, u_{2}, 1\\right)$ and $V:\\left(v_{1}, v_{2}, 1\\right)$ be two points which are not on the ideal line, and let $U^{\\prime}:\\left(u_{1}^{\\prime}, u_{2}^{\\prime}, 1\\right)$ and $V:\\left(v_{1}^{\\prime}, v_{2}^{\\prime}, 1\\right)$ be their projected images under an arbitrary affine transformation.\n",
    "\n",
    "Affine transformation:\n",
    "\n",
    "$$\\left(\\begin{array}{l}x_1^{\\prime} \\\\ x_2^{\\prime} \\\\ x_3^{\\prime}\\end{array}\\right)=\\left[\\begin{array}{lll}a_{11} & a_{12} & t_{x} \\\\ a_{21} & a_{22} & t_{y} \\\\ 0 & 0 & 1\\end{array}\\right]\\left(\\begin{array}{l}x_1 \\\\ x_2 \\\\ x_3\\end{array}\\right)$$\n",
    "\n",
    "Neglecting the translation component,\n",
    "\n",
    "$$\\left(\\begin{array}{l}x_1^{\\prime} \\\\ x_2^{\\prime} \\\\ x_3^{\\prime}\\end{array}\\right)=\\left[\\begin{array}{lll}a_{11} & a_{12} & 0 \\\\ a_{21} & a_{22} & 0 \\\\ 0 & 0 & 1\\end{array}\\right]\\left(\\begin{array}{l}x_1 \\\\ x_2 \\\\ x_3\\end{array}\\right)$$\n",
    "\n",
    "$$\n",
    "\\begin{array}{c}\n",
    "x_{1}^{\\prime}=a_{11} x_{1}+a_{12} x_{2}+a_{13} x_{3} \\\\\n",
    "x_{2}^{\\prime}=a_{21} x_{1}+a_{22} x_{2}+a_{23} x_{3} \\\\\n",
    "x_{3}^{\\prime}=x_{3}\n",
    "\\end{array}\n",
    "$$\n",
    "Substituting $U$, $V$, $U^{\\prime}$, $V^{\\prime}$,\n",
    "\n",
    "$$\n",
    "\\begin{array}{c}\n",
    "u_{1}^{\\prime}=a_{11} u_{1}+a_{12} u_{2}+a_{13}  \\\\\n",
    "u_{2}^{\\prime}=a_{21} u_{1}+a_{22} u_{2}+a_{23}  \\\\\n",
    "\\end{array}\n",
    "$$\n",
    "\n",
    "$$\n",
    "\\begin{array}{c}\n",
    "v_{1}^{\\prime}=a_{11} v_{1}+a_{12} v_{2}+a_{13}  \\\\\n",
    "v_{2}^{\\prime}=a_{21} v_{1}+a_{22} v_{2}+a_{23}  \\\\\n",
    "\\end{array}\n",
    "$$\n",
    "\n",
    "Subtracting, $v_{1}^{\\prime} - u_{1}^{\\prime}$ and $v_{2}^{\\prime} - u_{2}^{\\prime}$, provides\n",
    "\n",
    "$$\n",
    "v_{1}^{\\prime}-u_{1}^{\\prime}=a_{11}\\left(v_{1}-u_{1}\\right)+a_{12}\\left(v_{2}-u_{2}\\right)\n",
    "$$\n",
    "$$\n",
    "v_{2}^{\\prime}-u_{2}^{\\prime}=a_{21}\\left(v_{1}-u_{1}\\right)+a_{22}\\left(v_{2}-u_{2}\\right)\n",
    "$$\n",
    "\n",
    "\n",
    "Now calculating, the ratio of square of distance between the UV before and after projection.\n",
    "\n",
    "\n",
    "The square of the ratio of the distance $\\left(U^{\\prime} V^{\\prime}\\right)$ to the distance $(U V)$:\n",
    "\n",
    "$$ \\frac{d^2_{u^{\\prime}v^{\\prime}}}{d^2_{uv}}=\n",
    "\\frac{(v_{1}^{\\prime}-u_{1}^{\\prime})^{2}+(v_{2}^{\\prime}-u_{2}^{\\prime})^2}{\\left(v_{1}-u_{1}\\right)^{2}+\\left(v_{2}-u_{2}\\right)^{2}}\n",
    "$$\n",
    "\n",
    "\n",
    "$$ \\frac{d^2_{u^{\\prime}v^{\\prime}}}{d^2_{uv}}=\n",
    "\\frac{[a_{11}(v_1 - u_1)+ a_{12} (v_2 - u_2)]^2+[a_{21} (v_1-u_1)+a_{22}(v_2-u_2)]^2}{\\left(v_{1}-u_{1}\\right)^{2}+\\left(v_{2}-u_{2}\\right)^{2}}\n",
    "$$\n",
    "\n",
    "\n",
    "$$ \\frac{d^2_{u^{\\prime}v^{\\prime}}}{d^2_{uv}}=\n",
    "\\frac{\\left(a_{11}^{2}+a_{21}^{2}\\right)\\left(v_{1}-u_{1}\\right)^{2}+2\\left(a_{11} a_{12}+a_{21} a_{22}\\right)\\left(v_{1}-u_{1}\\right)\\left(v_{2}-u_{2}\\right)+\\left(a_{12}^{2}+a_{22}^{2}\\right)\\left(v_{2}-u_{2}\\right)^{2}}{\\left(v_{1}-u_{1}\\right)^{2}+\\left(v_{2}-u_{2}\\right)^{2}}\n",
    "$$\n",
    "\n",
    "If $\\left(v_{1}-u_{1}\\right)=0,$ this expression reduces to $a_{12}^{2}+a_{22}^{2},$ which depends only on the coefficients in the equation of the given transformation. \n",
    "\n",
    "On the other hand, if $\\left(v_{1}-u_{1}\\right) \\neq 0,$ we can divide the numerator and the denominator of the last fraction by $\\left(v_{1}-u_{1}\\right)^{2} .$ Then, noting that $\\frac{v_{2}-u_{2}}{v_{1}-u_{1}}$ is just the slope, $m,$ of the line which contains the segment $U V,$ we have,\n",
    "\n",
    "$$\n",
    "\\frac{\\left(U^{\\prime} V^{\\prime}\\right)^{2}}{(U V)^{2}}=\\frac{\\left(a_{11}^{2}+a_{21}^{2}\\right)+2\\left(a_{11} a_{12}+a_{21} a_{22}\\right) m+\\left(a_{12}^{2}+a_{22}^{2}\\right) m^{2}}{1+m^{2}}\n",
    "$$\n",
    "\n",
    "\n",
    "\n",
    "Since this ratio of distance between two points depends only on the coefficients in the equations of the transformation and the slope of the given segment, we can conclude that an affine transformation multiplies the lengths of all segments in a given direction by a factor which depends only on the transformation and the given direction.\n",
    "\n",
    "This directly implies that under an affine transformation the ratio of lengths on parallel line segments is an invariant (as both have the same value for the slope m), but that the ratio of two lengths that are not parallel is not (as they have different values for the slope m).\n",
    "\n",
    "\n",
    "\n",
    "## 2.10.2.2 Projective transformations. Show that there is a three-parameter family of projective transformations which fix (as a set) a unit circle at the origin, i.e. a unit circle at the origin is mapped to a unit circle at the origin. What is the geometric interpretation of this family?\n",
    "\n",
    "## Answer:\n",
    "#### The General equation of a circle is \n",
    "\n",
    "$$ (x-a)^{2} + (y-b)^{2} = r^{2} $$ \n",
    "where (a,b) forms center of the circle and r is the radius\n",
    "\n",
    "Also given, It's an Unit circle and the center is at origin (0,0). \n",
    "\n",
    "So the circle equation is $ x^{2} + y^{2} - 1 = 0 $\n",
    "\n",
    "it is a conic with a coefficient matrix \n",
    "\n",
    "$$ C =  \\begin{bmatrix} 1 & 0 & 0\\\\ 0 & 1 & 0\\\\ 0 & 0 & -1 \\end{bmatrix} $$\n",
    "\n",
    "Also we can observe $ C = C^{-1} $ ----- $eq(1)$\n",
    "\n",
    "Under Projective transformation, the new conics coefficient matrix can be found using $ C' = H^{-T} C H^{-1} $  ------ $eq(2)$\n",
    "\n",
    "where $H$ is the Homogeneous matrix\n",
    "\n",
    "$$ H =  \\begin{bmatrix} h_{11} & h_{12} & h_{13}\\\\ h_{21} & h_{22} & h_{23}\\\\ h_{31} & h_{32} & h_{33} \\end{bmatrix} $$\n",
    "\n",
    "It's also mentioned that the unit circle at origin is transformed to an unit circle at origin, implies $C = C'$ ----- eq(3)\n",
    "\n",
    "From eq(2) and eq(3), $$ C = H^{-T} C H^{-1} $$\n",
    "\n",
    "To simplify , Applying inverse on both sides\n",
    "\n",
    "$$ C^{-1} = H C^{-1} H^{T} $$\n",
    "\n",
    "$$ C = H C H^{T} $$\n",
    "\n",
    "$$ \\begin{bmatrix} 1 & 0 & 0\\\\ 0 & 1 & 0\\\\ 0 & 0 & -1 \\end{bmatrix} = \\begin{bmatrix} h_{11} & h_{12} & h_{13}\\\\ h_{21} & h_{22} & h_{23}\\\\ h_{31} & h_{32} & h_{33} \\end{bmatrix} * \\begin{bmatrix} 1 & 0 & 0\\\\ 0 & 1 & 0\\\\ 0 & 0 & -1 \\end{bmatrix} * \\begin{bmatrix} h_{11} & h_{21} & h_{31}\\\\ h_{12} & h_{22} & h_{32}\\\\ h_{13} & h_{23} & h_{33} \\end{bmatrix} $$\n",
    "\n",
    "$$ \\begin{bmatrix} 1 & 0 & 0\\\\ 0 & 1 & 0\\\\ 0 & 0 & -1 \\end{bmatrix} = \\begin{bmatrix} h_{11} & h_{12} & -h_{13}\\\\ h_{21} & h_{22} & -h_{23}\\\\ h_{31} & h_{32} & -h_{33} \\end{bmatrix} * \\begin{bmatrix} h_{11} & h_{21} & h_{31}\\\\ h_{12} & h_{22} & h_{32}\\\\ h_{13} & h_{23} & h_{33} \\end{bmatrix} $$\n",
    "\n",
    "$$ \\begin{pmatrix}\n",
    "h_{11}^2 + h_{12}^2 - h_{13}^2 & h_{12}h_{22} + h_{11}h_{21} - h_{13}h_{23} & h_{12}h_{32} + h_{11}h_{31} - h_{13}h_{33}\n",
    "\\\\ h_{12}h_{22} + h_{11}h_{21} - h_{13}h_{23} & h_{21}^2 + h_{22}^2 - h_{23}^2 & h_{22}h_{32} + h_{21}h_{31} - h_{23}h_{33}\n",
    "\\\\ h_{12}h_{32} + h_{11}h_{31} - h_{13}h_{33} & h_{22}h_{32} + h_{21}h_{31} - h_{23}h_{33} & h_{31}^2 + h_{32}^2 - h_{33}^2\n",
    "\\end{pmatrix} = \\begin{pmatrix}\n",
    "1 & 0 & 0\n",
    "\\\\ 0 & 1 & 0\n",
    "\\\\ 0 & 0 & -1\n",
    "\\end{pmatrix} $$\n",
    "\n",
    "From the above matrix, following equations are derived\n",
    "\n",
    "$$ h_{11}^2 + h_{12}^2 - h_{13}^2 = 1 $$\n",
    "$$ h_{12}h_{22} + h_{11}h_{21} = h_{13}h_{23} $$\n",
    "$$ h_{12}h_{32} + h_{11}h_{31} = h_{13}h_{33} $$\n",
    "$$ h_{21}^2 + h_{22}^2 - h_{23}^2 = 1 $$\n",
    "$$ h_{22}h_{32} + h_{21}h_{31} = h_{23}h_{33} $$\n",
    "$$ h_{31}^2 + h_{32}^2 - h_{33}^2 = -1 $$\n",
    "\n",
    "The above equations imparts 6 constraints on the total of 9 unknowns. Hence, the resulting degrees of freedom are 9 - 6 = 3\n",
    "\n",
    "The resultant degrees of freedom being 3 shows that there is a three-parameter family of projective transformations which transforms a unit circle at origin to another unit circle at origin.\n",
    "\n",
    "In order to understand the geometric interpretation, The equation $H*C*H^{T}$ is to be solved in geometric way\n",
    "\n",
    "$$ \\begin{pmatrix}\n",
    "HCH^{T} & 0\n",
    "\\\\ 0 & 1\n",
    "\\end{pmatrix} = \\begin{pmatrix}\n",
    "C & 0\n",
    "\\\\ 0 & 1\n",
    "\\end{pmatrix} $$\n",
    "\n",
    "The quadric matrix $\\begin{pmatrix}\n",
    "C & 0\n",
    "\\\\ 0 & 1\n",
    "\\end{pmatrix} $ represents the set of projective transformation which preserves an unit circle in 2D after projective transformation.\n",
    "\n",
    "The matrix $\\begin{pmatrix}\n",
    "1 & 0 & 0 & 0 \\\\ 0 & 1 & 0 & 0\\\\ 0 & 0 & -1 & 0 \\\\ 0 & 0 & 0 & 1\n",
    "\\end{pmatrix}$ results in an equation $x^2 + y^2 - z^2 + 1 = 0$ , Which is a Hyperboloid.\n",
    "\n",
    "From the below diagram, We can realize that the function has following properties\n",
    "\n",
    "### 1) Symmetric for rotation along Z-axis, implies any rotation across Z-axis will preserve the unit circle after projective transformation. \n",
    "$$ \\begin{pmatrix}\n",
    "cos(\\theta) & -sin(\\theta) & 0 & 0\n",
    "\\\\ sin(\\theta) & cos(\\theta) & 0 & 0\n",
    "\\\\ 0 & 0 & 1 & 0\n",
    "\\\\ 0 & 0 & 0 & 1\n",
    "\\end{pmatrix} $$ The above homogeneous transformation preserves the unit circle even after the tranformation\n",
    "\n",
    "### 2) Mirror symmetry across a plane Z=0 , and perpendicular to xy plane.\n",
    "\n",
    "$$ \\begin{pmatrix}\n",
    "cos(\\alpha) & sin(\\alpha) & 0 & 0\n",
    "\\\\ sin(\\alpha) & -cos(\\alpha) & 0 & 0\n",
    "\\\\ 0 & 0 & 1 & 0\n",
    "\\\\ 0 & 0 & 0 & 1\n",
    "\\end{pmatrix} $$ Where $\\alpha$ is the angle held by plane with XZ axis.\n",
    "\n",
    "\n",
    "The above transformations preserve a unit circle at origin after applying.\n",
    "\n",
    "\n"
   ]
  },
  {
   "cell_type": "code",
   "execution_count": 7,
   "metadata": {},
   "outputs": [
    {
     "data": {
      "text/plain": [
       "<matplotlib.contour.QuadContourSet at 0x7f4f669931d0>"
      ]
     },
     "execution_count": 7,
     "metadata": {},
     "output_type": "execute_result"
    },
    {
     "data": {
      "image/png": "[encoded data removed]",
      "text/plain": [
       "<Figure size 432x288 with 1 Axes>"
      ]
     },
     "metadata": {
      "needs_background": "light"
     },
     "output_type": "display_data"
    }
   ],
   "source": [
    "import numpy as np  \n",
    "import matplotlib.pyplot as plt\n",
    "from mpl_toolkits import mplot3d\n",
    "\n",
    "x = np.linspace(-60,60,200)\n",
    "y = np.linspace(-60,60,200)\n",
    "\n",
    "X,Y = np.meshgrid(x,y)\n",
    "Z = np.sqrt(X**2 + Y**2 + 1)\n",
    "\n",
    "fig = plt.figure() # Create a new figure window\n",
    "ax = plt.axes(projection = '3d')\n",
    "ax.contour3D(X,Y,Z,50)\n",
    "ax.contour3D(X,Y,-Z,50)"
   ]
  },
  {
   "cell_type": "markdown",
   "metadata": {
    "deletable": false,
    "editable": false,
    "nbgrader": {
     "cell_type": "markdown",
     "checksum": "d248f7925ddacb30c23a5b35c97e4f60",
     "grade": false,
     "grade_id": "task3b_description",
     "locked": true,
     "schema_version": 3,
     "solution": false,
     "task": false
    }
   },
   "source": [
    "### b."
   ]
  },
  {
   "cell_type": "code",
   "execution_count": 110,
   "metadata": {
    "deletable": false,
    "nbgrader": {
     "cell_type": "code",
     "checksum": "1f16a363ca68b859c2afe62bbc7c85a7",
     "grade": true,
     "grade_id": "task3b",
     "locked": false,
     "points": 2,
     "schema_version": 3,
     "solution": true,
     "task": false
    },
    "scrolled": false
   },
   "outputs": [
    {
     "name": "stdout",
     "output_type": "stream",
     "text": [
      "Equation of conic in inhomogeneous coordinates:\n"
     ]
    },
    {
     "data": {
      "text/latex": [
       "$\\displaystyle a x^{2} + b x y + c y^{2} + d x + e y + f = 0$"
      ],
      "text/plain": [
       "Eq(a*x**2 + b*x*y + c*y**2 + d*x + e*y + f, 0)"
      ]
     },
     "metadata": {},
     "output_type": "display_data"
    },
    {
     "name": "stdout",
     "output_type": "stream",
     "text": [
      "Homogenizing the above equation gives:\n"
     ]
    },
    {
     "data": {
      "text/latex": [
       "$\\displaystyle \\frac{a x_{1}^{2} + b x_{1} x_{2} + c x_{2}^{2} + f x_{3}^{2} + x_{3} \\left(d x_{1} + e x_{2}\\right)}{x_{3}^{2}} = 0$"
      ],
      "text/plain": [
       "Eq((a*x1**2 + b*x1*x2 + c*x2**2 + f*x3**2 + x3*(d*x1 + e*x2))/x3**2, 0)"
      ]
     },
     "metadata": {},
     "output_type": "display_data"
    },
    {
     "name": "stdout",
     "output_type": "stream",
     "text": [
      "Matrix form is given:\n",
      "\n"
     ]
    },
    {
     "data": {
      "text/latex": [
       "$\\displaystyle X^{T} C X = 0$"
      ],
      "text/plain": [
       "Eq(X.T*C*X, 0)"
      ]
     },
     "metadata": {},
     "output_type": "display_data"
    },
    {
     "name": "stdout",
     "output_type": "stream",
     "text": [
      "Where C is conic coefficient matrix given by\n"
     ]
    },
    {
     "data": {
      "text/latex": [
       "$\\displaystyle \\left[\\begin{matrix}a & \\frac{b}{2} & \\frac{d}{2}\\\\\\frac{b}{2} & c & \\frac{e}{2}\\\\\\frac{d}{2} & \\frac{c}{2} & f\\end{matrix}\\right]$"
      ],
      "text/plain": [
       "Matrix([\n",
       "[  a, b/2, d/2],\n",
       "[b/2,   c, e/2],\n",
       "[d/2, c/2,   f]])"
      ]
     },
     "metadata": {},
     "output_type": "display_data"
    },
    {
     "name": "stdout",
     "output_type": "stream",
     "text": [
      "So discriminant of conic section is given by:\n"
     ]
    },
    {
     "data": {
      "text/latex": [
       "$\\displaystyle a c - \\frac{b^{2}}{4}$"
      ],
      "text/plain": [
       "a*c - b**2/4"
      ]
     },
     "metadata": {},
     "output_type": "display_data"
    },
    {
     "name": "stdout",
     "output_type": "stream",
     "text": [
      "If this discriminant = 0 it is parabola, <0 is hyperbola and >0 is ellipse.\n"
     ]
    },
    {
     "data": {
      "text/latex": [
       "$\\displaystyle a c - \\frac{b^{2}}{4} > 0$"
      ],
      "text/plain": [
       "a*c - b**2/4 > 0"
      ]
     },
     "metadata": {},
     "output_type": "display_data"
    },
    {
     "name": "stdout",
     "output_type": "stream",
     "text": [
      "Consider conic section as circle as per question so b=0. So C becomes as below\n",
      "So for circle discriminant is \n"
     ]
    },
    {
     "data": {
      "text/latex": [
       "$\\displaystyle a c > 0$"
      ],
      "text/plain": [
       "a*c > 0"
      ]
     },
     "metadata": {},
     "output_type": "display_data"
    },
    {
     "name": "stdout",
     "output_type": "stream",
     "text": [
      "New conic after transformation is given by:\n"
     ]
    },
    {
     "data": {
      "text/latex": [
       "$\\displaystyle \\left[\\begin{matrix}\\frac{a a_{22}^{2} + a_{21}^{2} c}{\\left(a_{11} a_{22} - a_{12} a_{21}\\right)^{2}} & - \\frac{a a_{12} a_{22} + a_{11} a_{21} c}{\\left(a_{11} a_{22} - a_{12} a_{21}\\right)^{2}} & \\frac{a a_{22} \\left(a_{12} \\left(a_{11} ty - a_{21} tx\\right) - tx \\left(a_{11} a_{22} - a_{12} a_{21}\\right)\\right) + a_{11} a_{21} c \\left(a_{11} ty - a_{21} tx\\right) + 0.5 a_{11} \\left(a_{11} a_{22} - a_{12} a_{21}\\right) \\left(- a_{21} e + a_{22} d\\right)}{a_{11} \\left(a_{11} a_{22} - a_{12} a_{21}\\right)^{2}}\\\\- \\frac{a a_{12} a_{22} + a_{11} a_{21} c}{\\left(a_{11} a_{22} - a_{12} a_{21}\\right)^{2}} & \\frac{a a_{12}^{2} + a_{11}^{2} c}{\\left(a_{11} a_{22} - a_{12} a_{21}\\right)^{2}} & \\frac{- a a_{12} \\left(a_{12} \\left(a_{11} ty - a_{21} tx\\right) - tx \\left(a_{11} a_{22} - a_{12} a_{21}\\right)\\right) - a_{11}^{2} c \\left(a_{11} ty - a_{21} tx\\right) + 0.5 a_{11} \\left(a_{11} a_{22} - a_{12} a_{21}\\right) \\left(a_{11} e - a_{12} d\\right)}{a_{11} \\left(a_{11} a_{22} - a_{12} a_{21}\\right)^{2}}\\\\\\frac{- a_{11} a_{21} c \\left(0.5 a_{11} a_{22} - a_{11} ty - 0.5 a_{12} a_{21} + a_{21} tx\\right) + a_{22} \\left(a \\left(a_{12} \\left(a_{11} ty - a_{21} tx\\right) - tx \\left(a_{11} a_{22} - a_{12} a_{21}\\right)\\right) + 0.5 a_{11} d \\left(a_{11} a_{22} - a_{12} a_{21}\\right)\\right)}{a_{11} \\left(a_{11} a_{22} - a_{12} a_{21}\\right)^{2}} & \\frac{a_{11}^{2} c \\left(0.5 a_{11} a_{22} - a_{11} ty - 0.5 a_{12} a_{21} + a_{21} tx\\right) - a_{12} \\left(a \\left(a_{12} \\left(a_{11} ty - a_{21} tx\\right) - tx \\left(a_{11} a_{22} - a_{12} a_{21}\\right)\\right) + 0.5 a_{11} d \\left(a_{11} a_{22} - a_{12} a_{21}\\right)\\right)}{a_{11} \\left(a_{11} a_{22} - a_{12} a_{21}\\right)^{2}} & \\frac{- a_{11}^{2} c \\left(a_{11} ty - a_{21} tx\\right) \\left(0.5 a_{11} a_{22} - a_{11} ty - 0.5 a_{12} a_{21} + a_{21} tx\\right) - 0.5 a_{11}^{2} e \\left(a_{11} a_{22} - a_{12} a_{21}\\right) \\left(a_{11} ty - a_{21} tx\\right) + a_{11}^{2} f \\left(a_{11} a_{22} - a_{12} a_{21}\\right)^{2} + 0.5 a_{11} d \\left(a_{11} a_{22} - a_{12} a_{21}\\right) \\left(a_{12} \\left(a_{11} ty - a_{21} tx\\right) - tx \\left(a_{11} a_{22} - a_{12} a_{21}\\right)\\right) + \\left(a \\left(a_{12} \\left(a_{11} ty - a_{21} tx\\right) - tx \\left(a_{11} a_{22} - a_{12} a_{21}\\right)\\right) + 0.5 a_{11} d \\left(a_{11} a_{22} - a_{12} a_{21}\\right)\\right) \\left(a_{12} \\left(a_{11} ty - a_{21} tx\\right) - tx \\left(a_{11} a_{22} - a_{12} a_{21}\\right)\\right)}{a_{11}^{2} \\left(a_{11} a_{22} - a_{12} a_{21}\\right)^{2}}\\end{matrix}\\right]$"
      ],
      "text/plain": [
       "Matrix([\n",
       "[                                                                                                                                      (a*a22**2 + a21**2*c)/(a11*a22 - a12*a21)**2,                                                                                                                                  -(a*a12*a22 + a11*a21*c)/(a11*a22 - a12*a21)**2,                                                                                                                                                                                                                                                          (a*a22*(a12*(a11*ty - a21*tx) - tx*(a11*a22 - a12*a21)) + a11*a21*c*(a11*ty - a21*tx) + 0.5*a11*(a11*a22 - a12*a21)*(-a21*e + a22*d))/(a11*(a11*a22 - a12*a21)**2)],\n",
       "[                                                                                                                                   -(a*a12*a22 + a11*a21*c)/(a11*a22 - a12*a21)**2,                                                                                                                                     (a*a12**2 + a11**2*c)/(a11*a22 - a12*a21)**2,                                                                                                                                                                                                                                                           (-a*a12*(a12*(a11*ty - a21*tx) - tx*(a11*a22 - a12*a21)) - a11**2*c*(a11*ty - a21*tx) + 0.5*a11*(a11*a22 - a12*a21)*(a11*e - a12*d))/(a11*(a11*a22 - a12*a21)**2)],\n",
       "[(-a11*a21*c*(0.5*a11*a22 - a11*ty - 0.5*a12*a21 + a21*tx) + a22*(a*(a12*(a11*ty - a21*tx) - tx*(a11*a22 - a12*a21)) + 0.5*a11*d*(a11*a22 - a12*a21)))/(a11*(a11*a22 - a12*a21)**2), (a11**2*c*(0.5*a11*a22 - a11*ty - 0.5*a12*a21 + a21*tx) - a12*(a*(a12*(a11*ty - a21*tx) - tx*(a11*a22 - a12*a21)) + 0.5*a11*d*(a11*a22 - a12*a21)))/(a11*(a11*a22 - a12*a21)**2), (-a11**2*c*(a11*ty - a21*tx)*(0.5*a11*a22 - a11*ty - 0.5*a12*a21 + a21*tx) - 0.5*a11**2*e*(a11*a22 - a12*a21)*(a11*ty - a21*tx) + a11**2*f*(a11*a22 - a12*a21)**2 + 0.5*a11*d*(a11*a22 - a12*a21)*(a12*(a11*ty - a21*tx) - tx*(a11*a22 - a12*a21)) + (a*(a12*(a11*ty - a21*tx) - tx*(a11*a22 - a12*a21)) + 0.5*a11*d*(a11*a22 - a12*a21))*(a12*(a11*ty - a21*tx) - tx*(a11*a22 - a12*a21)))/(a11**2*(a11*a22 - a12*a21)**2)]])"
      ]
     },
     "metadata": {},
     "output_type": "display_data"
    },
    {
     "name": "stdout",
     "output_type": "stream",
     "text": [
      "Determinant of new conic after transformatin is given by:\n"
     ]
    },
    {
     "data": {
      "text/latex": [
       "$\\displaystyle \\frac{a c}{a_{11}^{2} a_{22}^{2} - 2 a_{11} a_{12} a_{21} a_{22} + a_{12}^{2} a_{21}^{2}}$"
      ],
      "text/plain": [
       "a*c/(a11**2*a22**2 - 2*a11*a12*a21*a22 + a12**2*a21**2)"
      ]
     },
     "metadata": {},
     "output_type": "display_data"
    },
    {
     "name": "stdout",
     "output_type": "stream",
     "text": [
      "Squared determinant of matrix A\n"
     ]
    },
    {
     "data": {
      "text/latex": [
       "$\\displaystyle a_{11}^{2} a_{22}^{2} - 2 a_{11} a_{12} a_{21} a_{22} + a_{12}^{2} a_{21}^{2}$"
      ],
      "text/plain": [
       "a11**2*a22**2 - 2*a11*a12*a21*a22 + a12**2*a21**2"
      ]
     },
     "metadata": {},
     "output_type": "display_data"
    },
    {
     "name": "stdout",
     "output_type": "stream",
     "text": [
      "In the above equation we already know numerator is >0 as we start with assumption that given conic is circle and denominator is nothing but squared det(A). So both the numerator and denominator are always positive. So we can conclude that discriminant of new conic after transformation is positive and therefore new conic is a ellipse.\n",
      "We can also observe that elements at (1,2) and (2,1) are non-zero, so from above two conclusions we can conclude conic after transformation is ellipse.\n",
      "====================================================\n",
      "So for ellipse, discriminant is \n"
     ]
    },
    {
     "data": {
      "text/latex": [
       "$\\displaystyle a c - \\frac{b^{2}}{4} > 0$"
      ],
      "text/plain": [
       "a*c - b**2/4 > 0"
      ]
     },
     "metadata": {},
     "output_type": "display_data"
    },
    {
     "name": "stdout",
     "output_type": "stream",
     "text": [
      "New conic after transformation is given by:\n"
     ]
    },
    {
     "data": {
      "text/latex": [
       "$\\displaystyle \\left[\\begin{matrix}\\frac{a_{21} \\left(2 a_{21} c - a_{22} b\\right) + a_{22} \\left(2 a a_{22} - a_{21} b\\right)}{2 \\left(a_{11} a_{22} - a_{12} a_{21}\\right)^{2}} & - \\frac{a_{11} \\left(2 a_{21} c - a_{22} b\\right) + a_{12} \\left(2 a a_{22} - a_{21} b\\right)}{2 \\left(a_{11} a_{22} - a_{12} a_{21}\\right)^{2}} & \\frac{a_{11} \\left(a_{11} a_{22} - a_{12} a_{21}\\right) \\left(- a_{21} e + a_{22} d\\right) + a_{11} \\left(a_{11} ty - a_{21} tx\\right) \\left(2 a_{21} c - a_{22} b\\right) + \\left(2 a a_{22} - a_{21} b\\right) \\left(a_{12} \\left(a_{11} ty - a_{21} tx\\right) - tx \\left(a_{11} a_{22} - a_{12} a_{21}\\right)\\right)}{2 a_{11} \\left(a_{11} a_{22} - a_{12} a_{21}\\right)^{2}}\\\\- \\frac{a_{21} \\left(2 a_{11} c - a_{12} b\\right) + a_{22} \\left(2 a a_{12} - a_{11} b\\right)}{2 \\left(a_{11} a_{22} - a_{12} a_{21}\\right)^{2}} & \\frac{a_{11} \\left(2 a_{11} c - a_{12} b\\right) + a_{12} \\left(2 a a_{12} - a_{11} b\\right)}{2 \\left(a_{11} a_{22} - a_{12} a_{21}\\right)^{2}} & \\frac{a_{11} \\left(a_{11} a_{22} - a_{12} a_{21}\\right) \\left(a_{11} e - a_{12} d\\right) - a_{11} \\left(2 a_{11} c - a_{12} b\\right) \\left(a_{11} ty - a_{21} tx\\right) - \\left(2 a a_{12} - a_{11} b\\right) \\left(a_{12} \\left(a_{11} ty - a_{21} tx\\right) - tx \\left(a_{11} a_{22} - a_{12} a_{21}\\right)\\right)}{2 a_{11} \\left(a_{11} a_{22} - a_{12} a_{21}\\right)^{2}}\\\\\\frac{- a_{21} \\left(a_{11} c \\left(a_{11} a_{22} - a_{12} a_{21}\\right) - 2 a_{11} c \\left(a_{11} ty - a_{21} tx\\right) + b \\left(a_{12} \\left(a_{11} ty - a_{21} tx\\right) - tx \\left(a_{11} a_{22} - a_{12} a_{21}\\right)\\right)\\right) + a_{22} \\left(2 a \\left(a_{12} \\left(a_{11} ty - a_{21} tx\\right) - tx \\left(a_{11} a_{22} - a_{12} a_{21}\\right)\\right) - a_{11} b \\left(a_{11} ty - a_{21} tx\\right) + a_{11} d \\left(a_{11} a_{22} - a_{12} a_{21}\\right)\\right)}{2 a_{11} \\left(a_{11} a_{22} - a_{12} a_{21}\\right)^{2}} & \\frac{a_{11} \\left(a_{11} c \\left(a_{11} a_{22} - a_{12} a_{21}\\right) - 2 a_{11} c \\left(a_{11} ty - a_{21} tx\\right) + b \\left(a_{12} \\left(a_{11} ty - a_{21} tx\\right) - tx \\left(a_{11} a_{22} - a_{12} a_{21}\\right)\\right)\\right) - a_{12} \\left(2 a \\left(a_{12} \\left(a_{11} ty - a_{21} tx\\right) - tx \\left(a_{11} a_{22} - a_{12} a_{21}\\right)\\right) - a_{11} b \\left(a_{11} ty - a_{21} tx\\right) + a_{11} d \\left(a_{11} a_{22} - a_{12} a_{21}\\right)\\right)}{2 a_{11} \\left(a_{11} a_{22} - a_{12} a_{21}\\right)^{2}} & \\frac{- a_{11}^{2} e \\left(a_{11} a_{22} - a_{12} a_{21}\\right) \\left(a_{11} ty - a_{21} tx\\right) + 2 a_{11}^{2} f \\left(a_{11} a_{22} - a_{12} a_{21}\\right)^{2} + a_{11} d \\left(a_{11} a_{22} - a_{12} a_{21}\\right) \\left(a_{12} \\left(a_{11} ty - a_{21} tx\\right) - tx \\left(a_{11} a_{22} - a_{12} a_{21}\\right)\\right) - a_{11} \\left(a_{11} ty - a_{21} tx\\right) \\left(a_{11} c \\left(a_{11} a_{22} - a_{12} a_{21}\\right) - 2 a_{11} c \\left(a_{11} ty - a_{21} tx\\right) + b \\left(a_{12} \\left(a_{11} ty - a_{21} tx\\right) - tx \\left(a_{11} a_{22} - a_{12} a_{21}\\right)\\right)\\right) + \\left(a_{12} \\left(a_{11} ty - a_{21} tx\\right) - tx \\left(a_{11} a_{22} - a_{12} a_{21}\\right)\\right) \\left(2 a \\left(a_{12} \\left(a_{11} ty - a_{21} tx\\right) - tx \\left(a_{11} a_{22} - a_{12} a_{21}\\right)\\right) - a_{11} b \\left(a_{11} ty - a_{21} tx\\right) + a_{11} d \\left(a_{11} a_{22} - a_{12} a_{21}\\right)\\right)}{2 a_{11}^{2} \\left(a_{11} a_{22} - a_{12} a_{21}\\right)^{2}}\\end{matrix}\\right]$"
      ],
      "text/plain": [
       "Matrix([\n",
       "[                                                                                                                                                                                           (a21*(2*a21*c - a22*b) + a22*(2*a*a22 - a21*b))/(2*(a11*a22 - a12*a21)**2),                                                                                                                                                                                          -(a11*(2*a21*c - a22*b) + a12*(2*a*a22 - a21*b))/(2*(a11*a22 - a12*a21)**2),                                                                                                                                                                                                                                                                                                                  (a11*(a11*a22 - a12*a21)*(-a21*e + a22*d) + a11*(a11*ty - a21*tx)*(2*a21*c - a22*b) + (2*a*a22 - a21*b)*(a12*(a11*ty - a21*tx) - tx*(a11*a22 - a12*a21)))/(2*a11*(a11*a22 - a12*a21)**2)],\n",
       "[                                                                                                                                                                                          -(a21*(2*a11*c - a12*b) + a22*(2*a*a12 - a11*b))/(2*(a11*a22 - a12*a21)**2),                                                                                                                                                                                           (a11*(2*a11*c - a12*b) + a12*(2*a*a12 - a11*b))/(2*(a11*a22 - a12*a21)**2),                                                                                                                                                                                                                                                                                                                   (a11*(a11*a22 - a12*a21)*(a11*e - a12*d) - a11*(2*a11*c - a12*b)*(a11*ty - a21*tx) - (2*a*a12 - a11*b)*(a12*(a11*ty - a21*tx) - tx*(a11*a22 - a12*a21)))/(2*a11*(a11*a22 - a12*a21)**2)],\n",
       "[(-a21*(a11*c*(a11*a22 - a12*a21) - 2*a11*c*(a11*ty - a21*tx) + b*(a12*(a11*ty - a21*tx) - tx*(a11*a22 - a12*a21))) + a22*(2*a*(a12*(a11*ty - a21*tx) - tx*(a11*a22 - a12*a21)) - a11*b*(a11*ty - a21*tx) + a11*d*(a11*a22 - a12*a21)))/(2*a11*(a11*a22 - a12*a21)**2), (a11*(a11*c*(a11*a22 - a12*a21) - 2*a11*c*(a11*ty - a21*tx) + b*(a12*(a11*ty - a21*tx) - tx*(a11*a22 - a12*a21))) - a12*(2*a*(a12*(a11*ty - a21*tx) - tx*(a11*a22 - a12*a21)) - a11*b*(a11*ty - a21*tx) + a11*d*(a11*a22 - a12*a21)))/(2*a11*(a11*a22 - a12*a21)**2), (-a11**2*e*(a11*a22 - a12*a21)*(a11*ty - a21*tx) + 2*a11**2*f*(a11*a22 - a12*a21)**2 + a11*d*(a11*a22 - a12*a21)*(a12*(a11*ty - a21*tx) - tx*(a11*a22 - a12*a21)) - a11*(a11*ty - a21*tx)*(a11*c*(a11*a22 - a12*a21) - 2*a11*c*(a11*ty - a21*tx) + b*(a12*(a11*ty - a21*tx) - tx*(a11*a22 - a12*a21))) + (a12*(a11*ty - a21*tx) - tx*(a11*a22 - a12*a21))*(2*a*(a12*(a11*ty - a21*tx) - tx*(a11*a22 - a12*a21)) - a11*b*(a11*ty - a21*tx) + a11*d*(a11*a22 - a12*a21)))/(2*a11**2*(a11*a22 - a12*a21)**2)]])"
      ]
     },
     "metadata": {},
     "output_type": "display_data"
    },
    {
     "name": "stdout",
     "output_type": "stream",
     "text": [
      "Determinant of new conic after transformatin is given by:\n"
     ]
    },
    {
     "data": {
      "text/latex": [
       "$\\displaystyle \\frac{a c - \\frac{b^{2}}{4}}{a_{11}^{2} a_{22}^{2} - 2 a_{11} a_{12} a_{21} a_{22} + a_{12}^{2} a_{21}^{2}}$"
      ],
      "text/plain": [
       "(a*c - b**2/4)/(a11**2*a22**2 - 2*a11*a12*a21*a22 + a12**2*a21**2)"
      ]
     },
     "metadata": {},
     "output_type": "display_data"
    },
    {
     "name": "stdout",
     "output_type": "stream",
     "text": [
      "Squared determinant of matrix A\n"
     ]
    },
    {
     "data": {
      "text/latex": [
       "$\\displaystyle a_{11}^{2} a_{22}^{2} - 2 a_{11} a_{12} a_{21} a_{22} + a_{12}^{2} a_{21}^{2}$"
      ],
      "text/plain": [
       "a11**2*a22**2 - 2*a11*a12*a21*a22 + a12**2*a21**2"
      ]
     },
     "metadata": {},
     "output_type": "display_data"
    },
    {
     "name": "stdout",
     "output_type": "stream",
     "text": [
      "As the numerator and denominator is non zero positive values an affine transformation on ellipse cannot result in hyperbola or parabola.\n",
      "========================================================\n"
     ]
    },
    {
     "data": {
      "text/plain": [
       "'(b) Prove that under an affine transformation the ratio of lengths on parallel\\nline segments is an invariant, but that the ratio of two lengths that are\\nnot parallel is not.'"
      ]
     },
     "execution_count": 110,
     "metadata": {},
     "output_type": "execute_result"
    }
   ],
   "source": [
    "# # YOUR CODE HERE\n",
    "# raise NotImplementedError()\n",
    "'''(i) Affine transformations.\n",
    "2.10 Closure\n",
    "(a) Show that an affine transformation can map a circle to an ellipse, but\n",
    "cannot map an ellipse to a hyperbola or parabola.\n",
    "'''\n",
    "import sympy as sp\n",
    "from sympy import *\n",
    "from IPython.display import display\n",
    "import numpy as np\n",
    "a = sp.Symbol(\"a\")\n",
    "b = sp.Symbol(\"b\")\n",
    "c = sp.Symbol(\"c\")\n",
    "d = sp.Symbol(\"d\")\n",
    "e = sp.Symbol(\"e\")\n",
    "f = sp.Symbol(\"f\")\n",
    "x = sp.Symbol(\"x\")\n",
    "y = sp.Symbol(\"y\")\n",
    "X = sp.MatrixSymbol(\"X\",3,1)\n",
    "C = sp.MatrixSymbol(\"C\",3,3)\n",
    "C_prime = sp.MatrixSymbol(\"C_prime\",3,3)\n",
    "H = sp.MatrixSymbol(\"H\",3,3)\n",
    "A = sp.MatrixSymbol(\"A\",2,2)\n",
    "x1 = sp.Symbol(\"x1\")\n",
    "x2 = sp.Symbol(\"x2\")\n",
    "x3 = sp.Symbol(\"x3\")\n",
    "a11 = sp.Symbol(\"a11\")\n",
    "a12 = sp.Symbol(\"a12\")\n",
    "a21 = sp.Symbol(\"a21\")\n",
    "a22 = sp.Symbol(\"a22\")\n",
    "tx = sp.Symbol(\"tx\")\n",
    "ty = sp.Symbol(\"ty\")\n",
    "\n",
    "# Equation of conic in inhomogeneous coordinates: \n",
    "inhomogenious_eq = a*x**2+b*x*y+c*y**2+d*x+e*y+f\n",
    "print(\"Equation of conic in inhomogeneous coordinates:\")\n",
    "display(relational.Eq(inhomogenious_eq,0))\n",
    "\n",
    "# Homogenizing the above equation gives Eq 2.1 page 30: i.e., substituting x with x1/x3 and y with x2/x3\n",
    "homogenious_eq = inhomogenious_eq.subs([(x,x1/x3),(y,x2/x3)])\n",
    "print('Homogenizing the above equation gives:')\n",
    "display(relational.Eq(homogenious_eq.simplify(),0))\n",
    "\n",
    "# Matrix form is given by Eq 2.2 page 30, as below\n",
    "print('Matrix form is given:\\n')\n",
    "matrix_form = X.T*C*X\n",
    "display(relational.Eq(matrix_form,0,evaluate=False))\n",
    "# From Eq 2.3 page 30\n",
    "print(\"Where C is conic coefficient matrix given by\")\n",
    "C = sp.Matrix([[a,b/2,d/2],[b/2,c,e/2],[d/2,c/2,f]])\n",
    "display(C)\n",
    "\n",
    "\n",
    "# Classification of a conics is based on the detertminant of type upper left 2x2 matrix \n",
    "det_upper_left = C[0:2,0:2].det()\n",
    "print(\"So discriminant of conic section is given by:\")\n",
    "display(det_upper_left)\n",
    "print(\"If this discriminant = 0 it is parabola, <0 is hyperbola and >0 is ellipse.\")\n",
    "# So as per our consideration, we have circle as conic so:\n",
    "display(relational.StrictGreaterThan(det_upper_left,0))\n",
    "\n",
    "# Consider conic section as circle as per question so b=0\n",
    "# So C becomes as below\n",
    "print(\"Consider conic section as circle as per question so b=0. So C becomes as below\")\n",
    "C_circle = C.evalf(subs={b:0})\n",
    "det_upper_left = C_circle[0:2,0:2].det()\n",
    "print(\"So for circle discriminant is \")\n",
    "display(relational.StrictGreaterThan(det_upper_left,0))\n",
    "# Now let us make a Transformation matrix H\n",
    "A = sp.Matrix([[a11,a12],[a21,a22]])\n",
    "H = sp.Matrix([[a11,a12,tx],[a21,a22,ty],[0,0,1]])\n",
    "\n",
    "# Transformation of conic under point transformation is given by\n",
    "\n",
    "C_prime = (H.T).inv()*C_circle*H.inv()\n",
    "print(\"New conic after transformation is given by:\")\n",
    "display(C_prime.applyfunc(simplify))\n",
    "det_new_conic = C_prime[0:2,0:2].det().simplify()\n",
    "\n",
    "print(\"Determinant of new conic after transformatin is given by:\")\n",
    "display(det_new_conic)\n",
    "\n",
    "print(\"Squared determinant of matrix A\")\n",
    "display((A.det()**2).expand())\n",
    "print(\"In the above equation we already know numerator is >0 as we start with assumption that given conic is circle and denominator is nothing but squared det(A). So both the numerator and denominator are always positive. So we can conclude that discriminant of new conic after transformation is positive and therefore new conic is a ellipse.\")\n",
    "print(\"We can also observe that elements at (1,2) and (2,1) are non-zero, so from above two conclusions we can conclude conic after transformation is ellipse.\")\n",
    "print(\"====================================================\")\n",
    "#To prove that ellipse cannot map to hyperbola or parabola, Consider conic coefficients for ellipse C.\n",
    "det_upper_left = C[0:2,0:2].det()\n",
    "print(\"So for ellipse, discriminant is \")\n",
    "display(relational.StrictGreaterThan(det_upper_left,0))\n",
    "# Now let us make a Transformation matrix H\n",
    "A = sp.Matrix([[a11,a12],[a21,a22]])\n",
    "H = sp.Matrix([[a11,a12,tx],[a21,a22,ty],[0,0,1]])\n",
    "\n",
    "# Transformation of conic under point transformation is given by\n",
    "\n",
    "C_prime = (H.T).inv()*C*H.inv()\n",
    "print(\"New conic after transformation is given by:\")\n",
    "display(C_prime.applyfunc(simplify))\n",
    "det_new_conic = C_prime[0:2,0:2].det().simplify()\n",
    "\n",
    "print(\"Determinant of new conic after transformatin is given by:\")\n",
    "display(det_new_conic)\n",
    "\n",
    "print(\"Squared determinant of matrix A\")\n",
    "display((A.det()**2).expand())\n",
    "print(\"As the numerator and denominator is non zero positive values an affine transformation on ellipse cannot result in hyperbola or parabola.\")\n",
    "\n",
    "print(\"========================================================\")\n",
    "\n"
   ]
  },
  {
   "cell_type": "markdown",
   "metadata": {},
   "source": [
    "References\n",
    "\n",
    "1. Projective Geometry and Transformations of 2D, 'Immensely happy', Accessed on: 19-04-2020 [Online], URL: https://blog.immenselyhappy.com/post/mvg-sol-2/.\n",
    "2. Daniel Lenton, 'Projective Geometry Series', Medium Article, Accessed on: 19-02-2020 [Online], URL: https://medium.com/@daniel.j.lenton/projective-geometry-series-798c53011008. "
   ]
  }
 ],
 "metadata": {
  "kernelspec": {
   "display_name": "Python 3",
   "language": "python",
   "name": "python3"
  },
  "language_info": {
   "codemirror_mode": {
    "name": "ipython",
    "version": 3
   },
   "file_extension": ".py",
   "mimetype": "text/x-python",
   "name": "python",
   "nbconvert_exporter": "python",
   "pygments_lexer": "ipython3",
   "version": "3.5.2"
  },
  "nbTranslate": {
   "displayLangs": [
    "*"
   ],
   "hotkey": "alt-t",
   "langInMainMenu": true,
   "sourceLang": "en",
   "targetLang": "fr",
   "useGoogleTranslate": true
  }
 },
 "nbformat": 4,
 "nbformat_minor": 4
}
