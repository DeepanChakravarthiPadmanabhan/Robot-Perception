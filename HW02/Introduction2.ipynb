{
 "cells": [
  {
   "cell_type": "markdown",
   "metadata": {
    "deletable": false,
    "editable": false,
    "nbgrader": {
     "cell_type": "markdown",
     "checksum": "f4ab68d8aa88542b7c4bd8ef89666bf5",
     "grade": false,
     "grade_id": "cell-95ba40ad3c8cbe21",
     "locked": true,
     "schema_version": 3,
     "solution": false,
     "task": false
    }
   },
   "source": [
    "<div class=\"alert alert-block alert-danger\">\n",
    "\n",
    "# Robot Perception SS20\n",
    "<br>\n",
    "    \n",
    "# HW-02 Introduction 2\n",
    "\n",
    "\n",
    "</div>"
   ]
  },
  {
   "cell_type": "markdown",
   "metadata": {},
   "source": [
    "<div class=\"alert alert-block alert-danger\"/> \n",
    "\n",
    "#### Matriculation number\n",
    "    \n",
    "<em> Add your matriculation number here as well as your partners' if you work in a group.</em>\n",
    "    \n",
    "1. ___\n",
    "\n",
    "2. ___"
   ]
  },
  {
   "cell_type": "markdown",
   "metadata": {
    "deletable": false,
    "editable": false,
    "nbgrader": {
     "cell_type": "markdown",
     "checksum": "f32e358a9dded7da20020f04b9643580",
     "grade": false,
     "grade_id": "task1_description",
     "locked": true,
     "schema_version": 3,
     "solution": false,
     "task": false
    }
   },
   "source": [
    "## 1. Pose 3 questions to lecture (including answers) "
   ]
  },
  {
   "cell_type": "markdown",
   "metadata": {},
   "source": [
    "1.\n",
    "\n",
    "2.\n",
    "\n",
    "3."
   ]
  },
  {
   "cell_type": "markdown",
   "metadata": {
    "deletable": false,
    "editable": false,
    "nbgrader": {
     "cell_type": "markdown",
     "checksum": "9941d6cdf13735b1a87ee7908fc323b3",
     "grade": false,
     "grade_id": "task2_description",
     "locked": true,
     "schema_version": 3,
     "solution": false,
     "task": false
    }
   },
   "source": [
    "## 2. Read MVG / Hartley, Zisserman, 2.2, 2.3, 2.5., 2.7, 2.8, 2.9 "
   ]
  },
  {
   "cell_type": "markdown",
   "metadata": {
    "deletable": false,
    "editable": false,
    "nbgrader": {
     "cell_type": "markdown",
     "checksum": "b57ce965c6bc984f458857cc714e6c34",
     "grade": false,
     "grade_id": "task3_description",
     "locked": true,
     "schema_version": 3,
     "solution": false,
     "task": false
    }
   },
   "source": [
    "## 3. Solve ANY two from 2.10.2"
   ]
  },
  {
   "cell_type": "markdown",
   "metadata": {
    "deletable": false,
    "editable": false,
    "nbgrader": {
     "cell_type": "markdown",
     "checksum": "bae0b82420f38ecf8d8beaf43dc68d10",
     "grade": false,
     "grade_id": "task3a_description",
     "locked": true,
     "schema_version": 3,
     "solution": false,
     "task": false
    }
   },
   "source": [
    "### a."
   ]
  },
  {
   "cell_type": "markdown",
   "metadata": {
    "deletable": false,
    "nbgrader": {
     "cell_type": "markdown",
     "checksum": "d2f2cb93d78b19a0d9ac67511c3fd2b8",
     "grade": true,
     "grade_id": "task3a",
     "locked": false,
     "points": 2,
     "schema_version": 3,
     "solution": true,
     "task": false
    }
   },
   "source": [
    "YOUR ANSWER HERE"
   ]
  },
  {
   "cell_type": "markdown",
   "metadata": {
    "deletable": false,
    "editable": false,
    "nbgrader": {
     "cell_type": "markdown",
     "checksum": "d248f7925ddacb30c23a5b35c97e4f60",
     "grade": false,
     "grade_id": "task3b_description",
     "locked": true,
     "schema_version": 3,
     "solution": false,
     "task": false
    }
   },
   "source": [
    "### b."
   ]
  },
  {
   "cell_type": "code",
   "execution_count": 106,
   "metadata": {
    "deletable": false,
    "nbgrader": {
     "cell_type": "code",
     "checksum": "1f16a363ca68b859c2afe62bbc7c85a7",
     "grade": true,
     "grade_id": "task3b",
     "locked": false,
     "points": 2,
     "schema_version": 3,
     "solution": true,
     "task": false
    }
   },
   "outputs": [
    {
     "name": "stdout",
     "output_type": "stream",
     "text": [
      "Equation of conic in inhomogeneous coordinates:\n"
     ]
    },
    {
     "data": {
      "text/latex": [
       "$\\displaystyle a x^{2} + b x y + c y^{2} + d x + e y + f = 0$"
      ],
      "text/plain": [
       "Eq(a*x**2 + b*x*y + c*y**2 + d*x + e*y + f, 0)"
      ]
     },
     "metadata": {},
     "output_type": "display_data"
    },
    {
     "name": "stdout",
     "output_type": "stream",
     "text": [
      "Homogenizing the above equation gives:\n"
     ]
    },
    {
     "data": {
      "text/latex": [
       "$\\displaystyle \\frac{a x_{1}^{2} + b x_{1} x_{2} + c x_{2}^{2} + f x_{3}^{2} + x_{3} \\left(d x_{1} + e x_{2}\\right)}{x_{3}^{2}} = 0$"
      ],
      "text/plain": [
       "Eq((a*x1**2 + b*x1*x2 + c*x2**2 + f*x3**2 + x3*(d*x1 + e*x2))/x3**2, 0)"
      ]
     },
     "metadata": {},
     "output_type": "display_data"
    },
    {
     "name": "stdout",
     "output_type": "stream",
     "text": [
      "Matrix form is given:\n",
      "\n"
     ]
    },
    {
     "data": {
      "text/latex": [
       "$\\displaystyle X^{T} C X = 0$"
      ],
      "text/plain": [
       "Eq(X.T*C*X, 0)"
      ]
     },
     "metadata": {},
     "output_type": "display_data"
    },
    {
     "name": "stdout",
     "output_type": "stream",
     "text": [
      "Where C is conic coefficient matrix given by\n"
     ]
    },
    {
     "data": {
      "text/latex": [
       "$\\displaystyle \\left[\\begin{matrix}a & \\frac{b}{2} & \\frac{d}{2}\\\\\\frac{b}{2} & c & \\frac{e}{2}\\\\\\frac{d}{2} & \\frac{c}{2} & f\\end{matrix}\\right]$"
      ],
      "text/plain": [
       "Matrix([\n",
       "[  a, b/2, d/2],\n",
       "[b/2,   c, e/2],\n",
       "[d/2, c/2,   f]])"
      ]
     },
     "metadata": {},
     "output_type": "display_data"
    },
    {
     "name": "stdout",
     "output_type": "stream",
     "text": [
      "So discriminant of conic section is given by:\n"
     ]
    },
    {
     "data": {
      "text/latex": [
       "$\\displaystyle a c - \\frac{b^{2}}{4}$"
      ],
      "text/plain": [
       "a*c - b**2/4"
      ]
     },
     "metadata": {},
     "output_type": "display_data"
    },
    {
     "name": "stdout",
     "output_type": "stream",
     "text": [
      "If this discriminant = 0 it is parabola, <0 is hyperbola and >0 is ellipse.\n"
     ]
    },
    {
     "data": {
      "text/latex": [
       "$\\displaystyle a c - \\frac{b^{2}}{4} > 0$"
      ],
      "text/plain": [
       "a*c - b**2/4 > 0"
      ]
     },
     "metadata": {},
     "output_type": "display_data"
    },
    {
     "name": "stdout",
     "output_type": "stream",
     "text": [
      "Consider conic section as circle as per question so b=0. So C becomes as below\n",
      "So for circle discriminant is \n"
     ]
    },
    {
     "data": {
      "text/latex": [
       "$\\displaystyle a c > 0$"
      ],
      "text/plain": [
       "a*c > 0"
      ]
     },
     "metadata": {},
     "output_type": "display_data"
    },
    {
     "name": "stdout",
     "output_type": "stream",
     "text": [
      "New conic after transformation is given by:\n"
     ]
    },
    {
     "data": {
      "text/latex": [
       "$\\displaystyle \\left[\\begin{matrix}\\frac{a a_{22}^{2} + a_{21}^{2} c}{\\left(a_{11} a_{22} - a_{12} a_{21}\\right)^{2}} & - \\frac{a a_{12} a_{22} + a_{11} a_{21} c}{\\left(a_{11} a_{22} - a_{12} a_{21}\\right)^{2}} & \\frac{a a_{22} \\left(a_{12} \\left(a_{11} ty - a_{21} tx\\right) - tx \\left(a_{11} a_{22} - a_{12} a_{21}\\right)\\right) + a_{11} a_{21} c \\left(a_{11} ty - a_{21} tx\\right) + 0.5 a_{11} \\left(a_{11} a_{22} - a_{12} a_{21}\\right) \\left(- a_{21} e + a_{22} d\\right)}{a_{11} \\left(a_{11} a_{22} - a_{12} a_{21}\\right)^{2}}\\\\- \\frac{a a_{12} a_{22} + a_{11} a_{21} c}{\\left(a_{11} a_{22} - a_{12} a_{21}\\right)^{2}} & \\frac{a a_{12}^{2} + a_{11}^{2} c}{\\left(a_{11} a_{22} - a_{12} a_{21}\\right)^{2}} & \\frac{- a a_{12} \\left(a_{12} \\left(a_{11} ty - a_{21} tx\\right) - tx \\left(a_{11} a_{22} - a_{12} a_{21}\\right)\\right) - a_{11}^{2} c \\left(a_{11} ty - a_{21} tx\\right) + 0.5 a_{11} \\left(a_{11} a_{22} - a_{12} a_{21}\\right) \\left(a_{11} e - a_{12} d\\right)}{a_{11} \\left(a_{11} a_{22} - a_{12} a_{21}\\right)^{2}}\\\\\\frac{- a_{11} a_{21} c \\left(0.5 a_{11} a_{22} - a_{11} ty - 0.5 a_{12} a_{21} + a_{21} tx\\right) + a_{22} \\left(a \\left(a_{12} \\left(a_{11} ty - a_{21} tx\\right) - tx \\left(a_{11} a_{22} - a_{12} a_{21}\\right)\\right) + 0.5 a_{11} d \\left(a_{11} a_{22} - a_{12} a_{21}\\right)\\right)}{a_{11} \\left(a_{11} a_{22} - a_{12} a_{21}\\right)^{2}} & \\frac{a_{11}^{2} c \\left(0.5 a_{11} a_{22} - a_{11} ty - 0.5 a_{12} a_{21} + a_{21} tx\\right) - a_{12} \\left(a \\left(a_{12} \\left(a_{11} ty - a_{21} tx\\right) - tx \\left(a_{11} a_{22} - a_{12} a_{21}\\right)\\right) + 0.5 a_{11} d \\left(a_{11} a_{22} - a_{12} a_{21}\\right)\\right)}{a_{11} \\left(a_{11} a_{22} - a_{12} a_{21}\\right)^{2}} & \\frac{- a_{11}^{2} c \\left(a_{11} ty - a_{21} tx\\right) \\left(0.5 a_{11} a_{22} - a_{11} ty - 0.5 a_{12} a_{21} + a_{21} tx\\right) - 0.5 a_{11}^{2} e \\left(a_{11} a_{22} - a_{12} a_{21}\\right) \\left(a_{11} ty - a_{21} tx\\right) + a_{11}^{2} f \\left(a_{11} a_{22} - a_{12} a_{21}\\right)^{2} + 0.5 a_{11} d \\left(a_{11} a_{22} - a_{12} a_{21}\\right) \\left(a_{12} \\left(a_{11} ty - a_{21} tx\\right) - tx \\left(a_{11} a_{22} - a_{12} a_{21}\\right)\\right) + \\left(a \\left(a_{12} \\left(a_{11} ty - a_{21} tx\\right) - tx \\left(a_{11} a_{22} - a_{12} a_{21}\\right)\\right) + 0.5 a_{11} d \\left(a_{11} a_{22} - a_{12} a_{21}\\right)\\right) \\left(a_{12} \\left(a_{11} ty - a_{21} tx\\right) - tx \\left(a_{11} a_{22} - a_{12} a_{21}\\right)\\right)}{a_{11}^{2} \\left(a_{11} a_{22} - a_{12} a_{21}\\right)^{2}}\\end{matrix}\\right]$"
      ],
      "text/plain": [
       "Matrix([\n",
       "[                                                                                                                                      (a*a22**2 + a21**2*c)/(a11*a22 - a12*a21)**2,                                                                                                                                  -(a*a12*a22 + a11*a21*c)/(a11*a22 - a12*a21)**2,                                                                                                                                                                                                                                                          (a*a22*(a12*(a11*ty - a21*tx) - tx*(a11*a22 - a12*a21)) + a11*a21*c*(a11*ty - a21*tx) + 0.5*a11*(a11*a22 - a12*a21)*(-a21*e + a22*d))/(a11*(a11*a22 - a12*a21)**2)],\n",
       "[                                                                                                                                   -(a*a12*a22 + a11*a21*c)/(a11*a22 - a12*a21)**2,                                                                                                                                     (a*a12**2 + a11**2*c)/(a11*a22 - a12*a21)**2,                                                                                                                                                                                                                                                           (-a*a12*(a12*(a11*ty - a21*tx) - tx*(a11*a22 - a12*a21)) - a11**2*c*(a11*ty - a21*tx) + 0.5*a11*(a11*a22 - a12*a21)*(a11*e - a12*d))/(a11*(a11*a22 - a12*a21)**2)],\n",
       "[(-a11*a21*c*(0.5*a11*a22 - a11*ty - 0.5*a12*a21 + a21*tx) + a22*(a*(a12*(a11*ty - a21*tx) - tx*(a11*a22 - a12*a21)) + 0.5*a11*d*(a11*a22 - a12*a21)))/(a11*(a11*a22 - a12*a21)**2), (a11**2*c*(0.5*a11*a22 - a11*ty - 0.5*a12*a21 + a21*tx) - a12*(a*(a12*(a11*ty - a21*tx) - tx*(a11*a22 - a12*a21)) + 0.5*a11*d*(a11*a22 - a12*a21)))/(a11*(a11*a22 - a12*a21)**2), (-a11**2*c*(a11*ty - a21*tx)*(0.5*a11*a22 - a11*ty - 0.5*a12*a21 + a21*tx) - 0.5*a11**2*e*(a11*a22 - a12*a21)*(a11*ty - a21*tx) + a11**2*f*(a11*a22 - a12*a21)**2 + 0.5*a11*d*(a11*a22 - a12*a21)*(a12*(a11*ty - a21*tx) - tx*(a11*a22 - a12*a21)) + (a*(a12*(a11*ty - a21*tx) - tx*(a11*a22 - a12*a21)) + 0.5*a11*d*(a11*a22 - a12*a21))*(a12*(a11*ty - a21*tx) - tx*(a11*a22 - a12*a21)))/(a11**2*(a11*a22 - a12*a21)**2)]])"
      ]
     },
     "metadata": {},
     "output_type": "display_data"
    },
    {
     "name": "stdout",
     "output_type": "stream",
     "text": [
      "Determinant of new conic after transformatin is given by:\n"
     ]
    },
    {
     "data": {
      "text/latex": [
       "$\\displaystyle \\frac{a c}{a_{11}^{2} a_{22}^{2} - 2 a_{11} a_{12} a_{21} a_{22} + a_{12}^{2} a_{21}^{2}}$"
      ],
      "text/plain": [
       "a*c/(a11**2*a22**2 - 2*a11*a12*a21*a22 + a12**2*a21**2)"
      ]
     },
     "metadata": {},
     "output_type": "display_data"
    },
    {
     "name": "stdout",
     "output_type": "stream",
     "text": [
      "Squared determinant of matrix A\n"
     ]
    },
    {
     "data": {
      "text/latex": [
       "$\\displaystyle a_{11}^{2} a_{22}^{2} - 2 a_{11} a_{12} a_{21} a_{22} + a_{12}^{2} a_{21}^{2}$"
      ],
      "text/plain": [
       "a11**2*a22**2 - 2*a11*a12*a21*a22 + a12**2*a21**2"
      ]
     },
     "metadata": {},
     "output_type": "display_data"
    },
    {
     "name": "stdout",
     "output_type": "stream",
     "text": [
      "In the above equation we already know numerator is >0 as we start with assumption that given conic is circle and denominator is nothing but squared det(A). So both the numerator and denominator are always positive. So we can conclude that discriminant of new conic after transformation is positive and therefore new conic is a ellipse.\n",
      "We can also observe that elements at (1,2) and (2,1) are non-zero, so from above two conclusions we can conclude conic after transformation is ellipse.\n",
      "As the numerator and denominator is non zero positive values an affine transformation on ellipse cannot result in hyperbola or parabola.\n"
     ]
    },
    {
     "data": {
      "text/plain": [
       "'(b) Prove that under an affine transformation the ratio of lengths on parallel\\nline segments is an invariant, but that the ratio of two lengths that are\\nnot parallel is not.'"
      ]
     },
     "execution_count": 106,
     "metadata": {},
     "output_type": "execute_result"
    }
   ],
   "source": [
    "# # YOUR CODE HERE\n",
    "# raise NotImplementedError()\n",
    "'''(i) Affine transformations.\n",
    "2.10 Closure\n",
    "(a) Show that an affine transformation can map a circle to an ellipse, but\n",
    "cannot map an ellipse to a hyperbola or parabola.\n",
    "'''\n",
    "import sympy as sp\n",
    "from sympy import *\n",
    "from IPython.display import display\n",
    "import numpy as np\n",
    "a = sp.Symbol(\"a\")\n",
    "b = sp.Symbol(\"b\")\n",
    "c = sp.Symbol(\"c\")\n",
    "d = sp.Symbol(\"d\")\n",
    "e = sp.Symbol(\"e\")\n",
    "f = sp.Symbol(\"f\")\n",
    "x = sp.Symbol(\"x\")\n",
    "y = sp.Symbol(\"y\")\n",
    "X = sp.MatrixSymbol(\"X\",3,1)\n",
    "C = sp.MatrixSymbol(\"C\",3,3)\n",
    "C_prime = sp.MatrixSymbol(\"C_prime\",3,3)\n",
    "H = sp.MatrixSymbol(\"H\",3,3)\n",
    "A = sp.MatrixSymbol(\"A\",2,2)\n",
    "x1 = sp.Symbol(\"x1\")\n",
    "x2 = sp.Symbol(\"x2\")\n",
    "x3 = sp.Symbol(\"x3\")\n",
    "a11 = sp.Symbol(\"a11\")\n",
    "a12 = sp.Symbol(\"a12\")\n",
    "a21 = sp.Symbol(\"a21\")\n",
    "a22 = sp.Symbol(\"a22\")\n",
    "tx = sp.Symbol(\"tx\")\n",
    "ty = sp.Symbol(\"ty\")\n",
    "\n",
    "# Equation of conic in inhomogeneous coordinates: \n",
    "inhomogenious_eq = a*x**2+b*x*y+c*y**2+d*x+e*y+f\n",
    "print(\"Equation of conic in inhomogeneous coordinates:\")\n",
    "display(relational.Eq(inhomogenious_eq,0))\n",
    "\n",
    "# Homogenizing the above equation gives Eq 2.1 page 30: i.e., substituting x with x1/x3 and y with x2/x3\n",
    "homogenious_eq = inhomogenious_eq.subs([(x,x1/x3),(y,x2/x3)])\n",
    "print('Homogenizing the above equation gives:')\n",
    "display(relational.Eq(homogenious_eq.simplify(),0))\n",
    "\n",
    "# Matrix form is given by Eq 2.2 page 30, as below\n",
    "print('Matrix form is given:\\n')\n",
    "matrix_form = X.T*C*X\n",
    "display(relational.Eq(matrix_form,0,evaluate=False))\n",
    "# From Eq 2.3 page 30\n",
    "print(\"Where C is conic coefficient matrix given by\")\n",
    "C = sp.Matrix([[a,b/2,d/2],[b/2,c,e/2],[d/2,c/2,f]])\n",
    "display(C)\n",
    "\n",
    "\n",
    "# Classification of a conics is based on the detertminant of type upper left 2x2 matrix \n",
    "det_upper_left = C[0:2,0:2].det()\n",
    "print(\"So discriminant of conic section is given by:\")\n",
    "display(det_upper_left)\n",
    "print(\"If this discriminant = 0 it is parabola, <0 is hyperbola and >0 is ellipse.\")\n",
    "# So as per our consideration, we have circle as conic so:\n",
    "display(relational.StrictGreaterThan(det_upper_left,0))\n",
    "\n",
    "# Consider conic section as circle as per question so b=0\n",
    "# So C becomes as below\n",
    "print(\"Consider conic section as circle as per question so b=0. So C becomes as below\")\n",
    "C = C.evalf(subs={b:0})\n",
    "det_upper_left = C[0:2,0:2].det()\n",
    "print(\"So for circle discriminant is \")\n",
    "display(relational.StrictGreaterThan(det_upper_left,0))\n",
    "# Now let us make a Transformation matrix H\n",
    "A = sp.Matrix([[a11,a12],[a21,a22]])\n",
    "H = sp.Matrix([[a11,a12,tx],[a21,a22,ty],[0,0,1]])\n",
    "\n",
    "# Transformation of conic under point transformation is given by\n",
    "\n",
    "C_prime = (H.T).inv()*C*H.inv()\n",
    "print(\"New conic after transformation is given by:\")\n",
    "display(C_prime.applyfunc(simplify))\n",
    "det_new_conic = C_prime[0:2,0:2].det().simplify()\n",
    "\n",
    "print(\"Determinant of new conic after transformatin is given by:\")\n",
    "display(det_new_conic)\n",
    "\n",
    "print(\"Squared determinant of matrix A\")\n",
    "display((A.det()**2).expand())\n",
    "print(\"In the above equation we already know numerator is >0 as we start with assumption that given conic is circle and denominator is nothing but squared det(A). So both the numerator and denominator are always positive. So we can conclude that discriminant of new conic after transformation is positive and therefore new conic is a ellipse.\")\n",
    "print(\"We can also observe that elements at (1,2) and (2,1) are non-zero, so from above two conclusions we can conclude conic after transformation is ellipse.\")\n",
    "print(\"As the numerator and denominator is non zero positive values an affine transformation on ellipse cannot result in hyperbola or parabola.\")\n",
    "\n",
    "\n",
    "'''(b) Prove that under an affine transformation the ratio of lengths on parallel\n",
    "line segments is an invariant, but that the ratio of two lengths that are\n",
    "not parallel is not.'''\n",
    "\n"
   ]
  }
 ],
 "metadata": {
  "kernelspec": {
   "display_name": "Python 3",
   "language": "python",
   "name": "python3"
  },
  "language_info": {
   "codemirror_mode": {
    "name": "ipython",
    "version": 3
   },
   "file_extension": ".py",
   "mimetype": "text/x-python",
   "name": "python",
   "nbconvert_exporter": "python",
   "pygments_lexer": "ipython3",
   "version": "3.7.5"
  },
  "nbTranslate": {
   "displayLangs": [
    "*"
   ],
   "hotkey": "alt-t",
   "langInMainMenu": true,
   "sourceLang": "en",
   "targetLang": "fr",
   "useGoogleTranslate": true
  }
 },
 "nbformat": 4,
 "nbformat_minor": 4
}
