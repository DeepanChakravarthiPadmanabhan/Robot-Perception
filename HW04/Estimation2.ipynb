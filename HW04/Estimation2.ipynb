{
 "cells": [
  {
   "cell_type": "markdown",
   "metadata": {
    "deletable": false,
    "editable": false,
    "nbgrader": {
     "cell_type": "markdown",
     "checksum": "91b7b0a896b30a25304885da2d4a7f4a",
     "grade": false,
     "grade_id": "header_info",
     "locked": true,
     "schema_version": 3,
     "solution": false,
     "task": false
    }
   },
   "source": [
    "<div class=\"alert alert-block alert-info\" >\n",
    "    <h1>Robot Perception</h1>\n",
    "    <h3>General Information:</h3>\n",
    "    <p>Please do not add or delete any cells. Answers belong into the corresponding cells (below the question). If a function is given (either as a signature or a full function), you should not change the name, arguments or return value of the function.<br><br> If you encounter empty cells underneath the answer that can not be edited, please ignore them, they are for testing purposes.<br><br>When editing an assignment there can be the case that there are variables in the kernel. To make sure your assignment works, please restart the kernel and run all cells before submitting (e.g. via <i>Kernel -> Restart & Run All</i>).</p>\n",
    "    <p>Code cells where you are supposed to give your answer often include the line  ```raise NotImplementedError```. This makes it easier to automatically grade answers. If you edit the cell please outcomment or delete this line.</p>\n",
    "    <br>The server resource is limited to 2 core cpu and 1GB RAM at max per user. If you use more than that, the kernel may die. Nevertheless, you can bring it up again by restaring the kernel (Kernel -> Restart and clear output).<br>\n",
    "    <h3>Submission:</h3>\n",
    "    <p>Please submit your notebook via the web interface (in the main view -> Assignments -> Submit). The assignments are due on <b>Monday at 0:00.</b> (i.e. Sunday 23:59 + 1 min)</p>\n",
    "    <h3>Group Work:</h3>\n",
    "    <p>You are allowed to work in groups of up to two people. Please enter the UID (your username here) of each member of the group into the next cell. We apply plagiarism checking, so do not submit solutions from other people except your team members. If an assignment has a copied solution, the task will be graded with 0 points for all people with the same solution.</p>\n",
    "    <p><b>YOU SHOULD ONLY SUBMIT EXACTLY ONE PER GROUP</b></p>\n",
    "    <h3>Questions about the Assignment:</h3>\n",
    "    <p>If you have questions about the assignment please post them in the LEA forum before the deadline. Don't wait until the last day to post questions.</p></div>"
   ]
  },
  {
   "cell_type": "markdown",
   "metadata": {
    "deletable": false,
    "editable": false,
    "nbgrader": {
     "cell_type": "markdown",
     "checksum": "1697fa5978ed6be7d5e3437192d36e34",
     "grade": false,
     "grade_id": "header_warning",
     "locked": true,
     "schema_version": 3,
     "solution": false,
     "task": false
    }
   },
   "source": [
    "<div class=\"alert alert-block alert-danger\">\n",
    "<p><b>Put your answer in the PROVIDED CELLS only!</b></p>\n",
    "<b>Any new cell is not visible during the grading.</b>\n",
    "<p>We provide additional code and markdown cells for each question, so that you do not have to add the new ones.</p>\n",
    "<p>Do not copy the metadata from one cell to another, it is unique to that cell only.</p></div>"
   ]
  },
  {
   "cell_type": "code",
   "execution_count": 1,
   "metadata": {},
   "outputs": [],
   "source": [
    "'''\n",
    "Group Work:\n",
    "Enter the UID (i.e. student2s) of each team member into the variables. \n",
    "If you work alone please leave the second variable empty, or extend the list if necessary.\n",
    "'''\n",
    "member1 = 'dpadma2s'\n",
    "member2 = 'jbandl2s'\n",
    "member3 = 'smuthi2s'"
   ]
  },
  {
   "cell_type": "code",
   "execution_count": 2,
   "metadata": {
    "deletable": false,
    "nbgrader": {
     "cell_type": "code",
     "checksum": "45ec1f724975ca58e1004f54f1d862f7",
     "grade": false,
     "grade_id": "time",
     "locked": false,
     "schema_version": 3,
     "solution": true,
     "task": false
    }
   },
   "outputs": [],
   "source": [
    "'''\n",
    "Put here the average solution time for the full exercise set in estimated MINUTES\".\n",
    "AverageSolutionTimeinMinutes should be > or < 4711\n",
    "i.e.\n",
    "AverageSolutionTimeinMinutes = 180\n",
    "'''\n",
    "\n",
    "AverageSolutionTimeinMinutes = 840"
   ]
  },
  {
   "cell_type": "code",
   "execution_count": null,
   "metadata": {
    "deletable": false,
    "editable": false,
    "nbgrader": {
     "cell_type": "code",
     "checksum": "77c82ae9b4d29e40c20427768b1a6045",
     "grade": true,
     "grade_id": "time_test",
     "locked": true,
     "points": 0,
     "schema_version": 3,
     "solution": false,
     "task": false
    }
   },
   "outputs": [],
   "source": [
    "# This is a test cell, please ignore it!"
   ]
  },
  {
   "cell_type": "markdown",
   "metadata": {
    "deletable": false,
    "editable": false,
    "nbgrader": {
     "cell_type": "markdown",
     "checksum": "cd958afe1307bb29eff829fd57fe6c2f",
     "grade": false,
     "grade_id": "qa_description",
     "locked": true,
     "schema_version": 3,
     "solution": false,
     "task": false
    }
   },
   "source": [
    "## Q&As: Pose three questions (and ans.) to last lecture, 3 Q&As per member [1 point]\n",
    "\n",
    "The format of the question and answer should be [Q1,A1,Q2,A2,Q3,A3,...,Qn,An], where Q1 is the question and A1 is the answer.<br>\n",
    "If you work in a group, the total of the Q&As is $3xn$, where $n$ is the total number of members.<br>\n",
    "\n",
    "Put your answer in the provided cell below!<br>\n",
    "If you work in a group, you can extend the provided Q&A template, but please use the same format:\n",
    "1. Q and A are separated by ONE $<$br$>$\n",
    "2. Q&A and other Q&As are separated by TWO $<$br$>$\n",
    "\n",
    "Or copy the provided format in the answer cell, and change the Q&A number.\n",
    "<br>\n",
    "Do not remove any markdown tag like $<$br$>$ in the answer cell."
   ]
  },
  {
   "cell_type": "markdown",
   "metadata": {
    "deletable": false,
    "nbgrader": {
     "cell_type": "markdown",
     "checksum": "be944ca59eecc924dddf4b293192b057",
     "grade": true,
     "grade_id": "qa",
     "locked": false,
     "points": 1,
     "schema_version": 3,
     "solution": true,
     "task": false
    }
   },
   "source": [
    "<br>\n",
    "Q1 = Given that only $50 \\%$ of point matches are good, and given 4 points picked to estimate homography. How many iterations are needed to have a $95 \\%$ probability of success?\n",
    "<br>\n",
    "A1 = We know the relationship between the number of trials N, sample size s, outlier ratio e and probability of success p, as given below\n",
    "\n",
    "$e$ is the probability of outliers\n",
    "\n",
    "$1-e$ is the probability of inliers\n",
    "\n",
    "$(1-e)^s$ is the probability of choosing a set of s samples that are all inliers.\n",
    "\n",
    "$1- (1-e)^s$ is the probability of choosing s points that are NOT all inliers (one of more outliers)\n",
    "\n",
    "$(1- (1-e)^s)^N$ is the probability of choosing s points N times, and having every set of points include one or more outliers.\n",
    "\n",
    "Therefore, Probability of choosing s points N times and having one or more sets of all inliers,\n",
    "\n",
    "\\begin{equation}p = 1 - (1-(1-e)^s)^N\\end{equation}\n",
    "\n",
    "In this problem, $\\mathrm{e}=.5, s=4,$ and $p=.95$ \n",
    "\n",
    "Plugging into the formula, we get:\n",
    "\n",
    "$1-\\left(1-(1-.5)^{4}\\right)^{\\mathrm{N}}=.95$\n",
    "\n",
    "Simplify and solve for $\\mathrm{N}:$\n",
    "\n",
    "$$\n",
    "\\begin{array}{l}\n",
    "1-\\left(1-\\left(.5^{4}\\right)\\right)^{\\mathrm{N}}=.95 \\\\\n",
    "1-(1-.0625)^{\\mathrm{N}}=.95 \\\\\n",
    "(0.9375)^{\\mathrm{N}}=1-.95=.05 \\\\\n",
    "\\mathrm{N}=\\log (.05) / \\log (0.9375)=46.4177 \\approx47\n",
    "\\end{array}\n",
    "$$\n",
    "\n",
    "So, 47 iterations are needed to have a $95 \\%$ probability of success [1].\n",
    "\n",
    "Question Inspiration/Source: https://www.cs.umd.edu/class/spring2018/cmsc426/Assignments/cmsc426_hw1_answer_key.pdf\n",
    "\n",
    "<br>\n",
    "<br>\n",
    "Q2 = Given 100 feature points identified in two images, how many possible combinations of 4 point pairs can one pick?  By what order of magnitude does performing RANSAC improve over brute-force (i.e.  trying all possible 4 point combinations)?\n",
    "<br>\n",
    "A2 = \n",
    "\n",
    "**Brute-force:**\n",
    "\n",
    "To brute-force the point matches, we need to pair every possible set of 4-points in each image with each other. This is a combinatorics problem.\n",
    "\n",
    "For each image, there are $100C_4$ sets of points. Thus there are $(100C_4)^2$ pairings of the sets from both images.\n",
    "\n",
    "For each pair of 4-point sets, there are 4! ways to match up their points.\n",
    "\n",
    "Thus the total possible pairings is $(4!) \\times (100C_4)^2 = 24\\times (3921225)^2 $\n",
    "\n",
    "The complexity of brute-force problem is:\n",
    "\n",
    "$100C_4$ is $\\frac{100!}{4!\\times96!}$ simplifying to (100 x 99 x 98 x 97)/4!. Based on numerator, $nC_k$ is $O(n^4)$. Since we square, $100C_4$ in our problem, brute-forcing complexity if $O(n^8)$ [1].\n",
    "\n",
    "**RANSAC:**\n",
    "\n",
    "Let probability  of success = 0.9999 of getting an inlier sample.\n",
    "\n",
    "We know the relationship between the number of trials N, sample size s, outlier ratio e and probability of success p, as given below:\n",
    "\n",
    "\n",
    "\\begin{equation}p = 1 - (1-(1-e)^s)^N\\end{equation}\n",
    "\n",
    "\\begin{equation}\\mathrm{N}=\\frac{log (1-\\mathrm{p})}{log (1-(1-\\mathrm{e})^ 4)}\\end{equation}\n",
    "\n",
    "For p = 0.9999 $N \\approx \\frac{-9.2103}{log(1-(1-e)^4)}$\n",
    "\n",
    "Number of iterations is a function of e, probability of a point being an outlier.\n",
    "\n",
    "If e is very bad, say 0.9, then N $\\approx$ 90000.\n",
    "\n",
    "If e is very good, say 0.2, then N $\\approx$ 17.\n",
    "\n",
    "In practice e is rarely bad. Considering the worst case scenario, RANSAC gives atleast 5 order-of-magnitude improvement [1].\n",
    "\n",
    "Question Inspiration/Source: https://www.cs.umd.edu/class/spring2018/cmsc426/Assignments/cmsc426_hw1_answer_key.pdf\n",
    "<br>\n",
    "<br>\n",
    "Q3 = State the pros, cons and some applications of RANSAC?\n",
    "<br>\n",
    "A3 = \n",
    "\n",
    "**Good:**\n",
    "\n",
    "* Robust to outliers.\n",
    "* Applicable for number of object function parameters of upto $\\approx$ 10.\n",
    "* Applicable for larger number of parameters and parameters are easily obtained than Hough transform [2][3].\n",
    "\n",
    "\n",
    "**Bad:**\n",
    "\n",
    "* Computational time grows quickly with fraction of outliers and number of parameters.\n",
    "* Not good for getting multiple fit [2][3].\n",
    "\n",
    "**Applications:**\n",
    "\n",
    "* Computing a homography (e.g., image stitching).\n",
    "* Estimating fundamental matrix (relating two views).\n",
    "* Domain plane from a aerial laser scanes.\n",
    "* Feature-based alignment and feature tracking [2][3].\n",
    "<br>\n",
    "<br>\n",
    "Q4 = \n",
    "<br>\n",
    "A4 =\n",
    "<br>\n",
    "<br>\n",
    "Q5 = \n",
    "<br>\n",
    "A5 =\n",
    "<br>\n",
    "<br>\n",
    "Q6 = \n",
    "<br>\n",
    "A6 =\n",
    "<br>\n",
    "<br>\n",
    "Q7 = \n",
    "<br>\n",
    "A7 =\n",
    "<br>\n",
    "<br>\n",
    "Q8 = \n",
    "<br>\n",
    "A8 =\n",
    "<br>\n",
    "<br>\n",
    "Q9 = \n",
    "<br>\n",
    "A9 =\n",
    "<br>\n",
    "<br>\n",
    "\n",
    "**Contribution:**\n",
    "\n",
    "Q1-Q3: dpadma2s\n",
    "\n",
    "Q4-Q6: jbandl2s\n",
    "\n",
    "Q7:Q8: smuthi2s"
   ]
  },
  {
   "cell_type": "code",
   "execution_count": null,
   "metadata": {
    "deletable": false,
    "editable": false,
    "nbgrader": {
     "cell_type": "code",
     "checksum": "e07225c2bcaab3c187ad0e76373d6320",
     "grade": true,
     "grade_id": "qa_test",
     "locked": true,
     "points": 0,
     "schema_version": 3,
     "solution": false,
     "task": false
    }
   },
   "outputs": [],
   "source": [
    "# This is a test cell, please ignore it!"
   ]
  },
  {
   "cell_type": "markdown",
   "metadata": {
    "deletable": false,
    "editable": false,
    "nbgrader": {
     "cell_type": "markdown",
     "checksum": "700c9ac62bf20227e52d2a54f90cca8c",
     "grade": false,
     "grade_id": "task1_description",
     "locked": true,
     "schema_version": 3,
     "solution": false,
     "task": false
    }
   },
   "source": [
    "## Task 1: Implement a base line RANSAC (by hand) to calculate Homography"
   ]
  },
  {
   "cell_type": "code",
   "execution_count": null,
   "metadata": {
    "deletable": false,
    "nbgrader": {
     "cell_type": "code",
     "checksum": "1c83894d1222f38c916df23aba789943",
     "grade": true,
     "grade_id": "task1",
     "locked": false,
     "points": 3,
     "schema_version": 3,
     "solution": true,
     "task": false
    }
   },
   "outputs": [],
   "source": [
    "# YOUR CODE HERE\n",
    "raise NotImplementedError()"
   ]
  },
  {
   "cell_type": "code",
   "execution_count": null,
   "metadata": {
    "deletable": false,
    "nbgrader": {
     "cell_type": "code",
     "checksum": "3eed868db4d7837aacba478d2a850267",
     "grade": true,
     "grade_id": "task1_code1",
     "locked": false,
     "points": 0,
     "schema_version": 3,
     "solution": true,
     "task": false
    }
   },
   "outputs": [],
   "source": [
    "# YOUR CODE HERE\n",
    "raise NotImplementedError()"
   ]
  },
  {
   "cell_type": "markdown",
   "metadata": {
    "deletable": false,
    "nbgrader": {
     "cell_type": "markdown",
     "checksum": "2dade55778df86d2802edec088abf0a7",
     "grade": true,
     "grade_id": "task1_md1",
     "locked": false,
     "points": 0,
     "schema_version": 3,
     "solution": true,
     "task": false
    }
   },
   "source": [
    "YOUR ANSWER HERE"
   ]
  },
  {
   "cell_type": "markdown",
   "metadata": {
    "deletable": false,
    "nbgrader": {
     "cell_type": "markdown",
     "checksum": "59e54d8437489f1a53f8154516d4bfa5",
     "grade": true,
     "grade_id": "task1_md2",
     "locked": false,
     "points": 0,
     "schema_version": 3,
     "solution": true,
     "task": false
    }
   },
   "source": [
    "YOUR ANSWER HERE"
   ]
  },
  {
   "cell_type": "markdown",
   "metadata": {
    "deletable": false,
    "editable": false,
    "nbgrader": {
     "cell_type": "markdown",
     "checksum": "654c6967debc06ee772bed2b6671aad1",
     "grade": false,
     "grade_id": "task2_description",
     "locked": true,
     "schema_version": 3,
     "solution": false,
     "task": false
    }
   },
   "source": [
    "## Task 2: Compare your new RANSAC algorithm"
   ]
  },
  {
   "cell_type": "markdown",
   "metadata": {
    "deletable": false,
    "editable": false,
    "nbgrader": {
     "cell_type": "markdown",
     "checksum": "7d4d6d73770a4f4405a6dcd7d5bc4b7f",
     "grade": false,
     "grade_id": "task2a_description",
     "locked": true,
     "schema_version": 3,
     "solution": false,
     "task": false
    }
   },
   "source": [
    "### a) Compare your new RANSAC algorithm to your hand made DLT"
   ]
  },
  {
   "cell_type": "code",
   "execution_count": null,
   "metadata": {
    "deletable": false,
    "nbgrader": {
     "cell_type": "code",
     "checksum": "1890a28bfee53b3d23b7c1dbfa69c4ef",
     "grade": true,
     "grade_id": "task2a",
     "locked": false,
     "points": 1,
     "schema_version": 3,
     "solution": true,
     "task": false
    }
   },
   "outputs": [],
   "source": [
    "# YOUR CODE HERE\n",
    "raise NotImplementedError()"
   ]
  },
  {
   "cell_type": "code",
   "execution_count": null,
   "metadata": {
    "deletable": false,
    "nbgrader": {
     "cell_type": "code",
     "checksum": "9f58f6213ad6b8722d5ef759b61a033a",
     "grade": true,
     "grade_id": "task2a_code1",
     "locked": false,
     "points": 0,
     "schema_version": 3,
     "solution": true,
     "task": false
    }
   },
   "outputs": [],
   "source": [
    "# YOUR CODE HERE\n",
    "raise NotImplementedError()"
   ]
  },
  {
   "cell_type": "markdown",
   "metadata": {
    "deletable": false,
    "nbgrader": {
     "cell_type": "markdown",
     "checksum": "1e1355d0a2405c7af8e498d147a651ba",
     "grade": true,
     "grade_id": "task2a_md1",
     "locked": false,
     "points": 0,
     "schema_version": 3,
     "solution": true,
     "task": false
    }
   },
   "source": [
    "YOUR ANSWER HERE"
   ]
  },
  {
   "cell_type": "markdown",
   "metadata": {
    "deletable": false,
    "nbgrader": {
     "cell_type": "markdown",
     "checksum": "1d7731aeb076955985b297cea9f85786",
     "grade": true,
     "grade_id": "task2a_md2",
     "locked": false,
     "points": 0,
     "schema_version": 3,
     "solution": true,
     "task": false
    }
   },
   "source": [
    "YOUR ANSWER HERE"
   ]
  },
  {
   "cell_type": "markdown",
   "metadata": {
    "deletable": false,
    "editable": false,
    "nbgrader": {
     "cell_type": "markdown",
     "checksum": "d22a0fda6c5b7347c34acda0eeca6854",
     "grade": false,
     "grade_id": "task2b_description",
     "locked": true,
     "schema_version": 3,
     "solution": false,
     "task": false
    }
   },
   "source": [
    "### b) Compare your new RANSAC algorithm to a handmade normalised DLT"
   ]
  },
  {
   "cell_type": "code",
   "execution_count": null,
   "metadata": {
    "deletable": false,
    "nbgrader": {
     "cell_type": "code",
     "checksum": "514b8b58a04391a5d3a56cd3d1cba1e2",
     "grade": true,
     "grade_id": "task2b",
     "locked": false,
     "points": 1,
     "schema_version": 3,
     "solution": true,
     "task": false
    }
   },
   "outputs": [],
   "source": [
    "# YOUR CODE HERE\n",
    "raise NotImplementedError()"
   ]
  },
  {
   "cell_type": "code",
   "execution_count": null,
   "metadata": {
    "deletable": false,
    "nbgrader": {
     "cell_type": "code",
     "checksum": "8e95f574eed5f2756d8c59f7b89d2db8",
     "grade": true,
     "grade_id": "task2b_code1",
     "locked": false,
     "points": 0,
     "schema_version": 3,
     "solution": true,
     "task": false
    }
   },
   "outputs": [],
   "source": [
    "# YOUR CODE HERE\n",
    "raise NotImplementedError()"
   ]
  },
  {
   "cell_type": "markdown",
   "metadata": {
    "deletable": false,
    "nbgrader": {
     "cell_type": "markdown",
     "checksum": "41343be686440accdc726f680cc17f53",
     "grade": true,
     "grade_id": "task2b_md1",
     "locked": false,
     "points": 0,
     "schema_version": 3,
     "solution": true,
     "task": false
    }
   },
   "source": [
    "YOUR ANSWER HERE"
   ]
  },
  {
   "cell_type": "markdown",
   "metadata": {
    "deletable": false,
    "nbgrader": {
     "cell_type": "markdown",
     "checksum": "28849d335990f94d95f3027cd18794d9",
     "grade": true,
     "grade_id": "task2b_md2",
     "locked": false,
     "points": 0,
     "schema_version": 3,
     "solution": true,
     "task": false
    }
   },
   "source": [
    "YOUR ANSWER HERE"
   ]
  },
  {
   "cell_type": "markdown",
   "metadata": {
    "deletable": false,
    "editable": false,
    "nbgrader": {
     "cell_type": "markdown",
     "checksum": "35660c3d2269dede56dee09617ecc1c2",
     "grade": false,
     "grade_id": "task2c_description",
     "locked": true,
     "schema_version": 3,
     "solution": false,
     "task": false
    }
   },
   "source": [
    "### c) Compare your new RANSAC algorithm to a library RANSAC implementation."
   ]
  },
  {
   "cell_type": "code",
   "execution_count": null,
   "metadata": {
    "deletable": false,
    "nbgrader": {
     "cell_type": "code",
     "checksum": "c9d3ba37319aa08c12557adc527b225f",
     "grade": true,
     "grade_id": "task2c",
     "locked": false,
     "points": 1,
     "schema_version": 3,
     "solution": true,
     "task": false
    }
   },
   "outputs": [],
   "source": [
    "# YOUR CODE HERE\n",
    "raise NotImplementedError()"
   ]
  },
  {
   "cell_type": "code",
   "execution_count": null,
   "metadata": {
    "deletable": false,
    "nbgrader": {
     "cell_type": "code",
     "checksum": "78dc7b88ff5ba5ea860b9eee89dfc328",
     "grade": true,
     "grade_id": "task2c_code1",
     "locked": false,
     "points": 0,
     "schema_version": 3,
     "solution": true,
     "task": false
    }
   },
   "outputs": [],
   "source": [
    "# YOUR CODE HERE\n",
    "raise NotImplementedError()"
   ]
  },
  {
   "cell_type": "markdown",
   "metadata": {
    "deletable": false,
    "nbgrader": {
     "cell_type": "markdown",
     "checksum": "7cc4c2f1a1397a4ac279182b82eb0ee6",
     "grade": true,
     "grade_id": "task2c_md1",
     "locked": false,
     "points": 0,
     "schema_version": 3,
     "solution": true,
     "task": false
    }
   },
   "source": [
    "YOUR ANSWER HERE"
   ]
  },
  {
   "cell_type": "markdown",
   "metadata": {
    "deletable": false,
    "nbgrader": {
     "cell_type": "markdown",
     "checksum": "0633608a0d95b3321471169cc88015dd",
     "grade": true,
     "grade_id": "task2c_md2",
     "locked": false,
     "points": 0,
     "schema_version": 3,
     "solution": true,
     "task": false
    }
   },
   "source": [
    "YOUR ANSWER HERE"
   ]
  },
  {
   "cell_type": "markdown",
   "metadata": {},
   "source": [
    "References:\n",
    "    \n",
    "1. Yiannis Aloimonos, Jack Rasiel, and Kaan Elgin, CMSC 426 Computer Vision Homework 1, Accessed on: 04.05.2020 [Online], URL: https://www.cs.umd.edu/class/spring2018/cmsc426/Assignments/cmsc426_hw1_answer_key.pdf.\n",
    "2. Kris Kitani, RANSAC, 16-385 Computer Vision, Carnegie Mellon University, Accessed on: 04.05.2020 [Online], URL: http://www.cs.cmu.edu/~16385/s17/Slides/10.3_2D_Alignment__RANSAC.pdf.\n",
    "3. Cyrill Stachniss, Photogrammetry II Chapter SIFT features and RANSAC, University of Bonn, Accessed on: 04.05.2020 [Online], URL: https://www.youtube.com/watch?v=oT9c_LlFBqs."
   ]
  },
  {
   "cell_type": "code",
   "execution_count": null,
   "metadata": {},
   "outputs": [],
   "source": []
  }
 ],
 "metadata": {
  "kernelspec": {
   "display_name": "Python 3",
   "language": "python",
   "name": "python3"
  },
  "language_info": {
   "codemirror_mode": {
    "name": "ipython",
    "version": 3
   },
   "file_extension": ".py",
   "mimetype": "text/x-python",
   "name": "python",
   "nbconvert_exporter": "python",
   "pygments_lexer": "ipython3",
   "version": "3.7.4"
  },
  "nbTranslate": {
   "displayLangs": [
    "*"
   ],
   "hotkey": "alt-t",
   "langInMainMenu": true,
   "sourceLang": "en",
   "targetLang": "fr",
   "useGoogleTranslate": true
  }
 },
 "nbformat": 4,
 "nbformat_minor": 4
}
