{
 "cells": [
  {
   "cell_type": "markdown",
   "metadata": {
    "deletable": false,
    "editable": false,
    "nbgrader": {
     "cell_type": "markdown",
     "checksum": "91b7b0a896b30a25304885da2d4a7f4a",
     "grade": false,
     "grade_id": "header_info",
     "locked": true,
     "schema_version": 3,
     "solution": false,
     "task": false
    }
   },
   "source": [
    "<div class=\"alert alert-block alert-info\" >\n",
    "    <h1>Robot Perception</h1>\n",
    "    <h3>General Information:</h3>\n",
    "    <p>Please do not add or delete any cells. Answers belong into the corresponding cells (below the question). If a function is given (either as a signature or a full function), you should not change the name, arguments or return value of the function.<br><br> If you encounter empty cells underneath the answer that can not be edited, please ignore them, they are for testing purposes.<br><br>When editing an assignment there can be the case that there are variables in the kernel. To make sure your assignment works, please restart the kernel and run all cells before submitting (e.g. via <i>Kernel -> Restart & Run All</i>).</p>\n",
    "    <p>Code cells where you are supposed to give your answer often include the line  ```raise NotImplementedError```. This makes it easier to automatically grade answers. If you edit the cell please outcomment or delete this line.</p>\n",
    "    <br>The server resource is limited to 2 core cpu and 1GB RAM at max per user. If you use more than that, the kernel may die. Nevertheless, you can bring it up again by restaring the kernel (Kernel -> Restart and clear output).<br>\n",
    "    <h3>Submission:</h3>\n",
    "    <p>Please submit your notebook via the web interface (in the main view -> Assignments -> Submit). The assignments are due on <b>Monday at 0:00.</b> (i.e. Sunday 23:59 + 1 min)</p>\n",
    "    <h3>Group Work:</h3>\n",
    "    <p>You are allowed to work in groups of up to two people. Please enter the UID (your username here) of each member of the group into the next cell. We apply plagiarism checking, so do not submit solutions from other people except your team members. If an assignment has a copied solution, the task will be graded with 0 points for all people with the same solution.</p>\n",
    "    <p><b>YOU SHOULD ONLY SUBMIT EXACTLY ONE PER GROUP</b></p>\n",
    "    <h3>Questions about the Assignment:</h3>\n",
    "    <p>If you have questions about the assignment please post them in the LEA forum before the deadline. Don't wait until the last day to post questions.</p></div>"
   ]
  },
  {
   "cell_type": "markdown",
   "metadata": {
    "deletable": false,
    "editable": false,
    "nbgrader": {
     "cell_type": "markdown",
     "checksum": "1697fa5978ed6be7d5e3437192d36e34",
     "grade": false,
     "grade_id": "header_warning",
     "locked": true,
     "schema_version": 3,
     "solution": false,
     "task": false
    }
   },
   "source": [
    "<div class=\"alert alert-block alert-danger\">\n",
    "<p><b>Put your answer in the PROVIDED CELLS only!</b></p>\n",
    "<b>Any new cell is not visible during the grading.</b>\n",
    "<p>We provide additional code and markdown cells for each question, so that you do not have to add the new ones.</p>\n",
    "<p>Do not copy the metadata from one cell to another, it is unique to that cell only.</p></div>"
   ]
  },
  {
   "cell_type": "code",
   "execution_count": null,
   "metadata": {},
   "outputs": [],
   "source": [
    "'''\n",
    "Group Work:\n",
    "Enter the UID (i.e. student2s) of each team member into the variables. \n",
    "If you work alone please leave the second variable empty, or extend the list if necessary.\n",
    "'''\n",
    "member1 = 'dpadma2s'\n",
    "member2 = 'jbandl2s'\n",
    "member3 = 'smuthi2s'"
   ]
  },
  {
   "cell_type": "code",
   "execution_count": null,
   "metadata": {
    "deletable": false,
    "nbgrader": {
     "cell_type": "code",
     "checksum": "45ec1f724975ca58e1004f54f1d862f7",
     "grade": false,
     "grade_id": "time",
     "locked": false,
     "schema_version": 3,
     "solution": true,
     "task": false
    }
   },
   "outputs": [],
   "source": [
    "'''\n",
    "Put here the average solution time for the full exercise set in estimated MINUTES\".\n",
    "AverageSolutionTimeinMinutes should be > or < 4711\n",
    "i.e.\n",
    "AverageSolutionTimeinMinutes = 180\n",
    "'''\n",
    "\n",
    "AverageSolutionTimeinMinutes = 840"
   ]
  },
  {
   "cell_type": "code",
   "execution_count": null,
   "metadata": {
    "deletable": false,
    "editable": false,
    "nbgrader": {
     "cell_type": "code",
     "checksum": "77c82ae9b4d29e40c20427768b1a6045",
     "grade": true,
     "grade_id": "time_test",
     "locked": true,
     "points": 0,
     "schema_version": 3,
     "solution": false,
     "task": false
    }
   },
   "outputs": [],
   "source": [
    "# This is a test cell, please ignore it!"
   ]
  },
  {
   "cell_type": "markdown",
   "metadata": {
    "deletable": false,
    "editable": false,
    "nbgrader": {
     "cell_type": "markdown",
     "checksum": "cd958afe1307bb29eff829fd57fe6c2f",
     "grade": false,
     "grade_id": "qa_description",
     "locked": true,
     "schema_version": 3,
     "solution": false,
     "task": false
    }
   },
   "source": [
    "## Q&As: Pose three questions (and ans.) to last lecture, 3 Q&As per member [1 point]\n",
    "\n",
    "The format of the question and answer should be [Q1,A1,Q2,A2,Q3,A3,...,Qn,An], where Q1 is the question and A1 is the answer.<br>\n",
    "If you work in a group, the total of the Q&As is $3xn$, where $n$ is the total number of members.<br>\n",
    "\n",
    "Put your answer in the provided cell below!<br>\n",
    "If you work in a group, you can extend the provided Q&A template, but please use the same format:\n",
    "1. Q and A are separated by ONE $<$br$>$\n",
    "2. Q&A and other Q&As are separated by TWO $<$br$>$\n",
    "\n",
    "Or copy the provided format in the answer cell, and change the Q&A number.\n",
    "<br>\n",
    "Do not remove any markdown tag like $<$br$>$ in the answer cell."
   ]
  },
  {
   "cell_type": "markdown",
   "metadata": {
    "deletable": false,
    "nbgrader": {
     "cell_type": "markdown",
     "checksum": "be944ca59eecc924dddf4b293192b057",
     "grade": true,
     "grade_id": "qa",
     "locked": false,
     "points": 1,
     "schema_version": 3,
     "solution": true,
     "task": false
    }
   },
   "source": [
    "<br>\n",
    "Q1 = Given that only $50 \\%$ of point matches are good, and given 4 points picked to estimate homography. How many iterations are needed to have a $95 \\%$ probability of success?\n",
    "<br>\n",
    "A1 = We know the relationship between the number of trials N, sample size s, outlier ratio e and probability of success p, as given below\n",
    "\n",
    "$e$ is the probability of outliers\n",
    "\n",
    "$1-e$ is the probability of inliers\n",
    "\n",
    "$(1-e)^s$ is the probability of choosing a set of s samples that are all inliers.\n",
    "\n",
    "$1- (1-e)^s$ is the probability of choosing s points that are NOT all inliers (one of more outliers)\n",
    "\n",
    "$(1- (1-e)^s)^N$ is the probability of choosing s points N times, and having every set of points include one or more outliers.\n",
    "\n",
    "Therefore, Probability of choosing s points N times and having one or more sets of all inliers,\n",
    "\n",
    "\\begin{equation}p = 1 - (1-(1-e)^s)^N\\end{equation}\n",
    "\n",
    "In this problem, $\\mathrm{e}=.5, s=4,$ and $p=.95$ \n",
    "\n",
    "Plugging into the formula, we get:\n",
    "\n",
    "$1-\\left(1-(1-.5)^{4}\\right)^{\\mathrm{N}}=.95$\n",
    "\n",
    "Simplify and solve for $\\mathrm{N}:$\n",
    "\n",
    "$$\n",
    "\\begin{array}{l}\n",
    "1-\\left(1-\\left(.5^{4}\\right)\\right)^{\\mathrm{N}}=.95 \\\\\n",
    "1-(1-.0625)^{\\mathrm{N}}=.95 \\\\\n",
    "(0.9375)^{\\mathrm{N}}=1-.95=.05 \\\\\n",
    "\\mathrm{N}=\\log (.05) / \\log (0.9375)=46.4177 \\approx47\n",
    "\\end{array}\n",
    "$$\n",
    "\n",
    "So, 47 iterations are needed to have a $95 \\%$ probability of success [1].\n",
    "\n",
    "Question Inspiration/Source: https://www.cs.umd.edu/class/spring2018/cmsc426/Assignments/cmsc426_hw1_answer_key.pdf\n",
    "\n",
    "<br>\n",
    "<br>\n",
    "Q2 = Given 100 feature points identified in two images, how many possible combinations of 4 point pairs can one pick?  By what order of magnitude does performing RANSAC improve over brute-force (i.e.  trying all possible 4 point combinations)?\n",
    "<br>\n",
    "A2 = \n",
    "\n",
    "**Brute-force:**\n",
    "\n",
    "To brute-force the point matches, we need to pair every possible set of 4-points in each image with each other. This is a combinatorics problem.\n",
    "\n",
    "For each image, there are $100C_4$ sets of points. Thus there are $(100C_4)^2$ pairings of the sets from both images.\n",
    "\n",
    "For each pair of 4-point sets, there are 4! ways to match up their points.\n",
    "\n",
    "Thus the total possible pairings is $(4!) \\times (100C_4)^2 = 24\\times (3921225)^2 $\n",
    "\n",
    "The complexity of brute-force problem is:\n",
    "\n",
    "$100C_4$ is $\\frac{100!}{4!\\times96!}$ simplifying to (100 x 99 x 98 x 97)/4!. Based on numerator, $nC_k$ is $O(n^4)$. Since we square, $100C_4$ in our problem, brute-forcing complexity if $O(n^8)$ [1].\n",
    "\n",
    "**RANSAC:**\n",
    "\n",
    "Let probability  of success = 0.9999 of getting an inlier sample.\n",
    "\n",
    "We know the relationship between the number of trials N, sample size s, outlier ratio e and probability of success p, as given below:\n",
    "\n",
    "\n",
    "\\begin{equation}p = 1 - (1-(1-e)^s)^N\\end{equation}\n",
    "\n",
    "\\begin{equation}\\mathrm{N}=\\frac{log (1-\\mathrm{p})}{log (1-(1-\\mathrm{e})^ 4)}\\end{equation}\n",
    "\n",
    "For p = 0.9999 $N \\approx \\frac{-9.2103}{log(1-(1-e)^4)}$\n",
    "\n",
    "Number of iterations is a function of e, probability of a point being an outlier.\n",
    "\n",
    "If e is very bad, say 0.9, then N $\\approx$ 90000.\n",
    "\n",
    "If e is very good, say 0.2, then N $\\approx$ 17.\n",
    "\n",
    "In practice e is rarely bad. Considering the worst case scenario, RANSAC gives atleast 5 order-of-magnitude improvement [1].\n",
    "\n",
    "Question Inspiration/Source: https://www.cs.umd.edu/class/spring2018/cmsc426/Assignments/cmsc426_hw1_answer_key.pdf\n",
    "<br>\n",
    "<br>\n",
    "Q3 = State the pros, cons and some applications of RANSAC?\n",
    "<br>\n",
    "A3 = \n",
    "\n",
    "**Good:**\n",
    "\n",
    "* Robust to outliers.\n",
    "* Applicable for number of object function parameters of upto $\\approx$ 10.\n",
    "* Applicable for larger number of parameters and parameters are easily obtained than Hough transform [2][3].\n",
    "\n",
    "\n",
    "**Bad:**\n",
    "\n",
    "* Computational time grows quickly with fraction of outliers and number of parameters.\n",
    "* Not good for getting multiple fit [2][3].\n",
    "\n",
    "**Applications:**\n",
    "\n",
    "* Computing a homography (e.g., image stitching).\n",
    "* Estimating fundamental matrix (relating two views).\n",
    "* Domain plane from a aerial laser scanes.\n",
    "* Feature-based alignment and feature tracking [2][3].\n",
    "<br>\n",
    "<br>\n",
    "\n",
    "Q4 = How is RANSAC different from conventional smoothing techniques ?\n",
    "\n",
    "A4 = The RANSAC procedure is opposite to that of conventional smoothing techniques: Rather than using as much of the data as\n",
    "possible to obtain an initial solution and then attempting to eliminate the invalid data points, RANSAC uses as small an initial data set as feasible and enlarges this set with consistent data when possible\n",
    "\n",
    "<br>\n",
    "<br>\n",
    "\n",
    "Q5 = if two sampled datasets $ s_{1} $ and $ s_{2} $ has equally sized Consensus sets $S_{i}$ and $S_{j}$. How do we chose which sampled set should be used to create the model ?\n",
    "<br>\n",
    "A5 = The subset which has smallest standard deviation in the inliers is chose in case of ties.\n",
    "<br>\n",
    "<br>\n",
    "Q6 = What are various RANSAC initilization methods ?\n",
    "<br>\n",
    "A6 = An initial estimate for the parametrization may be found by employing a linear technique like DLT algorithm, directly provides H and hence the 9-vector h used to parametrize the iterative minimization. In general if there are n ≥ 4 correspondences, then all will be used in the linear solution.Linear techniques or minimal solutions are the two initialization\n",
    "techniques recommended in Hartley and Zissermann, \n",
    "\n",
    "The other initilization methods are An alternative method that is sometimes used is to carry out a sufficiently dense sampling of parameter space, iterating from each sampled starting point and retaining the best result. This is only possible if the dimension of the parameter space is sufficiently small. Another initialization method is simply to do without any effective initialization at all, starting the iteration at a given fixed point in parameter space. This method is not often viable. Iteration is very likely to fall into a false minimum or not converge. \n",
    "<br>\n",
    "<br>\n",
    "Q7 = \n",
    "<br>\n",
    "A7 =\n",
    "<br>\n",
    "<br>\n",
    "Q8 = \n",
    "<br>\n",
    "A8 =\n",
    "<br>\n",
    "<br>\n",
    "Q9 = \n",
    "<br>\n",
    "A9 =\n",
    "<br>\n",
    "<br>\n",
    "\n",
    "**Contribution:**\n",
    "\n",
    "Q1-Q3: dpadma2s\n",
    "\n",
    "Q4-Q6: jbandl2s\n",
    "\n",
    "Q7:Q8: smuthi2s"
   ]
  },
  {
   "cell_type": "code",
   "execution_count": null,
   "metadata": {
    "deletable": false,
    "editable": false,
    "nbgrader": {
     "cell_type": "code",
     "checksum": "e07225c2bcaab3c187ad0e76373d6320",
     "grade": true,
     "grade_id": "qa_test",
     "locked": true,
     "points": 0,
     "schema_version": 3,
     "solution": false,
     "task": false
    }
   },
   "outputs": [],
   "source": [
    "# This is a test cell, please ignore it!"
   ]
  },
  {
   "cell_type": "markdown",
   "metadata": {
    "deletable": false,
    "editable": false,
    "nbgrader": {
     "cell_type": "markdown",
     "checksum": "700c9ac62bf20227e52d2a54f90cca8c",
     "grade": false,
     "grade_id": "task1_description",
     "locked": true,
     "schema_version": 3,
     "solution": false,
     "task": false
    }
   },
   "source": [
    "## Task 1: Implement a base line RANSAC (by hand) to calculate Homography"
   ]
  },
  {
   "cell_type": "code",
   "execution_count": 38,
   "metadata": {
    "deletable": false,
    "nbgrader": {
     "cell_type": "code",
     "checksum": "1c83894d1222f38c916df23aba789943",
     "grade": true,
     "grade_id": "task1",
     "locked": false,
     "points": 3,
     "schema_version": 3,
     "solution": true,
     "task": false
    }
   },
   "outputs": [],
   "source": [
    "# YOUR CODE HERE\n",
    "import numpy as np\n",
    "import matplotlib.pyplot as plt\n",
    "import cv2\n",
    "import random\n",
    "\n",
    "\n",
    "# def parse_input():\n",
    "#     p1 = []\n",
    "#     p2 = []\n",
    "#     projection_file = open('./boat/homography.txt', mode='r+')\n",
    "#     line_1 = projection_file.readline()[8:-2].replace(\" \", \"\")\n",
    "#     line_2 = projection_file.readline()[8:-2].replace(\" \", \"\")\n",
    "\n",
    "#     line_1 = line_1.split(';')\n",
    "#     line_2 = line_2.split(';')\n",
    "\n",
    "#     for i in line_1:\n",
    "#         i1, i2 = i.split(',')\n",
    "#         p1.append([int(i1), int(i2)])\n",
    "#     for i in line_2:\n",
    "#         i1, i2 = i.split(',')\n",
    "#         p2.append([int(i1), int(i2)])\n",
    "\n",
    "#     return np.array(p1), np.array(p2)\n",
    "\n",
    "def parse_input():\n",
    "    with open(\"./boat/homography.txt\") as f:\n",
    "        lines = f.readlines()\n",
    "\n",
    "    # Get the text coordinates\n",
    "    lines[0] = lines[0][lines[0].find('[') + 1:lines[0].find(']')]\n",
    "    lines[1] = lines[1][lines[1].find('[') + 1:lines[1].find(']')]\n",
    "\n",
    "    # Split coordinate pairs\n",
    "    lines[0] = lines[0].split(';')\n",
    "    lines[1] = lines[1].split(';')\n",
    "\n",
    "    # Map coordinates to 2D int arrays\n",
    "    x = []\n",
    "    x_tick = []\n",
    "    for i in range(len(lines[0])):\n",
    "        x.append(list(map(int, lines[0][i].split(','))))\n",
    "        x_tick.append(list(map(int, lines[1][i].split(','))))\n",
    "\n",
    "    x = np.array(x)\n",
    "    x_tick = np.array(x_tick)\n",
    "    return x,x_tick\n",
    "\n",
    "\n",
    "def normalize(X, to_homog=True):\n",
    "    mean = np.mean(X, axis=0)\n",
    "    X_norm = X - mean\n",
    "    # Average distance to origin\n",
    "    scale_factor = np.mean(np.sqrt(np.sum(X_norm ** 2, axis=1)))\n",
    "    scale_factor = np.sqrt(2) / scale_factor\n",
    "    X_norm = X_norm * scale_factor\n",
    "    if to_homog:\n",
    "        X_norm = np.append(X_norm, np.ones((len(X_norm), 1)), axis=1)\n",
    "    similarity_transform = np.array([[scale_factor, 0, - scale_factor * mean[0]],\n",
    "                                     [0, scale_factor, - scale_factor * mean[1]],\n",
    "                                     [0, 0, 1]])\n",
    "\n",
    "    return similarity_transform, X_norm\n",
    "\n",
    "\n",
    "def build_A(X, X_tick):\n",
    "    # Initializations for A matrix\n",
    "    a_12 = list()\n",
    "    a_13 = list()\n",
    "    a_21 = list()\n",
    "    a_23 = list()\n",
    "    result = list()\n",
    "\n",
    "    # Forming A matrix as provided in Reference 1 and Hartley and zisserman multiple view geometry\n",
    "\n",
    "    for i, j in zip(X, X_tick):\n",
    "        a_12 = np.array([list(-np.dot(j[2], i.transpose()))])\n",
    "        a_13 = np.array([list(np.dot(j[1], i.transpose()))])\n",
    "        a_21 = np.array([list(np.dot(j[2], i.transpose()))])\n",
    "        a_23 = np.array([list(-np.dot(j[0], i.transpose()))])\n",
    "\n",
    "        r1 = np.hstack((np.hstack((np.zeros((1, 3)), a_12)), a_13))\n",
    "        r2 = np.hstack((np.hstack((a_21, np.zeros((1, 3)))), a_23))\n",
    "\n",
    "        a = np.vstack((r1, r2))\n",
    "\n",
    "        for k in a:\n",
    "            result.append(list(k))\n",
    "    A = np.array(result)\n",
    "    return A\n",
    "\n",
    "\n",
    "def get_homography(X, X_tick, to_norm=True):\n",
    "    if to_norm:\n",
    "        norm_transform, X = normalize(X)\n",
    "        norm_transform_tick, X_tick = normalize(X_tick)\n",
    "    A = build_A(X, X_tick)\n",
    "    u, s, vt = np.linalg.svd(A, full_matrices=False)\n",
    "    homography = vt[np.argmin(s)].reshape(3, 3)\n",
    "\n",
    "    if to_norm:\n",
    "        homography = np.dot(np.linalg.inv(norm_transform_tick), np.dot(homography, norm_transform))\n",
    "\n",
    "    homography = homography / homography[2][2]\n",
    "\n",
    "    return homography\n",
    "\n",
    "\n",
    "def calculate_transfer_error_symmetric(x, x_tick, homography):\n",
    "    \"\"\"\n",
    "    d = sqrt(d(x, x'.inv(H))^2 + d(x', x.H)^2)\n",
    "    \"\"\"\n",
    "    x_tick_transformed = np.dot(homography, np.append(x, 1.))\n",
    "    x_transformed = np.dot(np.linalg.inv(homography), np.append(x_tick, 1.))\n",
    "    squared_distance = euclidean_squared(x, x_transformed[:2]) + euclidean_squared(x_tick, x_tick_transformed[:2])\n",
    "\n",
    "    return np.sqrt(squared_distance)\n",
    "\n",
    "def euclidean_squared(x, y):\n",
    "    \"\"\"Squared euclidean distance between 2 1D arrays\"\"\"\n",
    "    return np.sum(np.subtract(x, y) ** 2)\n",
    "\n",
    "\n",
    "def H_from_opencv(p1,p2):\n",
    "    H, s = cv2.findHomography(p1, p2,cv2.RANSAC, 5)\n",
    "    return H\n",
    "\n",
    "class RANSAC:\n",
    "    def __init__(self, error_threshold, p_outlier, p=0.99, sample_size_min=4, max_iteration_num=100):\n",
    "        self.error_threshold = error_threshold\n",
    "        self.p_outlier = p_outlier\n",
    "        self.min_sample_size = sample_size_min\n",
    "        self.max_iteration_num = max_iteration_num\n",
    "        \n",
    "    def gen_random_indices(self, total_num_sample):\n",
    "        if self.min_sample_size > total_num_sample:\n",
    "            return None\n",
    "        random.seed()\n",
    "        random_indices = []\n",
    "        for i in range(self.min_sample_size):\n",
    "            random_indices.append(random.randint(0, total_num_sample - 1))\n",
    "\n",
    "        return random_indices\n",
    "    \n",
    "    def extract_inliers(self, x, x_tick, homography, sample_num):\n",
    "        inlier_indices = []\n",
    "        for j in range(sample_num):\n",
    "#             print(calculate_transfer_error_symmetric(x[j], x_tick[j], homography))\n",
    "            if (calculate_transfer_error_symmetric(x[j], x_tick[j], homography)) < self.error_threshold:\n",
    "                  inlier_indices.append(j)\n",
    "        return inlier_indices\n",
    "    \n",
    "    def calc_homography(self, x, x_tick):\n",
    "        iteration_num = self.max_iteration_num\n",
    "        sample_num = len(x)\n",
    "        inlier_num_threshold = int((1 - self.p_outlier) * sample_num * 0.8)\n",
    "        print('Number of inlers needed are {}'.format(inlier_num_threshold))\n",
    "        for i in range(iteration_num):\n",
    "            random_indices = self.gen_random_indices(sample_num)\n",
    "            homography = get_homography(x[random_indices], x_tick[random_indices])\n",
    "            inliers = self.extract_inliers(x, x_tick, homography, sample_num)\n",
    "            if len(inliers) > inlier_num_threshold:\n",
    "                print(\"Returning after {} iternations\".format(i))\n",
    "                return inliers, get_homography(x[inliers], x_tick[inliers])\n",
    "        print('No sufficient inliers found') "
   ]
  },
  {
   "cell_type": "code",
   "execution_count": 57,
   "metadata": {
    "deletable": false,
    "nbgrader": {
     "cell_type": "code",
     "checksum": "3eed868db4d7837aacba478d2a850267",
     "grade": true,
     "grade_id": "task1_code1",
     "locked": false,
     "points": 0,
     "schema_version": 3,
     "solution": true,
     "task": false
    }
   },
   "outputs": [
    {
     "name": "stdout",
     "output_type": "stream",
     "text": [
      "[[ 8.75450973e-01  2.32382658e-01  3.46996190e+00]\n",
      " [-2.14134751e-01  8.79256777e-01  1.29608155e+02]\n",
      " [ 1.10832036e-05  3.04033707e-05  1.00000000e+00]]\n",
      "[[ 8.75621247e-01  2.32487163e-01  3.42174345e+00]\n",
      " [-2.14118735e-01  8.79376769e-01  1.29602218e+02]\n",
      " [ 1.12366054e-05  3.05886233e-05  1.00000000e+00]]\n",
      "Number of inlers needed are 12\n",
      "Returning after 82 iternations\n",
      "23\n",
      "[[ 8.75010023e-01  2.23010631e-01  5.01519929e+00]\n",
      " [-2.13057706e-01  8.72181133e-01  1.30278998e+02]\n",
      " [ 1.43922395e-05  1.48898458e-05  1.00000000e+00]]\n"
     ]
    }
   ],
   "source": [
    "# YOUR CODE HERE\n",
    "X, X_tick = parse_input()\n",
    "H = get_homography(X, X_tick)\n",
    "H_ocv = H_from_opencv(X, X_tick)\n",
    "print(H)\n",
    "print(H_ocv)\n",
    "average_error = 0.\n",
    "for i in range(len(X)):\n",
    "    distance = calculate_transfer_error_symmetric(X[i], X_tick[i], H)\n",
    "    #print(distance)\n",
    "    average_error = average_error + distance\n",
    "\n",
    "average_error = average_error / len(X)\n",
    "ransac_inst = RANSAC(average_error*13.5,0.4)\n",
    "inliers, ransac_homography = ransac_inst.calc_homography(X, X_tick)\n",
    "print(len(inliers))\n",
    "print(ransac_homography)"
   ]
  },
  {
   "cell_type": "markdown",
   "metadata": {
    "deletable": false,
    "nbgrader": {
     "cell_type": "markdown",
     "checksum": "2dade55778df86d2802edec088abf0a7",
     "grade": true,
     "grade_id": "task1_md1",
     "locked": false,
     "points": 0,
     "schema_version": 3,
     "solution": true,
     "task": false
    }
   },
   "source": [
    "YOUR ANSWER HERE"
   ]
  },
  {
   "cell_type": "markdown",
   "metadata": {
    "deletable": false,
    "nbgrader": {
     "cell_type": "markdown",
     "checksum": "59e54d8437489f1a53f8154516d4bfa5",
     "grade": true,
     "grade_id": "task1_md2",
     "locked": false,
     "points": 0,
     "schema_version": 3,
     "solution": true,
     "task": false
    }
   },
   "source": [
    "YOUR ANSWER HERE"
   ]
  },
  {
   "cell_type": "markdown",
   "metadata": {
    "deletable": false,
    "editable": false,
    "nbgrader": {
     "cell_type": "markdown",
     "checksum": "654c6967debc06ee772bed2b6671aad1",
     "grade": false,
     "grade_id": "task2_description",
     "locked": true,
     "schema_version": 3,
     "solution": false,
     "task": false
    }
   },
   "source": [
    "## Task 2: Compare your new RANSAC algorithm"
   ]
  },
  {
   "cell_type": "markdown",
   "metadata": {
    "deletable": false,
    "editable": false,
    "nbgrader": {
     "cell_type": "markdown",
     "checksum": "7d4d6d73770a4f4405a6dcd7d5bc4b7f",
     "grade": false,
     "grade_id": "task2a_description",
     "locked": true,
     "schema_version": 3,
     "solution": false,
     "task": false
    }
   },
   "source": [
    "### a) Compare your new RANSAC algorithm to your hand made DLT"
   ]
  },
  {
   "cell_type": "code",
   "execution_count": null,
   "metadata": {
    "deletable": false,
    "nbgrader": {
     "cell_type": "code",
     "checksum": "1890a28bfee53b3d23b7c1dbfa69c4ef",
     "grade": true,
     "grade_id": "task2a",
     "locked": false,
     "points": 1,
     "schema_version": 3,
     "solution": true,
     "task": false
    }
   },
   "outputs": [],
   "source": [
    "# YOUR CODE HERE\n",
    "raise NotImplementedError()"
   ]
  },
  {
   "cell_type": "code",
   "execution_count": null,
   "metadata": {
    "deletable": false,
    "nbgrader": {
     "cell_type": "code",
     "checksum": "9f58f6213ad6b8722d5ef759b61a033a",
     "grade": true,
     "grade_id": "task2a_code1",
     "locked": false,
     "points": 0,
     "schema_version": 3,
     "solution": true,
     "task": false
    }
   },
   "outputs": [],
   "source": [
    "# YOUR CODE HERE\n",
    "raise NotImplementedError()"
   ]
  },
  {
   "cell_type": "markdown",
   "metadata": {
    "deletable": false,
    "nbgrader": {
     "cell_type": "markdown",
     "checksum": "1e1355d0a2405c7af8e498d147a651ba",
     "grade": true,
     "grade_id": "task2a_md1",
     "locked": false,
     "points": 0,
     "schema_version": 3,
     "solution": true,
     "task": false
    }
   },
   "source": [
    "YOUR ANSWER HERE"
   ]
  },
  {
   "cell_type": "markdown",
   "metadata": {
    "deletable": false,
    "nbgrader": {
     "cell_type": "markdown",
     "checksum": "1d7731aeb076955985b297cea9f85786",
     "grade": true,
     "grade_id": "task2a_md2",
     "locked": false,
     "points": 0,
     "schema_version": 3,
     "solution": true,
     "task": false
    }
   },
   "source": [
    "YOUR ANSWER HERE"
   ]
  },
  {
   "cell_type": "markdown",
   "metadata": {
    "deletable": false,
    "editable": false,
    "nbgrader": {
     "cell_type": "markdown",
     "checksum": "d22a0fda6c5b7347c34acda0eeca6854",
     "grade": false,
     "grade_id": "task2b_description",
     "locked": true,
     "schema_version": 3,
     "solution": false,
     "task": false
    }
   },
   "source": [
    "### b) Compare your new RANSAC algorithm to a handmade normalised DLT"
   ]
  },
  {
   "cell_type": "code",
   "execution_count": null,
   "metadata": {
    "deletable": false,
    "nbgrader": {
     "cell_type": "code",
     "checksum": "514b8b58a04391a5d3a56cd3d1cba1e2",
     "grade": true,
     "grade_id": "task2b",
     "locked": false,
     "points": 1,
     "schema_version": 3,
     "solution": true,
     "task": false
    }
   },
   "outputs": [],
   "source": [
    "# YOUR CODE HERE\n",
    "raise NotImplementedError()"
   ]
  },
  {
   "cell_type": "code",
   "execution_count": null,
   "metadata": {
    "deletable": false,
    "nbgrader": {
     "cell_type": "code",
     "checksum": "8e95f574eed5f2756d8c59f7b89d2db8",
     "grade": true,
     "grade_id": "task2b_code1",
     "locked": false,
     "points": 0,
     "schema_version": 3,
     "solution": true,
     "task": false
    }
   },
   "outputs": [],
   "source": [
    "# YOUR CODE HERE\n",
    "raise NotImplementedError()"
   ]
  },
  {
   "cell_type": "markdown",
   "metadata": {
    "deletable": false,
    "nbgrader": {
     "cell_type": "markdown",
     "checksum": "41343be686440accdc726f680cc17f53",
     "grade": true,
     "grade_id": "task2b_md1",
     "locked": false,
     "points": 0,
     "schema_version": 3,
     "solution": true,
     "task": false
    }
   },
   "source": [
    "YOUR ANSWER HERE"
   ]
  },
  {
   "cell_type": "markdown",
   "metadata": {
    "deletable": false,
    "nbgrader": {
     "cell_type": "markdown",
     "checksum": "28849d335990f94d95f3027cd18794d9",
     "grade": true,
     "grade_id": "task2b_md2",
     "locked": false,
     "points": 0,
     "schema_version": 3,
     "solution": true,
     "task": false
    }
   },
   "source": [
    "YOUR ANSWER HERE"
   ]
  },
  {
   "cell_type": "markdown",
   "metadata": {
    "deletable": false,
    "editable": false,
    "nbgrader": {
     "cell_type": "markdown",
     "checksum": "35660c3d2269dede56dee09617ecc1c2",
     "grade": false,
     "grade_id": "task2c_description",
     "locked": true,
     "schema_version": 3,
     "solution": false,
     "task": false
    }
   },
   "source": [
    "### c) Compare your new RANSAC algorithm to a library RANSAC implementation."
   ]
  },
  {
   "cell_type": "code",
   "execution_count": null,
   "metadata": {
    "deletable": false,
    "nbgrader": {
     "cell_type": "code",
     "checksum": "c9d3ba37319aa08c12557adc527b225f",
     "grade": true,
     "grade_id": "task2c",
     "locked": false,
     "points": 1,
     "schema_version": 3,
     "solution": true,
     "task": false
    }
   },
   "outputs": [],
   "source": [
    "# YOUR CODE HERE\n",
    "raise NotImplementedError()"
   ]
  },
  {
   "cell_type": "code",
   "execution_count": null,
   "metadata": {
    "deletable": false,
    "nbgrader": {
     "cell_type": "code",
     "checksum": "78dc7b88ff5ba5ea860b9eee89dfc328",
     "grade": true,
     "grade_id": "task2c_code1",
     "locked": false,
     "points": 0,
     "schema_version": 3,
     "solution": true,
     "task": false
    }
   },
   "outputs": [],
   "source": [
    "# YOUR CODE HERE\n",
    "raise NotImplementedError()"
   ]
  },
  {
   "cell_type": "markdown",
   "metadata": {
    "deletable": false,
    "nbgrader": {
     "cell_type": "markdown",
     "checksum": "7cc4c2f1a1397a4ac279182b82eb0ee6",
     "grade": true,
     "grade_id": "task2c_md1",
     "locked": false,
     "points": 0,
     "schema_version": 3,
     "solution": true,
     "task": false
    }
   },
   "source": [
    "YOUR ANSWER HERE"
   ]
  },
  {
   "cell_type": "markdown",
   "metadata": {
    "deletable": false,
    "nbgrader": {
     "cell_type": "markdown",
     "checksum": "0633608a0d95b3321471169cc88015dd",
     "grade": true,
     "grade_id": "task2c_md2",
     "locked": false,
     "points": 0,
     "schema_version": 3,
     "solution": true,
     "task": false
    }
   },
   "source": [
    "YOUR ANSWER HERE"
   ]
  },
  {
   "cell_type": "markdown",
   "metadata": {},
   "source": [
    "References:\n",
    "    \n",
    "1. Yiannis Aloimonos, Jack Rasiel, and Kaan Elgin, CMSC 426 Computer Vision Homework 1, Accessed on: 04.05.2020 [Online], URL: https://www.cs.umd.edu/class/spring2018/cmsc426/Assignments/cmsc426_hw1_answer_key.pdf.\n",
    "2. Kris Kitani, RANSAC, 16-385 Computer Vision, Carnegie Mellon University, Accessed on: 04.05.2020 [Online], URL: http://www.cs.cmu.edu/~16385/s17/Slides/10.3_2D_Alignment__RANSAC.pdf.\n",
    "3. Cyrill Stachniss, Photogrammetry II Chapter SIFT features and RANSAC, University of Bonn, Accessed on: 04.05.2020 [Online], URL: https://www.youtube.com/watch?v=oT9c_LlFBqs."
   ]
  },
  {
   "cell_type": "code",
   "execution_count": null,
   "metadata": {},
   "outputs": [],
   "source": []
  }
 ],
 "metadata": {
  "kernelspec": {
   "display_name": "Python 3",
   "language": "python",
   "name": "python3"
  },
  "language_info": {
   "codemirror_mode": {
    "name": "ipython",
    "version": 3
   },
   "file_extension": ".py",
   "mimetype": "text/x-python",
   "name": "python",
   "nbconvert_exporter": "python",
   "pygments_lexer": "ipython3",
   "version": "3.7.4"
  },
  "nbTranslate": {
   "displayLangs": [
    "*"
   ],
   "hotkey": "alt-t",
   "langInMainMenu": true,
   "sourceLang": "en",
   "targetLang": "fr",
   "useGoogleTranslate": true
  }
 },
 "nbformat": 4,
 "nbformat_minor": 4
}
