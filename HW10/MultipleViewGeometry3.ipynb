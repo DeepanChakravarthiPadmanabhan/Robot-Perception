{
 "cells": [
  {
   "cell_type": "markdown",
   "metadata": {
    "deletable": false,
    "editable": false,
    "nbgrader": {
     "cell_type": "markdown",
     "checksum": "dfe9894bf2e0935c9d50e3aa9e5cda18",
     "grade": false,
     "grade_id": "header_info",
     "locked": true,
     "schema_version": 3,
     "solution": false,
     "task": false
    }
   },
   "source": [
    "<div class=\"alert alert-block alert-info\" >\n",
    "    <h1>Robot Perception</h1>\n",
    "    <h3>General Information:</h3>\n",
    "    <p>Please do not add or delete any cells. Answers belong into the corresponding cells (below the question). If a function is given (either as a signature or a full function), you should not change the name, arguments or return value of the function.<br><br> If you encounter empty cells underneath the answer that can not be edited, please ignore them, they are for testing purposes.<br><br>When editing an assignment there can be the case that there are variables in the kernel. To make sure your assignment works, please restart the kernel and run all cells before submitting (e.g. via <i>Kernel -> Restart & Run All</i>).</p>\n",
    "    <p>Code cells where you are supposed to give your answer often include the line  ```raise NotImplementedError```. This makes it easier to automatically grade answers. If you edit the cell please outcomment or delete this line. </p>\n",
    "    <br>The server resource is limited to 2 core cpu and 1GB RAM at max per user. If you use more than that, the kernel may die. Nevertheless, you can bring it up again by restaring the kernel (Kernel -> Restart and clear output).<br>\n",
    "    <h3>Submission:</h3>\n",
    "    <p>Upload all attachments required to run the notebook and provide a correct path to them.</p>\n",
    "    <p><strike>Please submit your notebook via the web interface (in the main view -> Assignments -> Submit)</strike>.</p> \n",
    "    <p>Starting from RP-HW07 onwards, submit the notebook and pdf version of it via LEA.</p>\n",
    "    <p>The assignments are due on <b>Monday at 0:00.</b> (i.e. Sunday 23:59 + 1 min)</p>\n",
    "    <h3>Group Work:</h3>\n",
    "    <p>You are allowed to work in groups of up to two people. Please enter the UID (your username here) of each member of the group into the next cell. We apply plagiarism checking, so do not submit solutions from other people except your team members. If an assignment has a copied solution, the task will be graded with 0 points for all people with the same solution.</p>\n",
    "    <p><b>YOU SHOULD ONLY SUBMIT EXACTLY ONE PER GROUP</b></p>\n",
    "    <h3>Questions about the Assignment:</h3>\n",
    "    <p>If you have questions about the assignment please post them in the LEA forum before the deadline. Don't wait until the last day to post questions.</p></div>"
   ]
  },
  {
   "cell_type": "markdown",
   "metadata": {
    "deletable": false,
    "editable": false,
    "nbgrader": {
     "cell_type": "markdown",
     "checksum": "d8d622db9c87129fa84cea631c77806a",
     "grade": false,
     "grade_id": "header_warning",
     "locked": true,
     "schema_version": 3,
     "solution": false,
     "task": false
    }
   },
   "source": [
    "<div class=\"alert alert-block alert-danger\">\n",
    "<p><b>Put your answer in the PROVIDED CELLS only!</b></p>\n",
    "<b>Any new cell is not visible during the grading.</b>\n",
    "<p>We provide additional code and markdown cells for each question, so that you do not have to add the new ones.</p>\n",
    "<p>Do not copy the metadata from one cell to another as it is unique to that cell only.</p></div>"
   ]
  },
  {
   "cell_type": "code",
   "execution_count": 1,
   "metadata": {
    "deletable": false,
    "nbgrader": {
     "cell_type": "code",
     "checksum": "55b0b9f8341b26a34bb9d1792b84f0bb",
     "grade": false,
     "grade_id": "members",
     "locked": false,
     "schema_version": 3,
     "solution": true,
     "task": false
    }
   },
   "outputs": [],
   "source": [
    "'''\n",
    "Group Work:\n",
    "Enter the UID (i.e. student2s) of each team member into the variables. \n",
    "If you work alone please leave the second variable empty, or extend this list if necessary.\n",
    "'''\n",
    "member1 = 'dpadma2s'\n",
    "member2 = 'jbandl2s'\n",
    "member3 = 'smuthi2s'"
   ]
  },
  {
   "cell_type": "markdown",
   "metadata": {
    "deletable": false,
    "editable": false,
    "nbgrader": {
     "cell_type": "markdown",
     "checksum": "cd958afe1307bb29eff829fd57fe6c2f",
     "grade": false,
     "grade_id": "qa_description",
     "locked": true,
     "schema_version": 3,
     "solution": false,
     "task": false
    }
   },
   "source": [
    "## Q&As: Pose three questions (and ans.) to last lecture, 3 Q&As per member [1 point]\n",
    "\n",
    "The format of the question and answer should be [Q1,A1,Q2,A2,Q3,A3,...,Qn,An], where Q1 is the question and A1 is the answer.<br>\n",
    "If you work in a group, the total of the Q&As is $3xn$, where $n$ is the total number of members.<br>\n",
    "\n",
    "Put your answer in the provided cell below!<br>\n",
    "If you work in a group, you can extend the provided Q&A template, but please use the same format:\n",
    "1. Q and A are separated by ONE $<$br$>$\n",
    "2. Q&A and other Q&As are separated by TWO $<$br$>$\n",
    "\n",
    "Or copy the provided format in the answer cell, and change the Q&A number.\n",
    "<br>\n",
    "Do not remove any markdown tag like $<$br$>$ in the answer cell."
   ]
  },
  {
   "cell_type": "markdown",
   "metadata": {
    "deletable": false,
    "nbgrader": {
     "cell_type": "markdown",
     "checksum": "be944ca59eecc924dddf4b293192b057",
     "grade": true,
     "grade_id": "qa",
     "locked": false,
     "points": 1,
     "schema_version": 3,
     "solution": true,
     "task": false
    }
   },
   "source": [
    "<br>\n",
    "Q1 = What is the property of Fundamental matrix relating to the EPIPOLE?\n",
    "<br>\n",
    "A1 = For any point $x$, the epipolar line $l' = Fx$ contains the epipole $e'$. Thus $e'$ satisfies $e'^T(Fx) = (e'^TF)x = 0$ for all $x$. It follows that $e'^TF = 0$, i.e. $e'$ is the left null-vector of $F$. Similarly $Fe = 0$, i.e. $e$ is the right null-vector of $F$.\n",
    "\n",
    "$Fe = 0$\n",
    "\n",
    "$F^Te'=0$\n",
    "<br>\n",
    "<br>\n",
    "Q2 = Expand SIFT. How many important steps are involved in SIFT algorithm. Name the steps.\n",
    "<br>\n",
    "A2 = \n",
    "SIFT: Scale-Invariant Feature Transform. \n",
    "\n",
    "SIFT main paper, ' Distinctive Image Features from Scale-Invariant Keypoints' describes four steps as follows:\n",
    "* Scale-space Extrema Detection\n",
    "* Keypoint Localization\n",
    "* Orientation assignment\n",
    "* Keypoint descriptor and matching.\n",
    "\n",
    "<br>\n",
    "<br>\n",
    "Q3 = If there exists a Fundamental matrix $F$ for each of the point pairs $(P,P')$ and $(\\bar P, \\bar P')$. What can you infer?\n",
    "<br>\n",
    "A3 =\n",
    "\n",
    "Let $F$ be a fundamental matrix and let $(P, P')$ and $(\\bar P, \\bar P')$ be two pairs of camera matrices such that $F$ is the fundamental matrix corresponding to each of these pairs. Then there exists a non-singular 4 x 4 matrix $H$ such that $\\bar P = PH$ and $\\bar P' = P'H$.\n",
    "<br>\n",
    "<br>\n",
    "Q4 = Your third question here!\n",
    "<br>\n",
    "A4 = Your Q3 answer here!\n",
    "<br>\n",
    "<br>\n",
    "Q5 = Your third question here!\n",
    "<br>\n",
    "A5 = Your Q3 answer here!\n",
    "<br>\n",
    "<br>\n",
    "Q6 = Your third question here!\n",
    "<br>\n",
    "A6 = Your Q3 answer here!\n",
    "<br>\n",
    "<br>\n",
    "Q7 = What are few applications of SIFT?\n",
    "<br>\n",
    "A7 = \n",
    "* Object recognition\n",
    "* Robot localization and mapping\n",
    "* Panorama stitching\n",
    "* 3D scene modeling, recognition and tracking\n",
    "* Human action recognition\n",
    "\n",
    "<br>\n",
    "<br>\n",
    "Q8 = What are major advantages of SIFT?\n",
    "<br>\n",
    "A8 = Major advantages of SIFT are:\n",
    "\n",
    "* Locality: features are local, so robust to occlusion and clutter (no prior segmentation)\n",
    "* Distinctiveness: individual features can be matched to a large database of objects\n",
    "* Quantity: many features can be generated for even small objects\n",
    "* Efficiency: close to real-time performance\n",
    "* Extensibility: can easily be extended to a wide range of different feature types, with each adding robustness\n",
    "\n",
    "<br>\n",
    "<br>\n",
    "Q9 = What are the recommendations for computing Fundamental Matrix using different algorithms?\n",
    "<br>\n",
    "A9 = \n",
    "\n",
    "* Do not use the unnormalized 8-point algorithm.\n",
    "* For a quick method, easy to implement, use the normalized 8-point algorithm. This often gives adequate results, and is ideal as a first step in other algorithms.\n",
    "* If more accuracy is desired, use the algebraic minimization method, either with or without iteration on the position of the epipole.\n",
    "* As an alternative that gives excellent results, use an iterative-minimization method that minimizes the Sampson cost function. This and the iterative algebraic method give similar results.\n",
    "* To be certain of getting the best results, if Gaussian noise is a viable assumption, implement the Gold Standard algorithm."
   ]
  },
  {
   "cell_type": "code",
   "execution_count": null,
   "metadata": {
    "deletable": false,
    "nbgrader": {
     "cell_type": "code",
     "checksum": "97c3956394d4e893eb94032ae1d6734e",
     "grade": false,
     "grade_id": "time",
     "locked": false,
     "schema_version": 3,
     "solution": true,
     "task": false
    }
   },
   "outputs": [],
   "source": [
    "'''\n",
    "Provide the time required to solve the assignment per task as well as the sum (in minutes).\n",
    "Extend this list if needed.\n",
    "'''\n",
    "\n",
    "Task1 = 0\n",
    "\n",
    "# YOUR CODE HERE\n",
    "raise NotImplementedError()"
   ]
  },
  {
   "cell_type": "markdown",
   "metadata": {
    "deletable": false,
    "editable": false,
    "nbgrader": {
     "cell_type": "markdown",
     "checksum": "bfa1cdc52e9ba538d43749e4b7d2d7c3",
     "grade": false,
     "grade_id": "reading",
     "locked": true,
     "schema_version": 3,
     "solution": false,
     "task": false
    }
   },
   "source": [
    "# Reading\n",
    "\n",
    "Since there is no lecture on 02.06.2020, the following are recommended reading topics from chapter 11:\n",
    "\n",
    "* 11.1 the Basic equation x'T F x = 0\n",
    "* 11.2 the normalized 8-pts ALgo\n",
    "* 11.4. Geom distance / Gold STD (incluseding 11.4.3 Sampsons distance)\n",
    "* 11.5. Exp. evaluation\n",
    "* 11.6. get F automatically.\n"
   ]
  },
  {
   "cell_type": "markdown",
   "metadata": {},
   "source": [
    "# Reading material summary on Chapter 11\n",
    "\n",
    "### dpadma2s summary\n",
    "---\n",
    "![dpadma2s_summary](dpadma2s_summary_chapter11.jpg)\n",
    "### smuthi2s summary\n",
    "---\n",
    "![smuthi2s_summary](smuthi2s_summary_11chapter.png)"
   ]
  },
  {
   "cell_type": "markdown",
   "metadata": {
    "deletable": false,
    "editable": false,
    "nbgrader": {
     "cell_type": "markdown",
     "checksum": "5ec6063ddedb8803d4dc4ed2a9129288",
     "grade": false,
     "grade_id": "task1_description",
     "locked": true,
     "schema_version": 3,
     "solution": false,
     "task": false
    }
   },
   "source": [
    "# Task1: Get Lowe article and fastly read it (i.e. leave out technical details which you don‘t get on first sight), give a summary (mindmap, bullet list etc).\t"
   ]
  },
  {
   "cell_type": "markdown",
   "metadata": {
    "deletable": false,
    "nbgrader": {
     "cell_type": "markdown",
     "checksum": "a0875f7137b0b73989e061f1c902a109",
     "grade": true,
     "grade_id": "task1",
     "locked": false,
     "points": 1,
     "schema_version": 3,
     "solution": true,
     "task": false
    }
   },
   "source": [
    "# Reading material summary on Lowe article\n",
    "\n",
    "### dpadma2s summary\n",
    "\n",
    "![dpadma2s_summary_lowe](dpadma2s_summary_lowe.jpg)\n",
    "### smuthi2s summary\n",
    "\n",
    "![smuthi2s_summary_SIFT](smuthi2s_summary_SIFT.png)"
   ]
  },
  {
   "cell_type": "code",
   "execution_count": null,
   "metadata": {},
   "outputs": [],
   "source": []
  }
 ],
 "metadata": {
  "kernelspec": {
   "display_name": "Python 3",
   "language": "python",
   "name": "python3"
  },
  "language_info": {
   "codemirror_mode": {
    "name": "ipython",
    "version": 3
   },
   "file_extension": ".py",
   "mimetype": "text/x-python",
   "name": "python",
   "nbconvert_exporter": "python",
   "pygments_lexer": "ipython3",
   "version": "3.7.6"
  }
 },
 "nbformat": 4,
 "nbformat_minor": 4
}
