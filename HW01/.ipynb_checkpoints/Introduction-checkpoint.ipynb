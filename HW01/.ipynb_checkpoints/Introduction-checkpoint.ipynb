{
 "cells": [
  {
   "cell_type": "markdown",
   "metadata": {
    "deletable": false,
    "editable": false,
    "nbgrader": {
     "cell_type": "markdown",
     "checksum": "dc8c5bb48c035f0e7246c834c30bc4de",
     "grade": false,
     "grade_id": "cell-664ecbca4b7c23d8",
     "locked": true,
     "schema_version": 3,
     "solution": false,
     "task": false
    }
   },
   "source": [
    "<div class=\"alert alert-block alert-danger\">\n",
    "\n",
    "# Robot Perception SS20\n",
    "# HW-01 Introduction \n",
    "\n",
    "\n",
    "</div>"
   ]
  },
  {
   "cell_type": "markdown",
   "metadata": {},
   "source": [
    "### Matriculation number: \n",
    "\n",
    "1. Deepan Chakravarthi Padmanabhan (9034816)\n",
    "2. Jaswanth Bandlamudi (9034908)\n",
    "3. Venkata Santosh Sai Ramireddy Muthireddy (9035746)"
   ]
  },
  {
   "cell_type": "markdown",
   "metadata": {
    "deletable": false,
    "editable": false,
    "nbgrader": {
     "cell_type": "markdown",
     "checksum": "4e888fd7d358b0714b9eab32b0396ce2",
     "grade": false,
     "grade_id": "task1_description",
     "locked": true,
     "schema_version": 3,
     "solution": false,
     "task": false
    }
   },
   "source": [
    "## 1. Pose 3 questions to last lecture"
   ]
  },
  {
   "cell_type": "markdown",
   "metadata": {},
   "source": [
    "1. What is equivalence relation and equivalence classes ?\n",
    "\n",
    "2. Why is the ideal line or line at infinity given by [0,0,1]^T when the origin point is defined by [0,0,1]^T in Homogenous coordinates?\n",
    "\n",
    "3. What is the difference between affine transformation and projective transformation?"
   ]
  },
  {
   "cell_type": "markdown",
   "metadata": {
    "deletable": false,
    "editable": false,
    "nbgrader": {
     "cell_type": "markdown",
     "checksum": "af475391f11d9f406223fc5fb77159f2",
     "grade": false,
     "grade_id": "task2_description",
     "locked": true,
     "schema_version": 3,
     "solution": false,
     "task": false
    }
   },
   "source": [
    "## 2. When defining projective space $IP^2$ what is the difference between\n",
    "#### a. $[x,y,z]^T [u,v,w]^T$ are called equivalent iff ∃ $\\lambda > 0 : \\lambda [x,y,z]^T = [u,v,w]^T$ and\n",
    "#### b. $[x,y,z]^T [u,v,w]^T$ are called equivalent iff ∃ $\\lambda \\neq 0 : \\lambda [x,y,z]^T = [u,v,w]^T$\n",
    "\n",
    "what is correct?"
   ]
  },
  {
   "cell_type": "markdown",
   "metadata": {
    "deletable": false,
    "nbgrader": {
     "cell_type": "markdown",
     "checksum": "ba1cf76b14c360d045f0c1aeff3edb50",
     "grade": true,
     "grade_id": "task2",
     "locked": false,
     "points": 2,
     "schema_version": 3,
     "solution": true,
     "task": false
    }
   },
   "source": [
    "Given two statements 'a' and 'b'.\n",
    "\n",
    "'a': $[x,y,z]^T [u,v,w]^T$ are called equivalent iff ∃ $\\lambda > 0 : \\lambda [x,y,z]^T = [u,v,w]^T$\n",
    "\n",
    "'b': $[x,y,z]^T [u,v,w]^T$ are called equivalent iff ∃ $\\lambda \\neq 0 : \\lambda [x,y,z]^T = [u,v,w]^T$\n",
    "\n",
    "'a' indicates only positive scaling factor whereas 'b' indicates a generalized equivalence with non-zero scaling factor as per the definition of equivalence for ordered pairs. The correct answer as per definition is 'b'.\n",
    "\n",
    "An equivalence relationship states the two points are homogenous vectors. Homogenous vectors are invariants with a multiplicative factor $\\lambda$. ie a point p = $\\lambda$ p where $\\lambda \\neq 0$. This does not guarantee uniqueness as p and -p are the same entity following projective transformation on passing through the origin (pin hole). This represents 'b'. \n",
    "\n",
    "In certain applications it will be useful to restrict the freedom of scaling and to distinguish between opposite directions, e.g., when reasoning about the left or the right side of an entity or when modelling a real camera: points always have to be located in front of a camera, and this needs to be reflected in the modelling. This leads to oriented entities whose representation is only invariant to the multiplication with a positive scalar. This represents the 'a'.\n",
    "\n",
    "The two points in $IR^3$ and the points in the equivalence relation form the projective space $IP^2$. \n",
    "\n",
    "A relation on a set $R^3$ is an equivalent relation if it indicates reflexive, transitive or symmetrical of two points.\n",
    "\n",
    "$\\lambda$ gives the scale of the direction of the point. Even for $\\lambda$ negative values, the equivalence relationship between two points in $R^3$ still holds.\n",
    "\n",
    "$\\lambda\\neq0$ because $[0, 0, 0]^T$ is excluded because it denotes the projection center of the projective space."
   ]
  },
  {
   "cell_type": "markdown",
   "metadata": {
    "deletable": false,
    "editable": false,
    "nbgrader": {
     "cell_type": "markdown",
     "checksum": "486b0f708c8c85829ceece87f2a5f7a4",
     "grade": false,
     "grade_id": "task3_description",
     "locked": true,
     "schema_version": 3,
     "solution": false,
     "task": false
    }
   },
   "source": [
    "## 3. The Cross Ratio under projections is invariant\n",
    "This figure illustrates a mapping from domain space IP1 (thick line) to target space IP1 (thick line) via a projective map (thin lines) intersecting in the focal point on the left. The points A,B,C,D get mapped to A‘,B‘,C‘,D‘ In the domain space we find those Points via a one dimensional coordinate called λ in taget space λ’ respcetively. For the definition of f see over next slide.\n",
    "\n",
    "<img src=\"./data/task_3_1.png\" width=\"400\"/>\n",
    "\n",
    "$\\textbf{Prove this equality!}$\n",
    "\n",
    "<img src=\"./data/task_3_2.png\" width=\"400\"/>\n",
    "\n",
    "### Finding $f(\\lambda): IP^1 \\rightarrow IP^1$\n",
    "From lecture slide 35 a projective map from $IP^1 \\rightarrow IP^1$ is a matrix  $H = \\begin{bmatrix} a & b \\\\c & d\\end{bmatrix}$(in 2D):\n",
    "\n",
    "$$\\begin{bmatrix}x\\\\y \\end{bmatrix} = \n",
    "\\begin{bmatrix}a & b\\\\\n",
    "               c & d\n",
    "\\end{bmatrix}\n",
    "\\begin{bmatrix}\n",
    "    x\\\\\n",
    "    y\n",
    "\\end{bmatrix} =\n",
    "\\begin{bmatrix}\n",
    "    ax + by\\\\\n",
    "    cx + dy\n",
    "\\end{bmatrix}\n",
    "$$ \n",
    "\n",
    "so in homogenous coordinate\n",
    "$\n",
    "\\begin{bmatrix}\n",
    "    x\\\\\n",
    "    1\n",
    "\\end{bmatrix}\n",
    "$\n",
    "is mapped to $\\begin{bmatrix}\n",
    "    ax+b\\\\\n",
    "    cx+d\n",
    "\\end{bmatrix}$ $\\sim \\begin{bmatrix} \\frac{ax+b}{cx+d} \\\\1\\end{bmatrix}$\n",
    "\n",
    "when looking at the first coordinate only:\n",
    "$$ f(x) = \\frac{ax+b}{cx+d}$$"
   ]
  },
  {
   "cell_type": "markdown",
   "metadata": {
    "deletable": false,
    "nbgrader": {
     "cell_type": "markdown",
     "checksum": "78818c0cda584edd4fe3e0042d46f00c",
     "grade": true,
     "grade_id": "task3",
     "locked": false,
     "points": 2,
     "schema_version": 3,
     "solution": true,
     "task": false
    }
   },
   "source": [
    "YOUR ANSWER HERE"
   ]
  },
  {
   "cell_type": "markdown",
   "metadata": {
    "deletable": false,
    "editable": false,
    "nbgrader": {
     "cell_type": "markdown",
     "checksum": "63e1d73f9479b3d15a32aa760559e5d5",
     "grade": false,
     "grade_id": "task4_description",
     "locked": true,
     "schema_version": 3,
     "solution": false,
     "task": false
    }
   },
   "source": [
    "## 4. Read and sum up (mindmap or alike):\n",
    "Appendix 23: Projective Geometry for Machine Vision (1992), by Joseph L. Mundy , Andrew Zisserman 23.1.-23.5"
   ]
  },
  {
   "cell_type": "markdown",
   "metadata": {
    "deletable": false,
    "nbgrader": {
     "cell_type": "markdown",
     "checksum": "41b273381b412ef70cb617cf45848367",
     "grade": true,
     "grade_id": "task4",
     "locked": false,
     "points": 2,
     "schema_version": 3,
     "solution": true,
     "task": false
    }
   },
   "source": [
    "<img src=\"./data/Projective Geometry for Machine Vision.jpg\"/>"
   ]
  },
  {
   "cell_type": "markdown",
   "metadata": {},
   "source": [
    "References:\n",
    "1. Förstner W., Wrobel B.P. Homogeneous Representations of Points, Lines and Planes. In: Photogrammetric Computer Vision. Geometry and Computing, vol 11. Springer, Cham. 2016. URL: http://www.ipb.uni-bonn.de/book-pcv/pdfs/PCV-A-sample-page.pdf.\n",
    "2. Essentials of Math, Accessed on: 11-04-2020 [Online], URL: https://www.youtube.com/watch?v=J3rBTzsxfYI.\n",
    "3. "
   ]
  }
 ],
 "metadata": {
  "kernelspec": {
   "display_name": "Python 3",
   "language": "python",
   "name": "python3"
  },
  "language_info": {
   "codemirror_mode": {
    "name": "ipython",
    "version": 3
   },
   "file_extension": ".py",
   "mimetype": "text/x-python",
   "name": "python",
   "nbconvert_exporter": "python",
   "pygments_lexer": "ipython3",
   "version": "3.5.2"
  },
  "nbTranslate": {
   "displayLangs": [
    "*"
   ],
   "hotkey": "alt-t",
   "langInMainMenu": true,
   "sourceLang": "en",
   "targetLang": "fr",
   "useGoogleTranslate": true
  }
 },
 "nbformat": 4,
 "nbformat_minor": 4
}
