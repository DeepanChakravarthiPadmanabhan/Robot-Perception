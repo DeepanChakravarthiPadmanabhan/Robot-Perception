{
 "cells": [
  {
   "cell_type": "markdown",
   "metadata": {
    "deletable": false,
    "editable": false,
    "nbgrader": {
     "cell_type": "markdown",
     "checksum": "91b7b0a896b30a25304885da2d4a7f4a",
     "grade": false,
     "grade_id": "header_info",
     "locked": true,
     "schema_version": 3,
     "solution": false,
     "task": false
    }
   },
   "source": [
    "<div class=\"alert alert-block alert-info\" >\n",
    "    <h1>Robot Perception</h1>\n",
    "    <h3>General Information:</h3>\n",
    "    <p>Please do not add or delete any cells. Answers belong into the corresponding cells (below the question). If a function is given (either as a signature or a full function), you should not change the name, arguments or return value of the function.<br><br> If you encounter empty cells underneath the answer that can not be edited, please ignore them, they are for testing purposes.<br><br>When editing an assignment there can be the case that there are variables in the kernel. To make sure your assignment works, please restart the kernel and run all cells before submitting (e.g. via <i>Kernel -> Restart & Run All</i>).</p>\n",
    "    <p>Code cells where you are supposed to give your answer often include the line  ```raise NotImplementedError```. This makes it easier to automatically grade answers. If you edit the cell please outcomment or delete this line.</p>\n",
    "    <br>The server resource is limited to 2 core cpu and 1GB RAM at max per user. If you use more than that, the kernel may die. Nevertheless, you can bring it up again by restaring the kernel (Kernel -> Restart and clear output).<br>\n",
    "    <h3>Submission:</h3>\n",
    "    <p>Please submit your notebook via the web interface (in the main view -> Assignments -> Submit). The assignments are due on <b>Monday at 0:00.</b> (i.e. Sunday 23:59 + 1 min)</p>\n",
    "    <h3>Group Work:</h3>\n",
    "    <p>You are allowed to work in groups of up to two people. Please enter the UID (your username here) of each member of the group into the next cell. We apply plagiarism checking, so do not submit solutions from other people except your team members. If an assignment has a copied solution, the task will be graded with 0 points for all people with the same solution.</p>\n",
    "    <p><b>YOU SHOULD ONLY SUBMIT EXACTLY ONE PER GROUP</b></p>\n",
    "    <h3>Questions about the Assignment:</h3>\n",
    "    <p>If you have questions about the assignment please post them in the LEA forum before the deadline. Don't wait until the last day to post questions.</p></div>"
   ]
  },
  {
   "cell_type": "markdown",
   "metadata": {
    "deletable": false,
    "editable": false,
    "nbgrader": {
     "cell_type": "markdown",
     "checksum": "1697fa5978ed6be7d5e3437192d36e34",
     "grade": false,
     "grade_id": "header_warning",
     "locked": true,
     "schema_version": 3,
     "solution": false,
     "task": false
    }
   },
   "source": [
    "<div class=\"alert alert-block alert-danger\">\n",
    "<p><b>Put your answer in the PROVIDED CELLS only!</b></p>\n",
    "<b>Any new cell is not visible during the grading.</b>\n",
    "<p>We provide additional code and markdown cells for each question, so that you do not have to add the new ones.</p>\n",
    "<p>Do not copy the metadata from one cell to another, it is unique to that cell only.</p></div>"
   ]
  },
  {
   "cell_type": "code",
   "execution_count": null,
   "metadata": {
    "deletable": false,
    "nbgrader": {
     "cell_type": "code",
     "checksum": "caafaf768e4fb1324ee877c98b22a717",
     "grade": false,
     "grade_id": "members",
     "locked": false,
     "schema_version": 3,
     "solution": true,
     "task": false
    }
   },
   "outputs": [],
   "source": [
    "'''\n",
    "Group Work:\n",
    "Enter the UID (i.e. student2s) of each team member into the variables. \n",
    "If you work alone please leave the second variable empty, or extend the list if necessary.\n",
    "'''\n",
    "member1 = ''\n",
    "member2 = ''"
   ]
  },
  {
   "cell_type": "markdown",
   "metadata": {
    "deletable": false,
    "editable": false,
    "nbgrader": {
     "cell_type": "markdown",
     "checksum": "cd958afe1307bb29eff829fd57fe6c2f",
     "grade": false,
     "grade_id": "qa_description",
     "locked": true,
     "schema_version": 3,
     "solution": false,
     "task": false
    }
   },
   "source": [
    "## Q&As: Pose three questions (and ans.) to last lecture, 3 Q&As per member [1 point]\n",
    "\n",
    "The format of the question and answer should be [Q1,A1,Q2,A2,Q3,A3,...,Qn,An], where Q1 is the question and A1 is the answer.<br>\n",
    "If you work in a group, the total of the Q&As is $3xn$, where $n$ is the total number of members.<br>\n",
    "\n",
    "Put your answer in the provided cell below!<br>\n",
    "If you work in a group, you can extend the provided Q&A template, but please use the same format:\n",
    "1. Q and A are separated by ONE $<$br$>$\n",
    "2. Q&A and other Q&As are separated by TWO $<$br$>$\n",
    "\n",
    "Or copy the provided format in the answer cell, and change the Q&A number.\n",
    "<br>\n",
    "Do not remove any markdown tag like $<$br$>$ in the answer cell."
   ]
  },
  {
   "cell_type": "markdown",
   "metadata": {
    "deletable": false,
    "nbgrader": {
     "cell_type": "markdown",
     "checksum": "be944ca59eecc924dddf4b293192b057",
     "grade": true,
     "grade_id": "qa",
     "locked": false,
     "points": 1,
     "schema_version": 3,
     "solution": true,
     "task": false
    }
   },
   "source": [
    "YOUR ANSWER HERE\n",
    "<br>\n",
    "Q1 = Your first question here!\n",
    "<br>\n",
    "A1 = Your Q1 answer here!\n",
    "<br>\n",
    "<br>\n",
    "Q2 = Your second question here!\n",
    "<br>\n",
    "A2 = Your Q2 answer here!\n",
    "<br>\n",
    "<br>\n",
    "Q3 = Your third question here!\n",
    "<br>\n",
    "A3 = Your Q3 answer here!\n",
    "<br>\n",
    "<br>\n",
    "Q4 = Your first question here!\n",
    "<br>\n",
    "A4 = Your Q1 answer here!\n",
    "<br>\n",
    "<br>\n",
    "Q5 = Your second question here!\n",
    "<br>\n",
    "A5 = Your Q2 answer here!\n",
    "<br>\n",
    "<br>\n",
    "Q6 = Your third question here!\n",
    "<br>\n",
    "A6 = Your Q3 answer here!\n",
    "<br>\n",
    "<br>\n",
    "Q7 = What are the assumptions in restricted camera estimation and why are they required?\n",
    "<br>\n",
    "A7 = The assumptions are:\n",
    "1. The skew s = 0\n",
    "2. The pixels are square ( $\\alpha_x = \\alpha_y$ )\n",
    "3. The principal point ($x_0, y_0$) is known\n",
    "4. K is completely known\n",
    "\n",
    "They are required as we do unconstrained camera calibration, we might get non-zero\n",
    "skew estimates and principal point estimates not present at the center of the image.\n",
    "<br>\n",
    "<br>\n",
    "Q8 = What is distortion and what are the types? \n",
    "<br>\n",
    "A8 = \n",
    "\n",
    "**Distortion**: The camera matrix does not account for lens distortion because an ideal pinhole camera does not have a lens. Cheap lenses (especially wide-angle lenses) introduce significant distortion into the image, so that the linear pinhole model no longer holds.To accurately represent a real camera, the camera model includes the radial and tangential lens distortion.\n",
    "1. **Radial distortion**: This distortion makes straight lines to appear as curved. Caused because light bends more near edges compared to optical center. Smaller lenses exhibit more radial distortions. The distortion is more pronounced when moving away from image center.\n",
    "\n",
    "2. **Tangential distortion**: This distortion occurs when the image and lens plane are not parallel to each other. This distortion makes some parts of image to appear nearer than other parts.\n",
    "<br>\n",
    "<br>\n",
    "\n",
    "Q9 = What are important terms in epipolar geometry?\n",
    "<br>\n",
    "A9 = \n",
    "\n",
    "1. **Epipole**: The epipole is the point of intersection of the baseline with the image plane.\n",
    "2. **Epipolar plane**: An epipolar plane is a plane containing the baseline.\n",
    "3. **Epipolar line**: An epipolar line is the intersection of an epipolar plane with one image plane. All epipolar lines intersect at the epipole."
   ]
  },
  {
   "cell_type": "code",
   "execution_count": null,
   "metadata": {
    "deletable": false,
    "nbgrader": {
     "cell_type": "code",
     "checksum": "d0b6c1da14318b49f932fcad0a3b460c",
     "grade": false,
     "grade_id": "time",
     "locked": false,
     "schema_version": 3,
     "solution": true,
     "task": false
    }
   },
   "outputs": [],
   "source": [
    "'''\n",
    "Put here the time required to solve the assignment per task as well as the sum.\n",
    "Extend the list if needed.\n",
    "'''\n",
    "\n",
    "Task1 = 0\n",
    "Task2 = 0\n",
    "Task3 = 0\n",
    "Sum = 0"
   ]
  },
  {
   "cell_type": "markdown",
   "metadata": {
    "deletable": false,
    "editable": false,
    "nbgrader": {
     "cell_type": "markdown",
     "checksum": "5aada0a1d28c450b3abab7dce0fd4c88",
     "grade": false,
     "grade_id": "task1_description",
     "locked": true,
     "schema_version": 3,
     "solution": false,
     "task": false
    }
   },
   "source": [
    "# Task1: Read Chapter 6.2 , 7.1, 7.2., 7.3 HZ, MVG. Hand in some summary, one per member.\n",
    "\n",
    "Hint: Use $<![title](image.jpg)>$ to include image so that nbformat can properly render the notebook to html , which you can see in your feedback."
   ]
  },
  {
   "cell_type": "markdown",
   "metadata": {
    "deletable": false,
    "nbgrader": {
     "cell_type": "markdown",
     "checksum": "a140c1abd5d57b1f87856e3eeb6fbe79",
     "grade": true,
     "grade_id": "task1",
     "locked": false,
     "points": 1,
     "schema_version": 3,
     "solution": true,
     "task": false
    }
   },
   "source": [
    "### Member1 summary (replace with your 2s account)\n",
    "---\n",
    "YOUR ANSWER HERE\n",
    "\n",
    "---\n",
    "\n",
    "### Member2 summary (replace with your 2s account)\n",
    "---\n",
    "YOUR ANSWER HERE\n",
    "\n",
    "---\n",
    "### smuthi2s summary (replace with your 2s account)\n",
    "---\n",
    "![smuthi2s_summary](smuthi2s_summary.png)\n",
    "\n",
    "---"
   ]
  },
  {
   "cell_type": "markdown",
   "metadata": {
    "deletable": false,
    "editable": false,
    "nbgrader": {
     "cell_type": "markdown",
     "checksum": "729c6e40279df3bd1839bd29340d69f1",
     "grade": false,
     "grade_id": "task2_description",
     "locked": true,
     "schema_version": 3,
     "solution": false,
     "task": false
    }
   },
   "source": [
    "# Task2: Solve the attached problem: Compute the length ratios of parallel scene \"Task-compute-the-length-ratios-of-parallel-scene-lines.pdf\", see the respective PDF file ."
   ]
  },
  {
   "cell_type": "code",
   "execution_count": 9,
   "metadata": {
    "deletable": false,
    "nbgrader": {
     "cell_type": "code",
     "checksum": "25ba32577e0b9be0eb028a80a47ca34a",
     "grade": true,
     "grade_id": "task2",
     "locked": false,
     "points": 3,
     "schema_version": 3,
     "solution": true,
     "task": false
    }
   },
   "outputs": [],
   "source": [
    "import numpy as np\n",
    "\n",
    "def embed_from_R2_to_P2(point):\n",
    "    '''\n",
    "    Function to embed a point from R2 into P2\n",
    "    parameters:\n",
    "        point: ndarray: A point in R2\n",
    "    return:\n",
    "        point: ndarray: A point in P2\n",
    "    '''\n",
    "    point_in_P2 = np.append(point,1)\n",
    "    return np.reshape(point_in_P2,(len(point_in_P2),1))\n",
    "\n",
    "def normalize_point(point):\n",
    "    '''\n",
    "    Function to normalize a given point in P2\n",
    "    parameters:\n",
    "        point: ndarray: A point in P2\n",
    "    return:\n",
    "        normalized point: ndarray: A normalized point in P2\n",
    "    '''\n",
    "    return point/point[-1]\n",
    "\n",
    "def cross_product(element1,element2):\n",
    "    '''\n",
    "    Function to find cross product of two vectors in P2\n",
    "    parameters:\n",
    "        element1: ndarray: element1/vector1 in P2\n",
    "        element2: ndarray: element2/vector2 in P2\n",
    "    return:\n",
    "        cross product: ndarray: cross product of element1 and element2 in P2\n",
    "    '''\n",
    "    return np.dot(span_skew_matrix(element1),element2)\n",
    "\n",
    "def check_p_on_L(point,line):\n",
    "    '''\n",
    "    Function to check whether given point lies on line.\n",
    "    parameters:\n",
    "        point: ndarray: A point in P2\n",
    "        line: ndarray: A line in P2\n",
    "    return:\n",
    "        bool: True or False for point on line\n",
    "    '''\n",
    "    if np.dot(point.T,line)==0:\n",
    "        return True\n",
    "    else:\n",
    "        return False\n",
    "    \n",
    "def span_skew_matrix(vector):\n",
    "    '''\n",
    "    Function to generate skew symmetric matrix from a given vector in P2\n",
    "    parameters:\n",
    "        vector: ndarray: A vector in P2\n",
    "    return:\n",
    "        skew_matrix: ndarray: skew symmetric matrix for given vector.\n",
    "    '''\n",
    "    skew_matrix = [[0,-vector[2],vector[1]],[vector[2],0,-vector[0]],[-vector[1],vector[0],0]]\n",
    "    return skew_matrix\n",
    "def generate_line(point1,point2):\n",
    "    '''\n",
    "    Function to generate line from given points\n",
    "    parameters:\n",
    "        point1: ndarray: A point in P2\n",
    "        point2:ndarray: A point in P2\n",
    "    return:\n",
    "        line: ndarray: A line in P2 formed by given two points\n",
    "    '''\n",
    "    return cross_product(point1,point2)\n",
    "\n",
    "def generate_point(line1,line2):\n",
    "    '''\n",
    "    Function to find intersection of two lines\n",
    "    parameters:\n",
    "        line1: ndarray: A line in P2\n",
    "        line2: ndarray: A line in P2\n",
    "    return:\n",
    "        point: ndarray: A point in P2 intersection ofgiven two lines\n",
    "    '''\n",
    "    return cross_product(line1,line2)\n",
    "\n",
    "def get_distance(point1,point2):\n",
    "    return np.linalg.norm(point1-point2)"
   ]
  },
  {
   "cell_type": "code",
   "execution_count": 25,
   "metadata": {
    "deletable": false,
    "nbgrader": {
     "cell_type": "code",
     "checksum": "6dd119b1487199beca927c3059b784cc",
     "grade": false,
     "grade_id": "task2_code1",
     "locked": false,
     "schema_version": 3,
     "solution": true,
     "task": false
    }
   },
   "outputs": [
    {
     "name": "stdout",
     "output_type": "stream",
     "text": [
      "0.9628138308605936\n",
      "0.9628138308605936\n"
     ]
    }
   ],
   "source": [
    "b1 = np.array([222,43])\n",
    "b2 = np.array([389,168])\n",
    "t1 = np.array([232,311])\n",
    "# t1_prime = np.array([344,340])\n",
    "t2 = np.array([331,391])\n",
    "v = np.array([247,713])\n",
    "# u = np.array([767,451])\n",
    "# u_prime = np.array([590,451])\n",
    "ground_plane_vanishing_line = np.array([0,0,1])\n",
    "\n",
    "\n",
    "\n",
    "\n",
    "b1_P2 = embed_from_R2_to_P2(b1)\n",
    "b2_P2 = embed_from_R2_to_P2(b2)\n",
    "t1_P2 = embed_from_R2_to_P2(t1)\n",
    "t2_P2 = embed_from_R2_to_P2(t2)\n",
    "v_P2 = embed_from_R2_to_P2(v)\n",
    "\n",
    "# calculating vanishing point u from line through b1 and b2, vanishing line\n",
    "line_through_b1_b2 = generate_line(b1_P2,b2_P2)\n",
    "u = generate_point(line_through_b1_b2,ground_plane_vanishing_line)\n",
    "\n",
    "# calculating transfer point ~t1 from intersection of lines through v,b2 and t1,u\n",
    "l2 = generate_line(v_P2,b2_P2)\n",
    "line_t1_u = generate_line(t1_P2,u)\n",
    "transferred_t1 = normalize_point(generate_point(line_t1_u,l2)) \n",
    "\n",
    "# representing points as distance from b2\n",
    "distance_b2 = get_distance(b2_P2,b2_P2)\n",
    "distance_transferred_t1 = get_distance(b2_P2,transferred_t1)\n",
    "distance_t2 = get_distance(b2_P2,t2_P2)\n",
    "distance_v = get_distance(b2_P2,v_P2)\n",
    "\n",
    "# Forming 1D homography matrix\n",
    "H_2_X_2 = np.array([[1,0],[1,-distance_v]])\n",
    "\n",
    "# distance ratio from book (~t1(v-t2)/t2(v-~t1))\n",
    "distance_ratio1 = (distance_transferred_t1*(distance_v-distance_t2))/(distance_t2*(distance_v-distance_transferred_t1))\n",
    "print(distance_ratio1)\n",
    "\n",
    "# calculating ratio from rectified parallel line point t1_hat and t2_hat\n",
    "t1_hat = np.dot(H_2_X_2,np.array([distance_transferred_t1,1]))\n",
    "t2_hat = np.dot(H_2_X_2,np.array([distance_t2,1]))\n",
    "\n",
    "distance_ratio2 = (t1_hat[0] * t2_hat[1]) / (t2_hat[0] * t1_hat[1])\n",
    "print(distance_ratio2)"
   ]
  },
  {
   "cell_type": "markdown",
   "metadata": {
    "deletable": false,
    "nbgrader": {
     "cell_type": "markdown",
     "checksum": "8475225a3deb90342c903788d146fd9e",
     "grade": true,
     "grade_id": "task2_md1",
     "locked": false,
     "points": 0,
     "schema_version": 3,
     "solution": true,
     "task": false
    }
   },
   "source": [
    "YOUR ANSWER HERE"
   ]
  },
  {
   "cell_type": "markdown",
   "metadata": {
    "deletable": false,
    "editable": false,
    "nbgrader": {
     "cell_type": "markdown",
     "checksum": "220170bc3bd95783a46c9386790bc00c",
     "grade": false,
     "grade_id": "task3_description",
     "locked": true,
     "schema_version": 3,
     "solution": false,
     "task": false
    }
   },
   "source": [
    "# Task3: Build the camera matrix P for your smartphone camera. Use CALTECH camera calibration toolbox or openCV with python wrapper.\n",
    "\n",
    "### Proceed as follows:\n",
    "#### a) Print a 2D calibration rig <br>\n",
    "Hint:\n",
    "\n",
    "*You need something which is chess board -like, so in principle it could be a REAL chessboard.*\n",
    "\n",
    "*You can use a big LCD screen with a chessboard on it! If you then use the HW specs of the screen, you can find the pixel pitch (i.e. the size of the \"smallest unit to display\" or simply the screen size in pixels. This then needs to be **scaled** to the **PHYSICAL size** of the screen (e.g. you take aspect ration of the screen AND the length of the diagonal).*\n",
    "\n",
    "*The larger the screen the better.*\n",
    "\n",
    "#### b) Take about 20 shots from the rig\n",
    "\n",
    "#### c) Run \"cameraCalibraton\", build the camera parameter class, print the content to a readable file, deliver the file\n",
    "\n",
    "#### d) Take some trial photos from objects / views s.t. lens distrotions are visible\n",
    "\n",
    "#### e) Undistort these photos using the camera parameter class"
   ]
  },
  {
   "cell_type": "code",
   "execution_count": null,
   "metadata": {
    "deletable": false,
    "nbgrader": {
     "cell_type": "code",
     "checksum": "7ebf8b27ea77494dc7d82f12cf222319",
     "grade": true,
     "grade_id": "task3",
     "locked": false,
     "points": 3,
     "schema_version": 3,
     "solution": true,
     "task": false
    }
   },
   "outputs": [],
   "source": [
    "# YOUR CODE HERE\n",
    "raise NotImplementedError()"
   ]
  },
  {
   "cell_type": "code",
   "execution_count": null,
   "metadata": {
    "deletable": false,
    "nbgrader": {
     "cell_type": "code",
     "checksum": "4b5dcc5d135e48abb1debf174cc14cef",
     "grade": false,
     "grade_id": "task3_code1",
     "locked": false,
     "schema_version": 3,
     "solution": true,
     "task": false
    }
   },
   "outputs": [],
   "source": [
    "# YOUR CODE HERE\n",
    "raise NotImplementedError()"
   ]
  },
  {
   "cell_type": "markdown",
   "metadata": {
    "deletable": false,
    "nbgrader": {
     "cell_type": "markdown",
     "checksum": "f0a35c91c5d9d213812b3cf2a94756a9",
     "grade": true,
     "grade_id": "task3_md1",
     "locked": false,
     "points": 0,
     "schema_version": 3,
     "solution": true,
     "task": false
    }
   },
   "source": [
    "YOUR ANSWER HERE"
   ]
  }
 ],
 "metadata": {
  "kernelspec": {
   "display_name": "Python 3",
   "language": "python",
   "name": "python3"
  },
  "language_info": {
   "codemirror_mode": {
    "name": "ipython",
    "version": 3
   },
   "file_extension": ".py",
   "mimetype": "text/x-python",
   "name": "python",
   "nbconvert_exporter": "python",
   "pygments_lexer": "ipython3",
   "version": "3.5.2"
  }
 },
 "nbformat": 4,
 "nbformat_minor": 4
}
