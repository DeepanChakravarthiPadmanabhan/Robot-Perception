{
 "cells": [
  {
   "cell_type": "markdown",
   "metadata": {
    "deletable": false,
    "editable": false,
    "nbgrader": {
     "cell_type": "markdown",
     "checksum": "91b7b0a896b30a25304885da2d4a7f4a",
     "grade": false,
     "grade_id": "header_info",
     "locked": true,
     "schema_version": 3,
     "solution": false,
     "task": false
    }
   },
   "source": [
    "<div class=\"alert alert-block alert-info\" >\n",
    "    <h1>Robot Perception</h1>\n",
    "    <h3>General Information:</h3>\n",
    "    <p>Please do not add or delete any cells. Answers belong into the corresponding cells (below the question). If a function is given (either as a signature or a full function), you should not change the name, arguments or return value of the function.<br><br> If you encounter empty cells underneath the answer that can not be edited, please ignore them, they are for testing purposes.<br><br>When editing an assignment there can be the case that there are variables in the kernel. To make sure your assignment works, please restart the kernel and run all cells before submitting (e.g. via <i>Kernel -> Restart & Run All</i>).</p>\n",
    "    <p>Code cells where you are supposed to give your answer often include the line  ```raise NotImplementedError```. This makes it easier to automatically grade answers. If you edit the cell please outcomment or delete this line.</p>\n",
    "    <br>The server resource is limited to 2 core cpu and 1GB RAM at max per user. If you use more than that, the kernel may die. Nevertheless, you can bring it up again by restaring the kernel (Kernel -> Restart and clear output).<br>\n",
    "    <h3>Submission:</h3>\n",
    "    <p>Please submit your notebook via the web interface (in the main view -> Assignments -> Submit). The assignments are due on <b>Monday at 0:00.</b> (i.e. Sunday 23:59 + 1 min)</p>\n",
    "    <h3>Group Work:</h3>\n",
    "    <p>You are allowed to work in groups of up to two people. Please enter the UID (your username here) of each member of the group into the next cell. We apply plagiarism checking, so do not submit solutions from other people except your team members. If an assignment has a copied solution, the task will be graded with 0 points for all people with the same solution.</p>\n",
    "    <p><b>YOU SHOULD ONLY SUBMIT EXACTLY ONE PER GROUP</b></p>\n",
    "    <h3>Questions about the Assignment:</h3>\n",
    "    <p>If you have questions about the assignment please post them in the LEA forum before the deadline. Don't wait until the last day to post questions.</p></div>"
   ]
  },
  {
   "cell_type": "markdown",
   "metadata": {
    "deletable": false,
    "editable": false,
    "nbgrader": {
     "cell_type": "markdown",
     "checksum": "1697fa5978ed6be7d5e3437192d36e34",
     "grade": false,
     "grade_id": "header_warning",
     "locked": true,
     "schema_version": 3,
     "solution": false,
     "task": false
    }
   },
   "source": [
    "<div class=\"alert alert-block alert-danger\">\n",
    "<p><b>Put your answer in the PROVIDED CELLS only!</b></p>\n",
    "<b>Any new cell is not visible during the grading.</b>\n",
    "<p>We provide additional code and markdown cells for each question, so that you do not have to add the new ones.</p>\n",
    "<p>Do not copy the metadata from one cell to another, it is unique to that cell only.</p></div>"
   ]
  },
  {
   "cell_type": "code",
   "execution_count": null,
   "metadata": {
    "deletable": false,
    "nbgrader": {
     "cell_type": "code",
     "checksum": "caafaf768e4fb1324ee877c98b22a717",
     "grade": false,
     "grade_id": "members",
     "locked": false,
     "schema_version": 3,
     "solution": true,
     "task": false
    }
   },
   "outputs": [],
   "source": [
    "'''\n",
    "Group Work:\n",
    "Enter the UID (i.e. student2s) of each team member into the variables. \n",
    "If you work alone please leave the second variable empty, or extend the list if necessary.\n",
    "'''\n",
    "member1 = ''\n",
    "member2 = ''"
   ]
  },
  {
   "cell_type": "markdown",
   "metadata": {
    "deletable": false,
    "editable": false,
    "nbgrader": {
     "cell_type": "markdown",
     "checksum": "cd958afe1307bb29eff829fd57fe6c2f",
     "grade": false,
     "grade_id": "qa_description",
     "locked": true,
     "schema_version": 3,
     "solution": false,
     "task": false
    }
   },
   "source": [
    "## Q&As: Pose three questions (and ans.) to last lecture, 3 Q&As per member [1 point]\n",
    "\n",
    "The format of the question and answer should be [Q1,A1,Q2,A2,Q3,A3,...,Qn,An], where Q1 is the question and A1 is the answer.<br>\n",
    "If you work in a group, the total of the Q&As is $3xn$, where $n$ is the total number of members.<br>\n",
    "\n",
    "Put your answer in the provided cell below!<br>\n",
    "If you work in a group, you can extend the provided Q&A template, but please use the same format:\n",
    "1. Q and A are separated by ONE $<$br$>$\n",
    "2. Q&A and other Q&As are separated by TWO $<$br$>$\n",
    "\n",
    "Or copy the provided format in the answer cell, and change the Q&A number.\n",
    "<br>\n",
    "Do not remove any markdown tag like $<$br$>$ in the answer cell."
   ]
  },
  {
   "cell_type": "markdown",
   "metadata": {
    "deletable": false,
    "nbgrader": {
     "cell_type": "markdown",
     "checksum": "be944ca59eecc924dddf4b293192b057",
     "grade": true,
     "grade_id": "qa",
     "locked": false,
     "points": 1,
     "schema_version": 3,
     "solution": true,
     "task": false
    }
   },
   "source": [
    "YOUR ANSWER HERE\n",
    "<br>\n",
    "Q1 = Your first question here!\n",
    "<br>\n",
    "A1 = Your Q1 answer here!\n",
    "<br>\n",
    "<br>\n",
    "Q2 = Your second question here!\n",
    "<br>\n",
    "A2 = Your Q2 answer here!\n",
    "<br>\n",
    "<br>\n",
    "Q3 = Your third question here!\n",
    "<br>\n",
    "A3 = Your Q3 answer here!"
   ]
  },
  {
   "cell_type": "code",
   "execution_count": null,
   "metadata": {
    "deletable": false,
    "nbgrader": {
     "cell_type": "code",
     "checksum": "3ea0f541c2d4d9e7c8609857fd031449",
     "grade": false,
     "grade_id": "time",
     "locked": false,
     "schema_version": 3,
     "solution": true,
     "task": false
    }
   },
   "outputs": [],
   "source": [
    "'''\n",
    "Put here the time required to solve the assignment per task as well as the sum.\n",
    "Extend the list if needed.\n",
    "'''\n",
    "\n",
    "Task1 = 0\n",
    "Task2 = 0\n",
    "Sum = 0"
   ]
  },
  {
   "cell_type": "markdown",
   "metadata": {
    "deletable": false,
    "editable": false,
    "nbgrader": {
     "cell_type": "markdown",
     "checksum": "c306dcf611e48421b29fd79ef9debdb8",
     "grade": false,
     "grade_id": "task1_description",
     "locked": true,
     "schema_version": 3,
     "solution": false,
     "task": false
    }
   },
   "source": [
    "# Task 1 : Build small method library for points in $\\mathbb{R}^2$ and $\\mathbb{P}^2$\n",
    "\n",
    "Write a small \"library\" (or class) which supports the following methods:\n",
    "\n",
    "- embed a point from $\\mathbb{R}^2$ into $\\mathbb{P}^2$\n",
    "- normalize a point from $\\mathbb{P}^2$\n",
    "- check if a point $p$ is on a line $L$\n",
    "- given two points $p_1,p_2$ generate the line $L$ between them\n",
    "- given two lines $L_1,L_2$ generate the intersection point $p$ between them\n",
    "- implement the cross product in form of a matrix multiplication $[...]_{x}$\n",
    "\n",
    "Use as test case points which you find in file \"ConstructLines.pdf\""
   ]
  },
  {
   "cell_type": "code",
   "execution_count": null,
   "metadata": {
    "deletable": false,
    "nbgrader": {
     "cell_type": "code",
     "checksum": "c6180722f59fcb28efa9483e42ca7e4a",
     "grade": true,
     "grade_id": "task1",
     "locked": false,
     "points": 2,
     "schema_version": 3,
     "solution": true,
     "task": false
    }
   },
   "outputs": [],
   "source": [
    "# YOUR CODE HERE\n",
    "raise NotImplementedError()"
   ]
  },
  {
   "cell_type": "markdown",
   "metadata": {
    "deletable": false,
    "nbgrader": {
     "cell_type": "markdown",
     "checksum": "2dade55778df86d2802edec088abf0a7",
     "grade": true,
     "grade_id": "task1_md1",
     "locked": false,
     "points": 0,
     "schema_version": 3,
     "solution": true,
     "task": false
    }
   },
   "source": [
    "YOUR ANSWER HERE"
   ]
  },
  {
   "cell_type": "markdown",
   "metadata": {
    "deletable": false,
    "editable": false,
    "nbgrader": {
     "cell_type": "markdown",
     "checksum": "bea06c4681dd54bc5b372e516b8f6f23",
     "grade": false,
     "grade_id": "task2_description",
     "locked": true,
     "schema_version": 3,
     "solution": false,
     "task": false
    }
   },
   "source": [
    "# Task 2 : H from matching line segments\n",
    "\n",
    "Marking matching points in two images $Img_1$ and $Img_2$ ($Img_2$ is a \"displaced\" version of $Img_1$) is difficult, since placing a mark EXACTLY on a matching spot (i.e. hit the exact point) is in general difficult (just try it out and you'll see).\n",
    "\n",
    "Thus a more stable method is: use matching LINE segemsnts instead (e.g. check the files ***\"shelf???withLines.jpg\"***). Now the question is: can we rephrase the basic DLT (which produces a homography $H$ from $Img_1$ to $Img_2$) in such a way that it uses line segements INSTEAD of matching points?\n",
    "\n",
    "Answer: yes, we can.\n",
    "\n",
    "![matching_line_segments](img/image1.png)\n",
    "\n",
    "---\n",
    "\n",
    "\n",
    "Hint (NB: all formulas from Task 1 are very helpful) ::\n",
    "\n",
    "1. Let line $L_{j,i}$ ($j=1,2$ and $i=1,2,3,4$) be in image $Img_j$ ($j=1,2$), and let each $L_{j,i}$ be delimited by a start / end point pair $PS_{j,i}$ and $PE_{j,i}$ ($i=1,2,3,4$) in $I_j$.<br>\n",
    "(note: these start / end points on $L_{1,*}$ in image  $I_1$ are ***NOT*** matching to the start/ end point pairs\n",
    "delimiting $L_{2,*}$, ONLY the full lines $L_{1,i}$ as such are matching $L_{2,i}$)\n",
    "2. Take the two start/end point pairs $PS_{1,i},PE_{1,i}\\ and\\  PS_{2,i},PE_{2,i}$ in homogenous form then build from the matching lines $L_{1,i}$ and $L_{2,i}$ (note: express all point as homogeneous points, express the needed cross product as matrix multiplication)\n",
    "3. Use the fact that if some point $P_x$ lies on $L_1$ then $HP_x$ lies on $L_2$. This holds for all start and end points. Write $H$ as a 9 dimensional column vector $\\left[ h_{11},h_{12},...,h_{32}, h_{33} \\right]^T$ by reordering all equations w.r.t. to the unknow $h_{ij}$\n",
    "4. For each start / end point pair you get two equations, which may be stacked. Four point pairs make a stack of 8 equations in 9 unknowns.\n",
    "5. Python program the solution of these equations by the standard techniques presented in semester 1.\n",
    "6. Test your implementation on my shelf images and the point lists provided in the respective csv files \n",
    "\n",
    "![shelf0](img/shelf0straightwithLines.jpg)\n",
    "![shelf1](img/shelfrrstraightwithLines.jpg)"
   ]
  },
  {
   "cell_type": "code",
   "execution_count": null,
   "metadata": {
    "deletable": false,
    "nbgrader": {
     "cell_type": "code",
     "checksum": "413b26d0b25a2ae77a8d41e3fa428599",
     "grade": true,
     "grade_id": "task2",
     "locked": false,
     "points": 3,
     "schema_version": 3,
     "solution": true,
     "task": false
    }
   },
   "outputs": [],
   "source": [
    "import pandas as pd\n",
    "\n",
    "shelf0_with_line = pd.read_csv(\"shelf0straightwithLinesPoints.csv\")\n",
    "shelfrr_with_line = pd.read_csv(\"shelfrrstraightwithLinesPoints.csv\")\n",
    "\n",
    "# YOUR CODE HERE\n",
    "raise NotImplementedError()"
   ]
  },
  {
   "cell_type": "code",
   "execution_count": null,
   "metadata": {
    "deletable": false,
    "nbgrader": {
     "cell_type": "code",
     "checksum": "6dd119b1487199beca927c3059b784cc",
     "grade": false,
     "grade_id": "task2_code1",
     "locked": false,
     "schema_version": 3,
     "solution": true,
     "task": false
    }
   },
   "outputs": [],
   "source": [
    "# YOUR CODE HERE\n",
    "raise NotImplementedError()"
   ]
  },
  {
   "cell_type": "markdown",
   "metadata": {
    "deletable": false,
    "nbgrader": {
     "cell_type": "markdown",
     "checksum": "8475225a3deb90342c903788d146fd9e",
     "grade": true,
     "grade_id": "task2_md1",
     "locked": false,
     "points": 0,
     "schema_version": 3,
     "solution": true,
     "task": false
    }
   },
   "source": [
    "YOUR ANSWER HERE"
   ]
  }
 ],
 "metadata": {
  "kernelspec": {
   "display_name": "Python 3",
   "language": "python",
   "name": "python3"
  },
  "language_info": {
   "codemirror_mode": {
    "name": "ipython",
    "version": 3
   },
   "file_extension": ".py",
   "mimetype": "text/x-python",
   "name": "python",
   "nbconvert_exporter": "python",
   "pygments_lexer": "ipython3",
   "version": "3.7.4"
  },
  "latex_envs": {
   "LaTeX_envs_menu_present": true,
   "autoclose": false,
   "autocomplete": true,
   "bibliofile": "biblio.bib",
   "cite_by": "apalike",
   "current_citInitial": 1,
   "eqLabelWithNumbers": true,
   "eqNumInitial": 1,
   "hotkeys": {
    "equation": "Ctrl-E",
    "itemize": "Ctrl-I"
   },
   "labels_anchors": false,
   "latex_user_defs": false,
   "report_style_numbering": false,
   "user_envs_cfg": false
  },
  "nbTranslate": {
   "displayLangs": [
    "de",
    "en"
   ],
   "hotkey": "alt-t",
   "langInMainMenu": true,
   "sourceLang": "en",
   "targetLang": "de",
   "useGoogleTranslate": true
  }
 },
 "nbformat": 4,
 "nbformat_minor": 2
}
